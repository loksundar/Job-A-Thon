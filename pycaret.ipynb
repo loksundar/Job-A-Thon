{
 "cells": [
  {
   "cell_type": "code",
   "execution_count": 2,
   "metadata": {},
   "outputs": [],
   "source": [
    "import numpy as np\n",
    "import pandas as pd\n"
   ]
  },
  {
   "cell_type": "code",
   "execution_count": 3,
   "metadata": {},
   "outputs": [],
   "source": [
    "df=pd.read_csv('imputedtrain.csv')\n",
    "test=pd.read_csv('imputedtest.csv')"
   ]
  },
  {
   "cell_type": "code",
   "execution_count": 4,
   "metadata": {},
   "outputs": [],
   "source": [
    "for i in df.columns:\n",
    "    df[i] = df[i].astype('float64')"
   ]
  },
  {
   "cell_type": "code",
   "execution_count": 5,
   "metadata": {},
   "outputs": [
    {
     "data": {
      "text/plain": [
       "ID                         float64\n",
       "City_Code                  float64\n",
       "Region_Code                float64\n",
       "Accomodation_Type          float64\n",
       "Reco_Insurance_Type        float64\n",
       "Lower_Age                  float64\n",
       "Is_Spouse                  float64\n",
       "Health Indicator           float64\n",
       "Holding_Policy_Duration    float64\n",
       "Holding_Policy_Type        float64\n",
       "Reco_Policy_Cat            float64\n",
       "Reco_Policy_Premium        float64\n",
       "Response                   float64\n",
       "dtype: object"
      ]
     },
     "execution_count": 5,
     "metadata": {},
     "output_type": "execute_result"
    }
   ],
   "source": [
    "df.dtypes"
   ]
  },
  {
   "cell_type": "code",
   "execution_count": 7,
   "metadata": {},
   "outputs": [
    {
     "data": {
      "text/html": [
       "<style  type=\"text/css\" >\n",
       "    #T_1eb8ec21_7a55_11eb_8669_94b86da6f553row57_col1 {\n",
       "            background-color:  lightgreen;\n",
       "        }</style><table id=\"T_1eb8ec21_7a55_11eb_8669_94b86da6f553\" ><thead>    <tr>        <th class=\"blank level0\" ></th>        <th class=\"col_heading level0 col0\" >Description</th>        <th class=\"col_heading level0 col1\" >Value</th>    </tr></thead><tbody>\n",
       "                <tr>\n",
       "                        <th id=\"T_1eb8ec21_7a55_11eb_8669_94b86da6f553level0_row0\" class=\"row_heading level0 row0\" >0</th>\n",
       "                        <td id=\"T_1eb8ec21_7a55_11eb_8669_94b86da6f553row0_col0\" class=\"data row0 col0\" >session_id</td>\n",
       "                        <td id=\"T_1eb8ec21_7a55_11eb_8669_94b86da6f553row0_col1\" class=\"data row0 col1\" >123</td>\n",
       "            </tr>\n",
       "            <tr>\n",
       "                        <th id=\"T_1eb8ec21_7a55_11eb_8669_94b86da6f553level0_row1\" class=\"row_heading level0 row1\" >1</th>\n",
       "                        <td id=\"T_1eb8ec21_7a55_11eb_8669_94b86da6f553row1_col0\" class=\"data row1 col0\" >Target</td>\n",
       "                        <td id=\"T_1eb8ec21_7a55_11eb_8669_94b86da6f553row1_col1\" class=\"data row1 col1\" >Response</td>\n",
       "            </tr>\n",
       "            <tr>\n",
       "                        <th id=\"T_1eb8ec21_7a55_11eb_8669_94b86da6f553level0_row2\" class=\"row_heading level0 row2\" >2</th>\n",
       "                        <td id=\"T_1eb8ec21_7a55_11eb_8669_94b86da6f553row2_col0\" class=\"data row2 col0\" >Target Type</td>\n",
       "                        <td id=\"T_1eb8ec21_7a55_11eb_8669_94b86da6f553row2_col1\" class=\"data row2 col1\" >Binary</td>\n",
       "            </tr>\n",
       "            <tr>\n",
       "                        <th id=\"T_1eb8ec21_7a55_11eb_8669_94b86da6f553level0_row3\" class=\"row_heading level0 row3\" >3</th>\n",
       "                        <td id=\"T_1eb8ec21_7a55_11eb_8669_94b86da6f553row3_col0\" class=\"data row3 col0\" >Label Encoded</td>\n",
       "                        <td id=\"T_1eb8ec21_7a55_11eb_8669_94b86da6f553row3_col1\" class=\"data row3 col1\" >0.0: 0, 1.0: 1</td>\n",
       "            </tr>\n",
       "            <tr>\n",
       "                        <th id=\"T_1eb8ec21_7a55_11eb_8669_94b86da6f553level0_row4\" class=\"row_heading level0 row4\" >4</th>\n",
       "                        <td id=\"T_1eb8ec21_7a55_11eb_8669_94b86da6f553row4_col0\" class=\"data row4 col0\" >Original Data</td>\n",
       "                        <td id=\"T_1eb8ec21_7a55_11eb_8669_94b86da6f553row4_col1\" class=\"data row4 col1\" >(50882, 11)</td>\n",
       "            </tr>\n",
       "            <tr>\n",
       "                        <th id=\"T_1eb8ec21_7a55_11eb_8669_94b86da6f553level0_row5\" class=\"row_heading level0 row5\" >5</th>\n",
       "                        <td id=\"T_1eb8ec21_7a55_11eb_8669_94b86da6f553row5_col0\" class=\"data row5 col0\" >Missing Values</td>\n",
       "                        <td id=\"T_1eb8ec21_7a55_11eb_8669_94b86da6f553row5_col1\" class=\"data row5 col1\" >False</td>\n",
       "            </tr>\n",
       "            <tr>\n",
       "                        <th id=\"T_1eb8ec21_7a55_11eb_8669_94b86da6f553level0_row6\" class=\"row_heading level0 row6\" >6</th>\n",
       "                        <td id=\"T_1eb8ec21_7a55_11eb_8669_94b86da6f553row6_col0\" class=\"data row6 col0\" >Numeric Features</td>\n",
       "                        <td id=\"T_1eb8ec21_7a55_11eb_8669_94b86da6f553row6_col1\" class=\"data row6 col1\" >7</td>\n",
       "            </tr>\n",
       "            <tr>\n",
       "                        <th id=\"T_1eb8ec21_7a55_11eb_8669_94b86da6f553level0_row7\" class=\"row_heading level0 row7\" >7</th>\n",
       "                        <td id=\"T_1eb8ec21_7a55_11eb_8669_94b86da6f553row7_col0\" class=\"data row7 col0\" >Categorical Features</td>\n",
       "                        <td id=\"T_1eb8ec21_7a55_11eb_8669_94b86da6f553row7_col1\" class=\"data row7 col1\" >3</td>\n",
       "            </tr>\n",
       "            <tr>\n",
       "                        <th id=\"T_1eb8ec21_7a55_11eb_8669_94b86da6f553level0_row8\" class=\"row_heading level0 row8\" >8</th>\n",
       "                        <td id=\"T_1eb8ec21_7a55_11eb_8669_94b86da6f553row8_col0\" class=\"data row8 col0\" >Ordinal Features</td>\n",
       "                        <td id=\"T_1eb8ec21_7a55_11eb_8669_94b86da6f553row8_col1\" class=\"data row8 col1\" >False</td>\n",
       "            </tr>\n",
       "            <tr>\n",
       "                        <th id=\"T_1eb8ec21_7a55_11eb_8669_94b86da6f553level0_row9\" class=\"row_heading level0 row9\" >9</th>\n",
       "                        <td id=\"T_1eb8ec21_7a55_11eb_8669_94b86da6f553row9_col0\" class=\"data row9 col0\" >High Cardinality Features</td>\n",
       "                        <td id=\"T_1eb8ec21_7a55_11eb_8669_94b86da6f553row9_col1\" class=\"data row9 col1\" >False</td>\n",
       "            </tr>\n",
       "            <tr>\n",
       "                        <th id=\"T_1eb8ec21_7a55_11eb_8669_94b86da6f553level0_row10\" class=\"row_heading level0 row10\" >10</th>\n",
       "                        <td id=\"T_1eb8ec21_7a55_11eb_8669_94b86da6f553row10_col0\" class=\"data row10 col0\" >High Cardinality Method</td>\n",
       "                        <td id=\"T_1eb8ec21_7a55_11eb_8669_94b86da6f553row10_col1\" class=\"data row10 col1\" >None</td>\n",
       "            </tr>\n",
       "            <tr>\n",
       "                        <th id=\"T_1eb8ec21_7a55_11eb_8669_94b86da6f553level0_row11\" class=\"row_heading level0 row11\" >11</th>\n",
       "                        <td id=\"T_1eb8ec21_7a55_11eb_8669_94b86da6f553row11_col0\" class=\"data row11 col0\" >Transformed Train Set</td>\n",
       "                        <td id=\"T_1eb8ec21_7a55_11eb_8669_94b86da6f553row11_col1\" class=\"data row11 col1\" >(35617, 10)</td>\n",
       "            </tr>\n",
       "            <tr>\n",
       "                        <th id=\"T_1eb8ec21_7a55_11eb_8669_94b86da6f553level0_row12\" class=\"row_heading level0 row12\" >12</th>\n",
       "                        <td id=\"T_1eb8ec21_7a55_11eb_8669_94b86da6f553row12_col0\" class=\"data row12 col0\" >Transformed Test Set</td>\n",
       "                        <td id=\"T_1eb8ec21_7a55_11eb_8669_94b86da6f553row12_col1\" class=\"data row12 col1\" >(15265, 10)</td>\n",
       "            </tr>\n",
       "            <tr>\n",
       "                        <th id=\"T_1eb8ec21_7a55_11eb_8669_94b86da6f553level0_row13\" class=\"row_heading level0 row13\" >13</th>\n",
       "                        <td id=\"T_1eb8ec21_7a55_11eb_8669_94b86da6f553row13_col0\" class=\"data row13 col0\" >Shuffle Train-Test</td>\n",
       "                        <td id=\"T_1eb8ec21_7a55_11eb_8669_94b86da6f553row13_col1\" class=\"data row13 col1\" >True</td>\n",
       "            </tr>\n",
       "            <tr>\n",
       "                        <th id=\"T_1eb8ec21_7a55_11eb_8669_94b86da6f553level0_row14\" class=\"row_heading level0 row14\" >14</th>\n",
       "                        <td id=\"T_1eb8ec21_7a55_11eb_8669_94b86da6f553row14_col0\" class=\"data row14 col0\" >Stratify Train-Test</td>\n",
       "                        <td id=\"T_1eb8ec21_7a55_11eb_8669_94b86da6f553row14_col1\" class=\"data row14 col1\" >False</td>\n",
       "            </tr>\n",
       "            <tr>\n",
       "                        <th id=\"T_1eb8ec21_7a55_11eb_8669_94b86da6f553level0_row15\" class=\"row_heading level0 row15\" >15</th>\n",
       "                        <td id=\"T_1eb8ec21_7a55_11eb_8669_94b86da6f553row15_col0\" class=\"data row15 col0\" >Fold Generator</td>\n",
       "                        <td id=\"T_1eb8ec21_7a55_11eb_8669_94b86da6f553row15_col1\" class=\"data row15 col1\" >StratifiedKFold</td>\n",
       "            </tr>\n",
       "            <tr>\n",
       "                        <th id=\"T_1eb8ec21_7a55_11eb_8669_94b86da6f553level0_row16\" class=\"row_heading level0 row16\" >16</th>\n",
       "                        <td id=\"T_1eb8ec21_7a55_11eb_8669_94b86da6f553row16_col0\" class=\"data row16 col0\" >Fold Number</td>\n",
       "                        <td id=\"T_1eb8ec21_7a55_11eb_8669_94b86da6f553row16_col1\" class=\"data row16 col1\" >10</td>\n",
       "            </tr>\n",
       "            <tr>\n",
       "                        <th id=\"T_1eb8ec21_7a55_11eb_8669_94b86da6f553level0_row17\" class=\"row_heading level0 row17\" >17</th>\n",
       "                        <td id=\"T_1eb8ec21_7a55_11eb_8669_94b86da6f553row17_col0\" class=\"data row17 col0\" >CPU Jobs</td>\n",
       "                        <td id=\"T_1eb8ec21_7a55_11eb_8669_94b86da6f553row17_col1\" class=\"data row17 col1\" >-1</td>\n",
       "            </tr>\n",
       "            <tr>\n",
       "                        <th id=\"T_1eb8ec21_7a55_11eb_8669_94b86da6f553level0_row18\" class=\"row_heading level0 row18\" >18</th>\n",
       "                        <td id=\"T_1eb8ec21_7a55_11eb_8669_94b86da6f553row18_col0\" class=\"data row18 col0\" >Use GPU</td>\n",
       "                        <td id=\"T_1eb8ec21_7a55_11eb_8669_94b86da6f553row18_col1\" class=\"data row18 col1\" >False</td>\n",
       "            </tr>\n",
       "            <tr>\n",
       "                        <th id=\"T_1eb8ec21_7a55_11eb_8669_94b86da6f553level0_row19\" class=\"row_heading level0 row19\" >19</th>\n",
       "                        <td id=\"T_1eb8ec21_7a55_11eb_8669_94b86da6f553row19_col0\" class=\"data row19 col0\" >Log Experiment</td>\n",
       "                        <td id=\"T_1eb8ec21_7a55_11eb_8669_94b86da6f553row19_col1\" class=\"data row19 col1\" >False</td>\n",
       "            </tr>\n",
       "            <tr>\n",
       "                        <th id=\"T_1eb8ec21_7a55_11eb_8669_94b86da6f553level0_row20\" class=\"row_heading level0 row20\" >20</th>\n",
       "                        <td id=\"T_1eb8ec21_7a55_11eb_8669_94b86da6f553row20_col0\" class=\"data row20 col0\" >Experiment Name</td>\n",
       "                        <td id=\"T_1eb8ec21_7a55_11eb_8669_94b86da6f553row20_col1\" class=\"data row20 col1\" >clf-default-name</td>\n",
       "            </tr>\n",
       "            <tr>\n",
       "                        <th id=\"T_1eb8ec21_7a55_11eb_8669_94b86da6f553level0_row21\" class=\"row_heading level0 row21\" >21</th>\n",
       "                        <td id=\"T_1eb8ec21_7a55_11eb_8669_94b86da6f553row21_col0\" class=\"data row21 col0\" >USI</td>\n",
       "                        <td id=\"T_1eb8ec21_7a55_11eb_8669_94b86da6f553row21_col1\" class=\"data row21 col1\" >3450</td>\n",
       "            </tr>\n",
       "            <tr>\n",
       "                        <th id=\"T_1eb8ec21_7a55_11eb_8669_94b86da6f553level0_row22\" class=\"row_heading level0 row22\" >22</th>\n",
       "                        <td id=\"T_1eb8ec21_7a55_11eb_8669_94b86da6f553row22_col0\" class=\"data row22 col0\" >Imputation Type</td>\n",
       "                        <td id=\"T_1eb8ec21_7a55_11eb_8669_94b86da6f553row22_col1\" class=\"data row22 col1\" >simple</td>\n",
       "            </tr>\n",
       "            <tr>\n",
       "                        <th id=\"T_1eb8ec21_7a55_11eb_8669_94b86da6f553level0_row23\" class=\"row_heading level0 row23\" >23</th>\n",
       "                        <td id=\"T_1eb8ec21_7a55_11eb_8669_94b86da6f553row23_col0\" class=\"data row23 col0\" >Iterative Imputation Iteration</td>\n",
       "                        <td id=\"T_1eb8ec21_7a55_11eb_8669_94b86da6f553row23_col1\" class=\"data row23 col1\" >None</td>\n",
       "            </tr>\n",
       "            <tr>\n",
       "                        <th id=\"T_1eb8ec21_7a55_11eb_8669_94b86da6f553level0_row24\" class=\"row_heading level0 row24\" >24</th>\n",
       "                        <td id=\"T_1eb8ec21_7a55_11eb_8669_94b86da6f553row24_col0\" class=\"data row24 col0\" >Numeric Imputer</td>\n",
       "                        <td id=\"T_1eb8ec21_7a55_11eb_8669_94b86da6f553row24_col1\" class=\"data row24 col1\" >mean</td>\n",
       "            </tr>\n",
       "            <tr>\n",
       "                        <th id=\"T_1eb8ec21_7a55_11eb_8669_94b86da6f553level0_row25\" class=\"row_heading level0 row25\" >25</th>\n",
       "                        <td id=\"T_1eb8ec21_7a55_11eb_8669_94b86da6f553row25_col0\" class=\"data row25 col0\" >Iterative Imputation Numeric Model</td>\n",
       "                        <td id=\"T_1eb8ec21_7a55_11eb_8669_94b86da6f553row25_col1\" class=\"data row25 col1\" >None</td>\n",
       "            </tr>\n",
       "            <tr>\n",
       "                        <th id=\"T_1eb8ec21_7a55_11eb_8669_94b86da6f553level0_row26\" class=\"row_heading level0 row26\" >26</th>\n",
       "                        <td id=\"T_1eb8ec21_7a55_11eb_8669_94b86da6f553row26_col0\" class=\"data row26 col0\" >Categorical Imputer</td>\n",
       "                        <td id=\"T_1eb8ec21_7a55_11eb_8669_94b86da6f553row26_col1\" class=\"data row26 col1\" >constant</td>\n",
       "            </tr>\n",
       "            <tr>\n",
       "                        <th id=\"T_1eb8ec21_7a55_11eb_8669_94b86da6f553level0_row27\" class=\"row_heading level0 row27\" >27</th>\n",
       "                        <td id=\"T_1eb8ec21_7a55_11eb_8669_94b86da6f553row27_col0\" class=\"data row27 col0\" >Iterative Imputation Categorical Model</td>\n",
       "                        <td id=\"T_1eb8ec21_7a55_11eb_8669_94b86da6f553row27_col1\" class=\"data row27 col1\" >None</td>\n",
       "            </tr>\n",
       "            <tr>\n",
       "                        <th id=\"T_1eb8ec21_7a55_11eb_8669_94b86da6f553level0_row28\" class=\"row_heading level0 row28\" >28</th>\n",
       "                        <td id=\"T_1eb8ec21_7a55_11eb_8669_94b86da6f553row28_col0\" class=\"data row28 col0\" >Unknown Categoricals Handling</td>\n",
       "                        <td id=\"T_1eb8ec21_7a55_11eb_8669_94b86da6f553row28_col1\" class=\"data row28 col1\" >least_frequent</td>\n",
       "            </tr>\n",
       "            <tr>\n",
       "                        <th id=\"T_1eb8ec21_7a55_11eb_8669_94b86da6f553level0_row29\" class=\"row_heading level0 row29\" >29</th>\n",
       "                        <td id=\"T_1eb8ec21_7a55_11eb_8669_94b86da6f553row29_col0\" class=\"data row29 col0\" >Normalize</td>\n",
       "                        <td id=\"T_1eb8ec21_7a55_11eb_8669_94b86da6f553row29_col1\" class=\"data row29 col1\" >False</td>\n",
       "            </tr>\n",
       "            <tr>\n",
       "                        <th id=\"T_1eb8ec21_7a55_11eb_8669_94b86da6f553level0_row30\" class=\"row_heading level0 row30\" >30</th>\n",
       "                        <td id=\"T_1eb8ec21_7a55_11eb_8669_94b86da6f553row30_col0\" class=\"data row30 col0\" >Normalize Method</td>\n",
       "                        <td id=\"T_1eb8ec21_7a55_11eb_8669_94b86da6f553row30_col1\" class=\"data row30 col1\" >None</td>\n",
       "            </tr>\n",
       "            <tr>\n",
       "                        <th id=\"T_1eb8ec21_7a55_11eb_8669_94b86da6f553level0_row31\" class=\"row_heading level0 row31\" >31</th>\n",
       "                        <td id=\"T_1eb8ec21_7a55_11eb_8669_94b86da6f553row31_col0\" class=\"data row31 col0\" >Transformation</td>\n",
       "                        <td id=\"T_1eb8ec21_7a55_11eb_8669_94b86da6f553row31_col1\" class=\"data row31 col1\" >False</td>\n",
       "            </tr>\n",
       "            <tr>\n",
       "                        <th id=\"T_1eb8ec21_7a55_11eb_8669_94b86da6f553level0_row32\" class=\"row_heading level0 row32\" >32</th>\n",
       "                        <td id=\"T_1eb8ec21_7a55_11eb_8669_94b86da6f553row32_col0\" class=\"data row32 col0\" >Transformation Method</td>\n",
       "                        <td id=\"T_1eb8ec21_7a55_11eb_8669_94b86da6f553row32_col1\" class=\"data row32 col1\" >None</td>\n",
       "            </tr>\n",
       "            <tr>\n",
       "                        <th id=\"T_1eb8ec21_7a55_11eb_8669_94b86da6f553level0_row33\" class=\"row_heading level0 row33\" >33</th>\n",
       "                        <td id=\"T_1eb8ec21_7a55_11eb_8669_94b86da6f553row33_col0\" class=\"data row33 col0\" >PCA</td>\n",
       "                        <td id=\"T_1eb8ec21_7a55_11eb_8669_94b86da6f553row33_col1\" class=\"data row33 col1\" >False</td>\n",
       "            </tr>\n",
       "            <tr>\n",
       "                        <th id=\"T_1eb8ec21_7a55_11eb_8669_94b86da6f553level0_row34\" class=\"row_heading level0 row34\" >34</th>\n",
       "                        <td id=\"T_1eb8ec21_7a55_11eb_8669_94b86da6f553row34_col0\" class=\"data row34 col0\" >PCA Method</td>\n",
       "                        <td id=\"T_1eb8ec21_7a55_11eb_8669_94b86da6f553row34_col1\" class=\"data row34 col1\" >None</td>\n",
       "            </tr>\n",
       "            <tr>\n",
       "                        <th id=\"T_1eb8ec21_7a55_11eb_8669_94b86da6f553level0_row35\" class=\"row_heading level0 row35\" >35</th>\n",
       "                        <td id=\"T_1eb8ec21_7a55_11eb_8669_94b86da6f553row35_col0\" class=\"data row35 col0\" >PCA Components</td>\n",
       "                        <td id=\"T_1eb8ec21_7a55_11eb_8669_94b86da6f553row35_col1\" class=\"data row35 col1\" >None</td>\n",
       "            </tr>\n",
       "            <tr>\n",
       "                        <th id=\"T_1eb8ec21_7a55_11eb_8669_94b86da6f553level0_row36\" class=\"row_heading level0 row36\" >36</th>\n",
       "                        <td id=\"T_1eb8ec21_7a55_11eb_8669_94b86da6f553row36_col0\" class=\"data row36 col0\" >Ignore Low Variance</td>\n",
       "                        <td id=\"T_1eb8ec21_7a55_11eb_8669_94b86da6f553row36_col1\" class=\"data row36 col1\" >False</td>\n",
       "            </tr>\n",
       "            <tr>\n",
       "                        <th id=\"T_1eb8ec21_7a55_11eb_8669_94b86da6f553level0_row37\" class=\"row_heading level0 row37\" >37</th>\n",
       "                        <td id=\"T_1eb8ec21_7a55_11eb_8669_94b86da6f553row37_col0\" class=\"data row37 col0\" >Combine Rare Levels</td>\n",
       "                        <td id=\"T_1eb8ec21_7a55_11eb_8669_94b86da6f553row37_col1\" class=\"data row37 col1\" >False</td>\n",
       "            </tr>\n",
       "            <tr>\n",
       "                        <th id=\"T_1eb8ec21_7a55_11eb_8669_94b86da6f553level0_row38\" class=\"row_heading level0 row38\" >38</th>\n",
       "                        <td id=\"T_1eb8ec21_7a55_11eb_8669_94b86da6f553row38_col0\" class=\"data row38 col0\" >Rare Level Threshold</td>\n",
       "                        <td id=\"T_1eb8ec21_7a55_11eb_8669_94b86da6f553row38_col1\" class=\"data row38 col1\" >None</td>\n",
       "            </tr>\n",
       "            <tr>\n",
       "                        <th id=\"T_1eb8ec21_7a55_11eb_8669_94b86da6f553level0_row39\" class=\"row_heading level0 row39\" >39</th>\n",
       "                        <td id=\"T_1eb8ec21_7a55_11eb_8669_94b86da6f553row39_col0\" class=\"data row39 col0\" >Numeric Binning</td>\n",
       "                        <td id=\"T_1eb8ec21_7a55_11eb_8669_94b86da6f553row39_col1\" class=\"data row39 col1\" >False</td>\n",
       "            </tr>\n",
       "            <tr>\n",
       "                        <th id=\"T_1eb8ec21_7a55_11eb_8669_94b86da6f553level0_row40\" class=\"row_heading level0 row40\" >40</th>\n",
       "                        <td id=\"T_1eb8ec21_7a55_11eb_8669_94b86da6f553row40_col0\" class=\"data row40 col0\" >Remove Outliers</td>\n",
       "                        <td id=\"T_1eb8ec21_7a55_11eb_8669_94b86da6f553row40_col1\" class=\"data row40 col1\" >False</td>\n",
       "            </tr>\n",
       "            <tr>\n",
       "                        <th id=\"T_1eb8ec21_7a55_11eb_8669_94b86da6f553level0_row41\" class=\"row_heading level0 row41\" >41</th>\n",
       "                        <td id=\"T_1eb8ec21_7a55_11eb_8669_94b86da6f553row41_col0\" class=\"data row41 col0\" >Outliers Threshold</td>\n",
       "                        <td id=\"T_1eb8ec21_7a55_11eb_8669_94b86da6f553row41_col1\" class=\"data row41 col1\" >None</td>\n",
       "            </tr>\n",
       "            <tr>\n",
       "                        <th id=\"T_1eb8ec21_7a55_11eb_8669_94b86da6f553level0_row42\" class=\"row_heading level0 row42\" >42</th>\n",
       "                        <td id=\"T_1eb8ec21_7a55_11eb_8669_94b86da6f553row42_col0\" class=\"data row42 col0\" >Remove Multicollinearity</td>\n",
       "                        <td id=\"T_1eb8ec21_7a55_11eb_8669_94b86da6f553row42_col1\" class=\"data row42 col1\" >False</td>\n",
       "            </tr>\n",
       "            <tr>\n",
       "                        <th id=\"T_1eb8ec21_7a55_11eb_8669_94b86da6f553level0_row43\" class=\"row_heading level0 row43\" >43</th>\n",
       "                        <td id=\"T_1eb8ec21_7a55_11eb_8669_94b86da6f553row43_col0\" class=\"data row43 col0\" >Multicollinearity Threshold</td>\n",
       "                        <td id=\"T_1eb8ec21_7a55_11eb_8669_94b86da6f553row43_col1\" class=\"data row43 col1\" >None</td>\n",
       "            </tr>\n",
       "            <tr>\n",
       "                        <th id=\"T_1eb8ec21_7a55_11eb_8669_94b86da6f553level0_row44\" class=\"row_heading level0 row44\" >44</th>\n",
       "                        <td id=\"T_1eb8ec21_7a55_11eb_8669_94b86da6f553row44_col0\" class=\"data row44 col0\" >Clustering</td>\n",
       "                        <td id=\"T_1eb8ec21_7a55_11eb_8669_94b86da6f553row44_col1\" class=\"data row44 col1\" >False</td>\n",
       "            </tr>\n",
       "            <tr>\n",
       "                        <th id=\"T_1eb8ec21_7a55_11eb_8669_94b86da6f553level0_row45\" class=\"row_heading level0 row45\" >45</th>\n",
       "                        <td id=\"T_1eb8ec21_7a55_11eb_8669_94b86da6f553row45_col0\" class=\"data row45 col0\" >Clustering Iteration</td>\n",
       "                        <td id=\"T_1eb8ec21_7a55_11eb_8669_94b86da6f553row45_col1\" class=\"data row45 col1\" >None</td>\n",
       "            </tr>\n",
       "            <tr>\n",
       "                        <th id=\"T_1eb8ec21_7a55_11eb_8669_94b86da6f553level0_row46\" class=\"row_heading level0 row46\" >46</th>\n",
       "                        <td id=\"T_1eb8ec21_7a55_11eb_8669_94b86da6f553row46_col0\" class=\"data row46 col0\" >Polynomial Features</td>\n",
       "                        <td id=\"T_1eb8ec21_7a55_11eb_8669_94b86da6f553row46_col1\" class=\"data row46 col1\" >False</td>\n",
       "            </tr>\n",
       "            <tr>\n",
       "                        <th id=\"T_1eb8ec21_7a55_11eb_8669_94b86da6f553level0_row47\" class=\"row_heading level0 row47\" >47</th>\n",
       "                        <td id=\"T_1eb8ec21_7a55_11eb_8669_94b86da6f553row47_col0\" class=\"data row47 col0\" >Polynomial Degree</td>\n",
       "                        <td id=\"T_1eb8ec21_7a55_11eb_8669_94b86da6f553row47_col1\" class=\"data row47 col1\" >None</td>\n",
       "            </tr>\n",
       "            <tr>\n",
       "                        <th id=\"T_1eb8ec21_7a55_11eb_8669_94b86da6f553level0_row48\" class=\"row_heading level0 row48\" >48</th>\n",
       "                        <td id=\"T_1eb8ec21_7a55_11eb_8669_94b86da6f553row48_col0\" class=\"data row48 col0\" >Trignometry Features</td>\n",
       "                        <td id=\"T_1eb8ec21_7a55_11eb_8669_94b86da6f553row48_col1\" class=\"data row48 col1\" >False</td>\n",
       "            </tr>\n",
       "            <tr>\n",
       "                        <th id=\"T_1eb8ec21_7a55_11eb_8669_94b86da6f553level0_row49\" class=\"row_heading level0 row49\" >49</th>\n",
       "                        <td id=\"T_1eb8ec21_7a55_11eb_8669_94b86da6f553row49_col0\" class=\"data row49 col0\" >Polynomial Threshold</td>\n",
       "                        <td id=\"T_1eb8ec21_7a55_11eb_8669_94b86da6f553row49_col1\" class=\"data row49 col1\" >None</td>\n",
       "            </tr>\n",
       "            <tr>\n",
       "                        <th id=\"T_1eb8ec21_7a55_11eb_8669_94b86da6f553level0_row50\" class=\"row_heading level0 row50\" >50</th>\n",
       "                        <td id=\"T_1eb8ec21_7a55_11eb_8669_94b86da6f553row50_col0\" class=\"data row50 col0\" >Group Features</td>\n",
       "                        <td id=\"T_1eb8ec21_7a55_11eb_8669_94b86da6f553row50_col1\" class=\"data row50 col1\" >False</td>\n",
       "            </tr>\n",
       "            <tr>\n",
       "                        <th id=\"T_1eb8ec21_7a55_11eb_8669_94b86da6f553level0_row51\" class=\"row_heading level0 row51\" >51</th>\n",
       "                        <td id=\"T_1eb8ec21_7a55_11eb_8669_94b86da6f553row51_col0\" class=\"data row51 col0\" >Feature Selection</td>\n",
       "                        <td id=\"T_1eb8ec21_7a55_11eb_8669_94b86da6f553row51_col1\" class=\"data row51 col1\" >False</td>\n",
       "            </tr>\n",
       "            <tr>\n",
       "                        <th id=\"T_1eb8ec21_7a55_11eb_8669_94b86da6f553level0_row52\" class=\"row_heading level0 row52\" >52</th>\n",
       "                        <td id=\"T_1eb8ec21_7a55_11eb_8669_94b86da6f553row52_col0\" class=\"data row52 col0\" >Feature Selection Method</td>\n",
       "                        <td id=\"T_1eb8ec21_7a55_11eb_8669_94b86da6f553row52_col1\" class=\"data row52 col1\" >classic</td>\n",
       "            </tr>\n",
       "            <tr>\n",
       "                        <th id=\"T_1eb8ec21_7a55_11eb_8669_94b86da6f553level0_row53\" class=\"row_heading level0 row53\" >53</th>\n",
       "                        <td id=\"T_1eb8ec21_7a55_11eb_8669_94b86da6f553row53_col0\" class=\"data row53 col0\" >Features Selection Threshold</td>\n",
       "                        <td id=\"T_1eb8ec21_7a55_11eb_8669_94b86da6f553row53_col1\" class=\"data row53 col1\" >None</td>\n",
       "            </tr>\n",
       "            <tr>\n",
       "                        <th id=\"T_1eb8ec21_7a55_11eb_8669_94b86da6f553level0_row54\" class=\"row_heading level0 row54\" >54</th>\n",
       "                        <td id=\"T_1eb8ec21_7a55_11eb_8669_94b86da6f553row54_col0\" class=\"data row54 col0\" >Feature Interaction</td>\n",
       "                        <td id=\"T_1eb8ec21_7a55_11eb_8669_94b86da6f553row54_col1\" class=\"data row54 col1\" >False</td>\n",
       "            </tr>\n",
       "            <tr>\n",
       "                        <th id=\"T_1eb8ec21_7a55_11eb_8669_94b86da6f553level0_row55\" class=\"row_heading level0 row55\" >55</th>\n",
       "                        <td id=\"T_1eb8ec21_7a55_11eb_8669_94b86da6f553row55_col0\" class=\"data row55 col0\" >Feature Ratio</td>\n",
       "                        <td id=\"T_1eb8ec21_7a55_11eb_8669_94b86da6f553row55_col1\" class=\"data row55 col1\" >False</td>\n",
       "            </tr>\n",
       "            <tr>\n",
       "                        <th id=\"T_1eb8ec21_7a55_11eb_8669_94b86da6f553level0_row56\" class=\"row_heading level0 row56\" >56</th>\n",
       "                        <td id=\"T_1eb8ec21_7a55_11eb_8669_94b86da6f553row56_col0\" class=\"data row56 col0\" >Interaction Threshold</td>\n",
       "                        <td id=\"T_1eb8ec21_7a55_11eb_8669_94b86da6f553row56_col1\" class=\"data row56 col1\" >None</td>\n",
       "            </tr>\n",
       "            <tr>\n",
       "                        <th id=\"T_1eb8ec21_7a55_11eb_8669_94b86da6f553level0_row57\" class=\"row_heading level0 row57\" >57</th>\n",
       "                        <td id=\"T_1eb8ec21_7a55_11eb_8669_94b86da6f553row57_col0\" class=\"data row57 col0\" >Fix Imbalance</td>\n",
       "                        <td id=\"T_1eb8ec21_7a55_11eb_8669_94b86da6f553row57_col1\" class=\"data row57 col1\" >True</td>\n",
       "            </tr>\n",
       "            <tr>\n",
       "                        <th id=\"T_1eb8ec21_7a55_11eb_8669_94b86da6f553level0_row58\" class=\"row_heading level0 row58\" >58</th>\n",
       "                        <td id=\"T_1eb8ec21_7a55_11eb_8669_94b86da6f553row58_col0\" class=\"data row58 col0\" >Fix Imbalance Method</td>\n",
       "                        <td id=\"T_1eb8ec21_7a55_11eb_8669_94b86da6f553row58_col1\" class=\"data row58 col1\" >SMOTE</td>\n",
       "            </tr>\n",
       "    </tbody></table>"
      ],
      "text/plain": [
       "<pandas.io.formats.style.Styler at 0x1d866430160>"
      ]
     },
     "metadata": {},
     "output_type": "display_data"
    }
   ],
   "source": [
    "from pycaret.classification import *\n",
    "setting_up = setup(data = df.drop(['ID','Region_Code'],axis=1), target = 'Response', session_id=123,fix_imbalance =True)"
   ]
  },
  {
   "cell_type": "code",
   "execution_count": 18,
   "metadata": {},
   "outputs": [
    {
     "data": {
      "text/html": [
       "<style  type=\"text/css\" >\n",
       "    #T_a8842041_79ef_11eb_9ab7_94b86da6f553 th {\n",
       "          text-align: left;\n",
       "    }    #T_a8842041_79ef_11eb_9ab7_94b86da6f553row0_col0 {\n",
       "            text-align:  left;\n",
       "            text-align:  left;\n",
       "        }    #T_a8842041_79ef_11eb_9ab7_94b86da6f553row0_col1 {\n",
       "            text-align:  left;\n",
       "            text-align:  left;\n",
       "            background-color:  yellow;\n",
       "        }    #T_a8842041_79ef_11eb_9ab7_94b86da6f553row0_col2 {\n",
       "            text-align:  left;\n",
       "            text-align:  left;\n",
       "            : ;\n",
       "        }    #T_a8842041_79ef_11eb_9ab7_94b86da6f553row0_col3 {\n",
       "            text-align:  left;\n",
       "            text-align:  left;\n",
       "            : ;\n",
       "        }    #T_a8842041_79ef_11eb_9ab7_94b86da6f553row0_col4 {\n",
       "            text-align:  left;\n",
       "            text-align:  left;\n",
       "            background-color:  yellow;\n",
       "        }    #T_a8842041_79ef_11eb_9ab7_94b86da6f553row0_col5 {\n",
       "            text-align:  left;\n",
       "            text-align:  left;\n",
       "            : ;\n",
       "        }    #T_a8842041_79ef_11eb_9ab7_94b86da6f553row0_col6 {\n",
       "            text-align:  left;\n",
       "            text-align:  left;\n",
       "            : ;\n",
       "        }    #T_a8842041_79ef_11eb_9ab7_94b86da6f553row0_col7 {\n",
       "            text-align:  left;\n",
       "            text-align:  left;\n",
       "            : ;\n",
       "        }    #T_a8842041_79ef_11eb_9ab7_94b86da6f553row0_col8 {\n",
       "            text-align:  left;\n",
       "            text-align:  left;\n",
       "            : ;\n",
       "            background-color:  lightgrey;\n",
       "        }    #T_a8842041_79ef_11eb_9ab7_94b86da6f553row1_col0 {\n",
       "            text-align:  left;\n",
       "            text-align:  left;\n",
       "        }    #T_a8842041_79ef_11eb_9ab7_94b86da6f553row1_col1 {\n",
       "            text-align:  left;\n",
       "            text-align:  left;\n",
       "            : ;\n",
       "        }    #T_a8842041_79ef_11eb_9ab7_94b86da6f553row1_col2 {\n",
       "            text-align:  left;\n",
       "            text-align:  left;\n",
       "            background-color:  yellow;\n",
       "        }    #T_a8842041_79ef_11eb_9ab7_94b86da6f553row1_col3 {\n",
       "            text-align:  left;\n",
       "            text-align:  left;\n",
       "            : ;\n",
       "        }    #T_a8842041_79ef_11eb_9ab7_94b86da6f553row1_col4 {\n",
       "            text-align:  left;\n",
       "            text-align:  left;\n",
       "            : ;\n",
       "        }    #T_a8842041_79ef_11eb_9ab7_94b86da6f553row1_col5 {\n",
       "            text-align:  left;\n",
       "            text-align:  left;\n",
       "            : ;\n",
       "        }    #T_a8842041_79ef_11eb_9ab7_94b86da6f553row1_col6 {\n",
       "            text-align:  left;\n",
       "            text-align:  left;\n",
       "            : ;\n",
       "        }    #T_a8842041_79ef_11eb_9ab7_94b86da6f553row1_col7 {\n",
       "            text-align:  left;\n",
       "            text-align:  left;\n",
       "            : ;\n",
       "        }    #T_a8842041_79ef_11eb_9ab7_94b86da6f553row1_col8 {\n",
       "            text-align:  left;\n",
       "            text-align:  left;\n",
       "            : ;\n",
       "            background-color:  lightgrey;\n",
       "        }    #T_a8842041_79ef_11eb_9ab7_94b86da6f553row2_col0 {\n",
       "            text-align:  left;\n",
       "            text-align:  left;\n",
       "        }    #T_a8842041_79ef_11eb_9ab7_94b86da6f553row2_col1 {\n",
       "            text-align:  left;\n",
       "            text-align:  left;\n",
       "            : ;\n",
       "        }    #T_a8842041_79ef_11eb_9ab7_94b86da6f553row2_col2 {\n",
       "            text-align:  left;\n",
       "            text-align:  left;\n",
       "            : ;\n",
       "        }    #T_a8842041_79ef_11eb_9ab7_94b86da6f553row2_col3 {\n",
       "            text-align:  left;\n",
       "            text-align:  left;\n",
       "            : ;\n",
       "        }    #T_a8842041_79ef_11eb_9ab7_94b86da6f553row2_col4 {\n",
       "            text-align:  left;\n",
       "            text-align:  left;\n",
       "            : ;\n",
       "        }    #T_a8842041_79ef_11eb_9ab7_94b86da6f553row2_col5 {\n",
       "            text-align:  left;\n",
       "            text-align:  left;\n",
       "            : ;\n",
       "        }    #T_a8842041_79ef_11eb_9ab7_94b86da6f553row2_col6 {\n",
       "            text-align:  left;\n",
       "            text-align:  left;\n",
       "            : ;\n",
       "        }    #T_a8842041_79ef_11eb_9ab7_94b86da6f553row2_col7 {\n",
       "            text-align:  left;\n",
       "            text-align:  left;\n",
       "            : ;\n",
       "        }    #T_a8842041_79ef_11eb_9ab7_94b86da6f553row2_col8 {\n",
       "            text-align:  left;\n",
       "            text-align:  left;\n",
       "            : ;\n",
       "            background-color:  lightgrey;\n",
       "        }    #T_a8842041_79ef_11eb_9ab7_94b86da6f553row3_col0 {\n",
       "            text-align:  left;\n",
       "            text-align:  left;\n",
       "        }    #T_a8842041_79ef_11eb_9ab7_94b86da6f553row3_col1 {\n",
       "            text-align:  left;\n",
       "            text-align:  left;\n",
       "            : ;\n",
       "        }    #T_a8842041_79ef_11eb_9ab7_94b86da6f553row3_col2 {\n",
       "            text-align:  left;\n",
       "            text-align:  left;\n",
       "            : ;\n",
       "        }    #T_a8842041_79ef_11eb_9ab7_94b86da6f553row3_col3 {\n",
       "            text-align:  left;\n",
       "            text-align:  left;\n",
       "            : ;\n",
       "        }    #T_a8842041_79ef_11eb_9ab7_94b86da6f553row3_col4 {\n",
       "            text-align:  left;\n",
       "            text-align:  left;\n",
       "            : ;\n",
       "        }    #T_a8842041_79ef_11eb_9ab7_94b86da6f553row3_col5 {\n",
       "            text-align:  left;\n",
       "            text-align:  left;\n",
       "            : ;\n",
       "        }    #T_a8842041_79ef_11eb_9ab7_94b86da6f553row3_col6 {\n",
       "            text-align:  left;\n",
       "            text-align:  left;\n",
       "            : ;\n",
       "        }    #T_a8842041_79ef_11eb_9ab7_94b86da6f553row3_col7 {\n",
       "            text-align:  left;\n",
       "            text-align:  left;\n",
       "            : ;\n",
       "        }    #T_a8842041_79ef_11eb_9ab7_94b86da6f553row3_col8 {\n",
       "            text-align:  left;\n",
       "            text-align:  left;\n",
       "            background-color:  yellow;\n",
       "            background-color:  lightgrey;\n",
       "        }    #T_a8842041_79ef_11eb_9ab7_94b86da6f553row4_col0 {\n",
       "            text-align:  left;\n",
       "            text-align:  left;\n",
       "        }    #T_a8842041_79ef_11eb_9ab7_94b86da6f553row4_col1 {\n",
       "            text-align:  left;\n",
       "            text-align:  left;\n",
       "            : ;\n",
       "        }    #T_a8842041_79ef_11eb_9ab7_94b86da6f553row4_col2 {\n",
       "            text-align:  left;\n",
       "            text-align:  left;\n",
       "            : ;\n",
       "        }    #T_a8842041_79ef_11eb_9ab7_94b86da6f553row4_col3 {\n",
       "            text-align:  left;\n",
       "            text-align:  left;\n",
       "            : ;\n",
       "        }    #T_a8842041_79ef_11eb_9ab7_94b86da6f553row4_col4 {\n",
       "            text-align:  left;\n",
       "            text-align:  left;\n",
       "            : ;\n",
       "        }    #T_a8842041_79ef_11eb_9ab7_94b86da6f553row4_col5 {\n",
       "            text-align:  left;\n",
       "            text-align:  left;\n",
       "            : ;\n",
       "        }    #T_a8842041_79ef_11eb_9ab7_94b86da6f553row4_col6 {\n",
       "            text-align:  left;\n",
       "            text-align:  left;\n",
       "            : ;\n",
       "        }    #T_a8842041_79ef_11eb_9ab7_94b86da6f553row4_col7 {\n",
       "            text-align:  left;\n",
       "            text-align:  left;\n",
       "            : ;\n",
       "        }    #T_a8842041_79ef_11eb_9ab7_94b86da6f553row4_col8 {\n",
       "            text-align:  left;\n",
       "            text-align:  left;\n",
       "            : ;\n",
       "            background-color:  lightgrey;\n",
       "        }    #T_a8842041_79ef_11eb_9ab7_94b86da6f553row5_col0 {\n",
       "            text-align:  left;\n",
       "            text-align:  left;\n",
       "        }    #T_a8842041_79ef_11eb_9ab7_94b86da6f553row5_col1 {\n",
       "            text-align:  left;\n",
       "            text-align:  left;\n",
       "            : ;\n",
       "        }    #T_a8842041_79ef_11eb_9ab7_94b86da6f553row5_col2 {\n",
       "            text-align:  left;\n",
       "            text-align:  left;\n",
       "            : ;\n",
       "        }    #T_a8842041_79ef_11eb_9ab7_94b86da6f553row5_col3 {\n",
       "            text-align:  left;\n",
       "            text-align:  left;\n",
       "            : ;\n",
       "        }    #T_a8842041_79ef_11eb_9ab7_94b86da6f553row5_col4 {\n",
       "            text-align:  left;\n",
       "            text-align:  left;\n",
       "            : ;\n",
       "        }    #T_a8842041_79ef_11eb_9ab7_94b86da6f553row5_col5 {\n",
       "            text-align:  left;\n",
       "            text-align:  left;\n",
       "            : ;\n",
       "        }    #T_a8842041_79ef_11eb_9ab7_94b86da6f553row5_col6 {\n",
       "            text-align:  left;\n",
       "            text-align:  left;\n",
       "            : ;\n",
       "        }    #T_a8842041_79ef_11eb_9ab7_94b86da6f553row5_col7 {\n",
       "            text-align:  left;\n",
       "            text-align:  left;\n",
       "            : ;\n",
       "        }    #T_a8842041_79ef_11eb_9ab7_94b86da6f553row5_col8 {\n",
       "            text-align:  left;\n",
       "            text-align:  left;\n",
       "            : ;\n",
       "            background-color:  lightgrey;\n",
       "        }    #T_a8842041_79ef_11eb_9ab7_94b86da6f553row6_col0 {\n",
       "            text-align:  left;\n",
       "            text-align:  left;\n",
       "        }    #T_a8842041_79ef_11eb_9ab7_94b86da6f553row6_col1 {\n",
       "            text-align:  left;\n",
       "            text-align:  left;\n",
       "            : ;\n",
       "        }    #T_a8842041_79ef_11eb_9ab7_94b86da6f553row6_col2 {\n",
       "            text-align:  left;\n",
       "            text-align:  left;\n",
       "            : ;\n",
       "        }    #T_a8842041_79ef_11eb_9ab7_94b86da6f553row6_col3 {\n",
       "            text-align:  left;\n",
       "            text-align:  left;\n",
       "            : ;\n",
       "        }    #T_a8842041_79ef_11eb_9ab7_94b86da6f553row6_col4 {\n",
       "            text-align:  left;\n",
       "            text-align:  left;\n",
       "            : ;\n",
       "        }    #T_a8842041_79ef_11eb_9ab7_94b86da6f553row6_col5 {\n",
       "            text-align:  left;\n",
       "            text-align:  left;\n",
       "            : ;\n",
       "        }    #T_a8842041_79ef_11eb_9ab7_94b86da6f553row6_col6 {\n",
       "            text-align:  left;\n",
       "            text-align:  left;\n",
       "            : ;\n",
       "        }    #T_a8842041_79ef_11eb_9ab7_94b86da6f553row6_col7 {\n",
       "            text-align:  left;\n",
       "            text-align:  left;\n",
       "            : ;\n",
       "        }    #T_a8842041_79ef_11eb_9ab7_94b86da6f553row6_col8 {\n",
       "            text-align:  left;\n",
       "            text-align:  left;\n",
       "            : ;\n",
       "            background-color:  lightgrey;\n",
       "        }    #T_a8842041_79ef_11eb_9ab7_94b86da6f553row7_col0 {\n",
       "            text-align:  left;\n",
       "            text-align:  left;\n",
       "        }    #T_a8842041_79ef_11eb_9ab7_94b86da6f553row7_col1 {\n",
       "            text-align:  left;\n",
       "            text-align:  left;\n",
       "            : ;\n",
       "        }    #T_a8842041_79ef_11eb_9ab7_94b86da6f553row7_col2 {\n",
       "            text-align:  left;\n",
       "            text-align:  left;\n",
       "            : ;\n",
       "        }    #T_a8842041_79ef_11eb_9ab7_94b86da6f553row7_col3 {\n",
       "            text-align:  left;\n",
       "            text-align:  left;\n",
       "            : ;\n",
       "        }    #T_a8842041_79ef_11eb_9ab7_94b86da6f553row7_col4 {\n",
       "            text-align:  left;\n",
       "            text-align:  left;\n",
       "            : ;\n",
       "        }    #T_a8842041_79ef_11eb_9ab7_94b86da6f553row7_col5 {\n",
       "            text-align:  left;\n",
       "            text-align:  left;\n",
       "            : ;\n",
       "        }    #T_a8842041_79ef_11eb_9ab7_94b86da6f553row7_col6 {\n",
       "            text-align:  left;\n",
       "            text-align:  left;\n",
       "            : ;\n",
       "        }    #T_a8842041_79ef_11eb_9ab7_94b86da6f553row7_col7 {\n",
       "            text-align:  left;\n",
       "            text-align:  left;\n",
       "            : ;\n",
       "        }    #T_a8842041_79ef_11eb_9ab7_94b86da6f553row7_col8 {\n",
       "            text-align:  left;\n",
       "            text-align:  left;\n",
       "            : ;\n",
       "            background-color:  lightgrey;\n",
       "        }    #T_a8842041_79ef_11eb_9ab7_94b86da6f553row8_col0 {\n",
       "            text-align:  left;\n",
       "            text-align:  left;\n",
       "        }    #T_a8842041_79ef_11eb_9ab7_94b86da6f553row8_col1 {\n",
       "            text-align:  left;\n",
       "            text-align:  left;\n",
       "            : ;\n",
       "        }    #T_a8842041_79ef_11eb_9ab7_94b86da6f553row8_col2 {\n",
       "            text-align:  left;\n",
       "            text-align:  left;\n",
       "            : ;\n",
       "        }    #T_a8842041_79ef_11eb_9ab7_94b86da6f553row8_col3 {\n",
       "            text-align:  left;\n",
       "            text-align:  left;\n",
       "            : ;\n",
       "        }    #T_a8842041_79ef_11eb_9ab7_94b86da6f553row8_col4 {\n",
       "            text-align:  left;\n",
       "            text-align:  left;\n",
       "            : ;\n",
       "        }    #T_a8842041_79ef_11eb_9ab7_94b86da6f553row8_col5 {\n",
       "            text-align:  left;\n",
       "            text-align:  left;\n",
       "            : ;\n",
       "        }    #T_a8842041_79ef_11eb_9ab7_94b86da6f553row8_col6 {\n",
       "            text-align:  left;\n",
       "            text-align:  left;\n",
       "            : ;\n",
       "        }    #T_a8842041_79ef_11eb_9ab7_94b86da6f553row8_col7 {\n",
       "            text-align:  left;\n",
       "            text-align:  left;\n",
       "            : ;\n",
       "        }    #T_a8842041_79ef_11eb_9ab7_94b86da6f553row8_col8 {\n",
       "            text-align:  left;\n",
       "            text-align:  left;\n",
       "            : ;\n",
       "            background-color:  lightgrey;\n",
       "        }    #T_a8842041_79ef_11eb_9ab7_94b86da6f553row9_col0 {\n",
       "            text-align:  left;\n",
       "            text-align:  left;\n",
       "        }    #T_a8842041_79ef_11eb_9ab7_94b86da6f553row9_col1 {\n",
       "            text-align:  left;\n",
       "            text-align:  left;\n",
       "            : ;\n",
       "        }    #T_a8842041_79ef_11eb_9ab7_94b86da6f553row9_col2 {\n",
       "            text-align:  left;\n",
       "            text-align:  left;\n",
       "            : ;\n",
       "        }    #T_a8842041_79ef_11eb_9ab7_94b86da6f553row9_col3 {\n",
       "            text-align:  left;\n",
       "            text-align:  left;\n",
       "            : ;\n",
       "        }    #T_a8842041_79ef_11eb_9ab7_94b86da6f553row9_col4 {\n",
       "            text-align:  left;\n",
       "            text-align:  left;\n",
       "            : ;\n",
       "        }    #T_a8842041_79ef_11eb_9ab7_94b86da6f553row9_col5 {\n",
       "            text-align:  left;\n",
       "            text-align:  left;\n",
       "            : ;\n",
       "        }    #T_a8842041_79ef_11eb_9ab7_94b86da6f553row9_col6 {\n",
       "            text-align:  left;\n",
       "            text-align:  left;\n",
       "            : ;\n",
       "        }    #T_a8842041_79ef_11eb_9ab7_94b86da6f553row9_col7 {\n",
       "            text-align:  left;\n",
       "            text-align:  left;\n",
       "            : ;\n",
       "        }    #T_a8842041_79ef_11eb_9ab7_94b86da6f553row9_col8 {\n",
       "            text-align:  left;\n",
       "            text-align:  left;\n",
       "            : ;\n",
       "            background-color:  lightgrey;\n",
       "        }    #T_a8842041_79ef_11eb_9ab7_94b86da6f553row10_col0 {\n",
       "            text-align:  left;\n",
       "            text-align:  left;\n",
       "        }    #T_a8842041_79ef_11eb_9ab7_94b86da6f553row10_col1 {\n",
       "            text-align:  left;\n",
       "            text-align:  left;\n",
       "            : ;\n",
       "        }    #T_a8842041_79ef_11eb_9ab7_94b86da6f553row10_col2 {\n",
       "            text-align:  left;\n",
       "            text-align:  left;\n",
       "            : ;\n",
       "        }    #T_a8842041_79ef_11eb_9ab7_94b86da6f553row10_col3 {\n",
       "            text-align:  left;\n",
       "            text-align:  left;\n",
       "            : ;\n",
       "        }    #T_a8842041_79ef_11eb_9ab7_94b86da6f553row10_col4 {\n",
       "            text-align:  left;\n",
       "            text-align:  left;\n",
       "            : ;\n",
       "        }    #T_a8842041_79ef_11eb_9ab7_94b86da6f553row10_col5 {\n",
       "            text-align:  left;\n",
       "            text-align:  left;\n",
       "            : ;\n",
       "        }    #T_a8842041_79ef_11eb_9ab7_94b86da6f553row10_col6 {\n",
       "            text-align:  left;\n",
       "            text-align:  left;\n",
       "            : ;\n",
       "        }    #T_a8842041_79ef_11eb_9ab7_94b86da6f553row10_col7 {\n",
       "            text-align:  left;\n",
       "            text-align:  left;\n",
       "            : ;\n",
       "        }    #T_a8842041_79ef_11eb_9ab7_94b86da6f553row10_col8 {\n",
       "            text-align:  left;\n",
       "            text-align:  left;\n",
       "            : ;\n",
       "            background-color:  lightgrey;\n",
       "        }    #T_a8842041_79ef_11eb_9ab7_94b86da6f553row11_col0 {\n",
       "            text-align:  left;\n",
       "            text-align:  left;\n",
       "        }    #T_a8842041_79ef_11eb_9ab7_94b86da6f553row11_col1 {\n",
       "            text-align:  left;\n",
       "            text-align:  left;\n",
       "            : ;\n",
       "        }    #T_a8842041_79ef_11eb_9ab7_94b86da6f553row11_col2 {\n",
       "            text-align:  left;\n",
       "            text-align:  left;\n",
       "            : ;\n",
       "        }    #T_a8842041_79ef_11eb_9ab7_94b86da6f553row11_col3 {\n",
       "            text-align:  left;\n",
       "            text-align:  left;\n",
       "            : ;\n",
       "        }    #T_a8842041_79ef_11eb_9ab7_94b86da6f553row11_col4 {\n",
       "            text-align:  left;\n",
       "            text-align:  left;\n",
       "            : ;\n",
       "        }    #T_a8842041_79ef_11eb_9ab7_94b86da6f553row11_col5 {\n",
       "            text-align:  left;\n",
       "            text-align:  left;\n",
       "            : ;\n",
       "        }    #T_a8842041_79ef_11eb_9ab7_94b86da6f553row11_col6 {\n",
       "            text-align:  left;\n",
       "            text-align:  left;\n",
       "            : ;\n",
       "        }    #T_a8842041_79ef_11eb_9ab7_94b86da6f553row11_col7 {\n",
       "            text-align:  left;\n",
       "            text-align:  left;\n",
       "            : ;\n",
       "        }    #T_a8842041_79ef_11eb_9ab7_94b86da6f553row11_col8 {\n",
       "            text-align:  left;\n",
       "            text-align:  left;\n",
       "            : ;\n",
       "            background-color:  lightgrey;\n",
       "        }    #T_a8842041_79ef_11eb_9ab7_94b86da6f553row12_col0 {\n",
       "            text-align:  left;\n",
       "            text-align:  left;\n",
       "        }    #T_a8842041_79ef_11eb_9ab7_94b86da6f553row12_col1 {\n",
       "            text-align:  left;\n",
       "            text-align:  left;\n",
       "            : ;\n",
       "        }    #T_a8842041_79ef_11eb_9ab7_94b86da6f553row12_col2 {\n",
       "            text-align:  left;\n",
       "            text-align:  left;\n",
       "            : ;\n",
       "        }    #T_a8842041_79ef_11eb_9ab7_94b86da6f553row12_col3 {\n",
       "            text-align:  left;\n",
       "            text-align:  left;\n",
       "            : ;\n",
       "        }    #T_a8842041_79ef_11eb_9ab7_94b86da6f553row12_col4 {\n",
       "            text-align:  left;\n",
       "            text-align:  left;\n",
       "            : ;\n",
       "        }    #T_a8842041_79ef_11eb_9ab7_94b86da6f553row12_col5 {\n",
       "            text-align:  left;\n",
       "            text-align:  left;\n",
       "            : ;\n",
       "        }    #T_a8842041_79ef_11eb_9ab7_94b86da6f553row12_col6 {\n",
       "            text-align:  left;\n",
       "            text-align:  left;\n",
       "            : ;\n",
       "        }    #T_a8842041_79ef_11eb_9ab7_94b86da6f553row12_col7 {\n",
       "            text-align:  left;\n",
       "            text-align:  left;\n",
       "            : ;\n",
       "        }    #T_a8842041_79ef_11eb_9ab7_94b86da6f553row12_col8 {\n",
       "            text-align:  left;\n",
       "            text-align:  left;\n",
       "            : ;\n",
       "            background-color:  lightgrey;\n",
       "        }    #T_a8842041_79ef_11eb_9ab7_94b86da6f553row13_col0 {\n",
       "            text-align:  left;\n",
       "            text-align:  left;\n",
       "        }    #T_a8842041_79ef_11eb_9ab7_94b86da6f553row13_col1 {\n",
       "            text-align:  left;\n",
       "            text-align:  left;\n",
       "            : ;\n",
       "        }    #T_a8842041_79ef_11eb_9ab7_94b86da6f553row13_col2 {\n",
       "            text-align:  left;\n",
       "            text-align:  left;\n",
       "            : ;\n",
       "        }    #T_a8842041_79ef_11eb_9ab7_94b86da6f553row13_col3 {\n",
       "            text-align:  left;\n",
       "            text-align:  left;\n",
       "            background-color:  yellow;\n",
       "        }    #T_a8842041_79ef_11eb_9ab7_94b86da6f553row13_col4 {\n",
       "            text-align:  left;\n",
       "            text-align:  left;\n",
       "            : ;\n",
       "        }    #T_a8842041_79ef_11eb_9ab7_94b86da6f553row13_col5 {\n",
       "            text-align:  left;\n",
       "            text-align:  left;\n",
       "            background-color:  yellow;\n",
       "        }    #T_a8842041_79ef_11eb_9ab7_94b86da6f553row13_col6 {\n",
       "            text-align:  left;\n",
       "            text-align:  left;\n",
       "            background-color:  yellow;\n",
       "        }    #T_a8842041_79ef_11eb_9ab7_94b86da6f553row13_col7 {\n",
       "            text-align:  left;\n",
       "            text-align:  left;\n",
       "            background-color:  yellow;\n",
       "        }    #T_a8842041_79ef_11eb_9ab7_94b86da6f553row13_col8 {\n",
       "            text-align:  left;\n",
       "            text-align:  left;\n",
       "            : ;\n",
       "            background-color:  lightgrey;\n",
       "        }</style><table id=\"T_a8842041_79ef_11eb_9ab7_94b86da6f553\" ><thead>    <tr>        <th class=\"blank level0\" ></th>        <th class=\"col_heading level0 col0\" >Model</th>        <th class=\"col_heading level0 col1\" >Accuracy</th>        <th class=\"col_heading level0 col2\" >AUC</th>        <th class=\"col_heading level0 col3\" >Recall</th>        <th class=\"col_heading level0 col4\" >Prec.</th>        <th class=\"col_heading level0 col5\" >F1</th>        <th class=\"col_heading level0 col6\" >Kappa</th>        <th class=\"col_heading level0 col7\" >MCC</th>        <th class=\"col_heading level0 col8\" >TT (Sec)</th>    </tr></thead><tbody>\n",
       "                <tr>\n",
       "                        <th id=\"T_a8842041_79ef_11eb_9ab7_94b86da6f553level0_row0\" class=\"row_heading level0 row0\" >lightgbm</th>\n",
       "                        <td id=\"T_a8842041_79ef_11eb_9ab7_94b86da6f553row0_col0\" class=\"data row0 col0\" >Light Gradient Boosting Machine</td>\n",
       "                        <td id=\"T_a8842041_79ef_11eb_9ab7_94b86da6f553row0_col1\" class=\"data row0 col1\" >0.7597</td>\n",
       "                        <td id=\"T_a8842041_79ef_11eb_9ab7_94b86da6f553row0_col2\" class=\"data row0 col2\" >0.6696</td>\n",
       "                        <td id=\"T_a8842041_79ef_11eb_9ab7_94b86da6f553row0_col3\" class=\"data row0 col3\" >0.0237</td>\n",
       "                        <td id=\"T_a8842041_79ef_11eb_9ab7_94b86da6f553row0_col4\" class=\"data row0 col4\" >0.5429</td>\n",
       "                        <td id=\"T_a8842041_79ef_11eb_9ab7_94b86da6f553row0_col5\" class=\"data row0 col5\" >0.0453</td>\n",
       "                        <td id=\"T_a8842041_79ef_11eb_9ab7_94b86da6f553row0_col6\" class=\"data row0 col6\" >0.0252</td>\n",
       "                        <td id=\"T_a8842041_79ef_11eb_9ab7_94b86da6f553row0_col7\" class=\"data row0 col7\" >0.0717</td>\n",
       "                        <td id=\"T_a8842041_79ef_11eb_9ab7_94b86da6f553row0_col8\" class=\"data row0 col8\" >0.1400</td>\n",
       "            </tr>\n",
       "            <tr>\n",
       "                        <th id=\"T_a8842041_79ef_11eb_9ab7_94b86da6f553level0_row1\" class=\"row_heading level0 row1\" >catboost</th>\n",
       "                        <td id=\"T_a8842041_79ef_11eb_9ab7_94b86da6f553row1_col0\" class=\"data row1 col0\" >CatBoost Classifier</td>\n",
       "                        <td id=\"T_a8842041_79ef_11eb_9ab7_94b86da6f553row1_col1\" class=\"data row1 col1\" >0.7592</td>\n",
       "                        <td id=\"T_a8842041_79ef_11eb_9ab7_94b86da6f553row1_col2\" class=\"data row1 col2\" >0.6709</td>\n",
       "                        <td id=\"T_a8842041_79ef_11eb_9ab7_94b86da6f553row1_col3\" class=\"data row1 col3\" >0.0402</td>\n",
       "                        <td id=\"T_a8842041_79ef_11eb_9ab7_94b86da6f553row1_col4\" class=\"data row1 col4\" >0.5051</td>\n",
       "                        <td id=\"T_a8842041_79ef_11eb_9ab7_94b86da6f553row1_col5\" class=\"data row1 col5\" >0.0744</td>\n",
       "                        <td id=\"T_a8842041_79ef_11eb_9ab7_94b86da6f553row1_col6\" class=\"data row1 col6\" >0.0403</td>\n",
       "                        <td id=\"T_a8842041_79ef_11eb_9ab7_94b86da6f553row1_col7\" class=\"data row1 col7\" >0.0861</td>\n",
       "                        <td id=\"T_a8842041_79ef_11eb_9ab7_94b86da6f553row1_col8\" class=\"data row1 col8\" >12.5910</td>\n",
       "            </tr>\n",
       "            <tr>\n",
       "                        <th id=\"T_a8842041_79ef_11eb_9ab7_94b86da6f553level0_row2\" class=\"row_heading level0 row2\" >lr</th>\n",
       "                        <td id=\"T_a8842041_79ef_11eb_9ab7_94b86da6f553row2_col0\" class=\"data row2 col0\" >Logistic Regression</td>\n",
       "                        <td id=\"T_a8842041_79ef_11eb_9ab7_94b86da6f553row2_col1\" class=\"data row2 col1\" >0.7590</td>\n",
       "                        <td id=\"T_a8842041_79ef_11eb_9ab7_94b86da6f553row2_col2\" class=\"data row2 col2\" >0.5608</td>\n",
       "                        <td id=\"T_a8842041_79ef_11eb_9ab7_94b86da6f553row2_col3\" class=\"data row2 col3\" >0.0000</td>\n",
       "                        <td id=\"T_a8842041_79ef_11eb_9ab7_94b86da6f553row2_col4\" class=\"data row2 col4\" >0.0000</td>\n",
       "                        <td id=\"T_a8842041_79ef_11eb_9ab7_94b86da6f553row2_col5\" class=\"data row2 col5\" >0.0000</td>\n",
       "                        <td id=\"T_a8842041_79ef_11eb_9ab7_94b86da6f553row2_col6\" class=\"data row2 col6\" >0.0000</td>\n",
       "                        <td id=\"T_a8842041_79ef_11eb_9ab7_94b86da6f553row2_col7\" class=\"data row2 col7\" >0.0000</td>\n",
       "                        <td id=\"T_a8842041_79ef_11eb_9ab7_94b86da6f553row2_col8\" class=\"data row2 col8\" >0.3130</td>\n",
       "            </tr>\n",
       "            <tr>\n",
       "                        <th id=\"T_a8842041_79ef_11eb_9ab7_94b86da6f553level0_row3\" class=\"row_heading level0 row3\" >nb</th>\n",
       "                        <td id=\"T_a8842041_79ef_11eb_9ab7_94b86da6f553row3_col0\" class=\"data row3 col0\" >Naive Bayes</td>\n",
       "                        <td id=\"T_a8842041_79ef_11eb_9ab7_94b86da6f553row3_col1\" class=\"data row3 col1\" >0.7590</td>\n",
       "                        <td id=\"T_a8842041_79ef_11eb_9ab7_94b86da6f553row3_col2\" class=\"data row3 col2\" >0.5567</td>\n",
       "                        <td id=\"T_a8842041_79ef_11eb_9ab7_94b86da6f553row3_col3\" class=\"data row3 col3\" >0.0000</td>\n",
       "                        <td id=\"T_a8842041_79ef_11eb_9ab7_94b86da6f553row3_col4\" class=\"data row3 col4\" >0.0000</td>\n",
       "                        <td id=\"T_a8842041_79ef_11eb_9ab7_94b86da6f553row3_col5\" class=\"data row3 col5\" >0.0000</td>\n",
       "                        <td id=\"T_a8842041_79ef_11eb_9ab7_94b86da6f553row3_col6\" class=\"data row3 col6\" >0.0000</td>\n",
       "                        <td id=\"T_a8842041_79ef_11eb_9ab7_94b86da6f553row3_col7\" class=\"data row3 col7\" >0.0000</td>\n",
       "                        <td id=\"T_a8842041_79ef_11eb_9ab7_94b86da6f553row3_col8\" class=\"data row3 col8\" >0.0250</td>\n",
       "            </tr>\n",
       "            <tr>\n",
       "                        <th id=\"T_a8842041_79ef_11eb_9ab7_94b86da6f553level0_row4\" class=\"row_heading level0 row4\" >ridge</th>\n",
       "                        <td id=\"T_a8842041_79ef_11eb_9ab7_94b86da6f553row4_col0\" class=\"data row4 col0\" >Ridge Classifier</td>\n",
       "                        <td id=\"T_a8842041_79ef_11eb_9ab7_94b86da6f553row4_col1\" class=\"data row4 col1\" >0.7590</td>\n",
       "                        <td id=\"T_a8842041_79ef_11eb_9ab7_94b86da6f553row4_col2\" class=\"data row4 col2\" >0.0000</td>\n",
       "                        <td id=\"T_a8842041_79ef_11eb_9ab7_94b86da6f553row4_col3\" class=\"data row4 col3\" >0.0000</td>\n",
       "                        <td id=\"T_a8842041_79ef_11eb_9ab7_94b86da6f553row4_col4\" class=\"data row4 col4\" >0.0000</td>\n",
       "                        <td id=\"T_a8842041_79ef_11eb_9ab7_94b86da6f553row4_col5\" class=\"data row4 col5\" >0.0000</td>\n",
       "                        <td id=\"T_a8842041_79ef_11eb_9ab7_94b86da6f553row4_col6\" class=\"data row4 col6\" >0.0000</td>\n",
       "                        <td id=\"T_a8842041_79ef_11eb_9ab7_94b86da6f553row4_col7\" class=\"data row4 col7\" >0.0000</td>\n",
       "                        <td id=\"T_a8842041_79ef_11eb_9ab7_94b86da6f553row4_col8\" class=\"data row4 col8\" >0.0340</td>\n",
       "            </tr>\n",
       "            <tr>\n",
       "                        <th id=\"T_a8842041_79ef_11eb_9ab7_94b86da6f553level0_row5\" class=\"row_heading level0 row5\" >ada</th>\n",
       "                        <td id=\"T_a8842041_79ef_11eb_9ab7_94b86da6f553row5_col0\" class=\"data row5 col0\" >Ada Boost Classifier</td>\n",
       "                        <td id=\"T_a8842041_79ef_11eb_9ab7_94b86da6f553row5_col1\" class=\"data row5 col1\" >0.7590</td>\n",
       "                        <td id=\"T_a8842041_79ef_11eb_9ab7_94b86da6f553row5_col2\" class=\"data row5 col2\" >0.6116</td>\n",
       "                        <td id=\"T_a8842041_79ef_11eb_9ab7_94b86da6f553row5_col3\" class=\"data row5 col3\" >0.0000</td>\n",
       "                        <td id=\"T_a8842041_79ef_11eb_9ab7_94b86da6f553row5_col4\" class=\"data row5 col4\" >0.0000</td>\n",
       "                        <td id=\"T_a8842041_79ef_11eb_9ab7_94b86da6f553row5_col5\" class=\"data row5 col5\" >0.0000</td>\n",
       "                        <td id=\"T_a8842041_79ef_11eb_9ab7_94b86da6f553row5_col6\" class=\"data row5 col6\" >-0.0001</td>\n",
       "                        <td id=\"T_a8842041_79ef_11eb_9ab7_94b86da6f553row5_col7\" class=\"data row5 col7\" >-0.0019</td>\n",
       "                        <td id=\"T_a8842041_79ef_11eb_9ab7_94b86da6f553row5_col8\" class=\"data row5 col8\" >0.2300</td>\n",
       "            </tr>\n",
       "            <tr>\n",
       "                        <th id=\"T_a8842041_79ef_11eb_9ab7_94b86da6f553level0_row6\" class=\"row_heading level0 row6\" >lda</th>\n",
       "                        <td id=\"T_a8842041_79ef_11eb_9ab7_94b86da6f553row6_col0\" class=\"data row6 col0\" >Linear Discriminant Analysis</td>\n",
       "                        <td id=\"T_a8842041_79ef_11eb_9ab7_94b86da6f553row6_col1\" class=\"data row6 col1\" >0.7590</td>\n",
       "                        <td id=\"T_a8842041_79ef_11eb_9ab7_94b86da6f553row6_col2\" class=\"data row6 col2\" >0.5612</td>\n",
       "                        <td id=\"T_a8842041_79ef_11eb_9ab7_94b86da6f553row6_col3\" class=\"data row6 col3\" >0.0000</td>\n",
       "                        <td id=\"T_a8842041_79ef_11eb_9ab7_94b86da6f553row6_col4\" class=\"data row6 col4\" >0.0000</td>\n",
       "                        <td id=\"T_a8842041_79ef_11eb_9ab7_94b86da6f553row6_col5\" class=\"data row6 col5\" >0.0000</td>\n",
       "                        <td id=\"T_a8842041_79ef_11eb_9ab7_94b86da6f553row6_col6\" class=\"data row6 col6\" >0.0000</td>\n",
       "                        <td id=\"T_a8842041_79ef_11eb_9ab7_94b86da6f553row6_col7\" class=\"data row6 col7\" >0.0000</td>\n",
       "                        <td id=\"T_a8842041_79ef_11eb_9ab7_94b86da6f553row6_col8\" class=\"data row6 col8\" >0.0390</td>\n",
       "            </tr>\n",
       "            <tr>\n",
       "                        <th id=\"T_a8842041_79ef_11eb_9ab7_94b86da6f553level0_row7\" class=\"row_heading level0 row7\" >gbc</th>\n",
       "                        <td id=\"T_a8842041_79ef_11eb_9ab7_94b86da6f553row7_col0\" class=\"data row7 col0\" >Gradient Boosting Classifier</td>\n",
       "                        <td id=\"T_a8842041_79ef_11eb_9ab7_94b86da6f553row7_col1\" class=\"data row7 col1\" >0.7589</td>\n",
       "                        <td id=\"T_a8842041_79ef_11eb_9ab7_94b86da6f553row7_col2\" class=\"data row7 col2\" >0.6421</td>\n",
       "                        <td id=\"T_a8842041_79ef_11eb_9ab7_94b86da6f553row7_col3\" class=\"data row7 col3\" >0.0029</td>\n",
       "                        <td id=\"T_a8842041_79ef_11eb_9ab7_94b86da6f553row7_col4\" class=\"data row7 col4\" >0.5189</td>\n",
       "                        <td id=\"T_a8842041_79ef_11eb_9ab7_94b86da6f553row7_col5\" class=\"data row7 col5\" >0.0058</td>\n",
       "                        <td id=\"T_a8842041_79ef_11eb_9ab7_94b86da6f553row7_col6\" class=\"data row7 col6\" >0.0026</td>\n",
       "                        <td id=\"T_a8842041_79ef_11eb_9ab7_94b86da6f553row7_col7\" class=\"data row7 col7\" >0.0209</td>\n",
       "                        <td id=\"T_a8842041_79ef_11eb_9ab7_94b86da6f553row7_col8\" class=\"data row7 col8\" >0.8190</td>\n",
       "            </tr>\n",
       "            <tr>\n",
       "                        <th id=\"T_a8842041_79ef_11eb_9ab7_94b86da6f553level0_row8\" class=\"row_heading level0 row8\" >rf</th>\n",
       "                        <td id=\"T_a8842041_79ef_11eb_9ab7_94b86da6f553row8_col0\" class=\"data row8 col0\" >Random Forest Classifier</td>\n",
       "                        <td id=\"T_a8842041_79ef_11eb_9ab7_94b86da6f553row8_col1\" class=\"data row8 col1\" >0.7505</td>\n",
       "                        <td id=\"T_a8842041_79ef_11eb_9ab7_94b86da6f553row8_col2\" class=\"data row8 col2\" >0.6356</td>\n",
       "                        <td id=\"T_a8842041_79ef_11eb_9ab7_94b86da6f553row8_col3\" class=\"data row8 col3\" >0.0809</td>\n",
       "                        <td id=\"T_a8842041_79ef_11eb_9ab7_94b86da6f553row8_col4\" class=\"data row8 col4\" >0.4099</td>\n",
       "                        <td id=\"T_a8842041_79ef_11eb_9ab7_94b86da6f553row8_col5\" class=\"data row8 col5\" >0.1350</td>\n",
       "                        <td id=\"T_a8842041_79ef_11eb_9ab7_94b86da6f553row8_col6\" class=\"data row8 col6\" >0.0606</td>\n",
       "                        <td id=\"T_a8842041_79ef_11eb_9ab7_94b86da6f553row8_col7\" class=\"data row8 col7\" >0.0883</td>\n",
       "                        <td id=\"T_a8842041_79ef_11eb_9ab7_94b86da6f553row8_col8\" class=\"data row8 col8\" >0.8290</td>\n",
       "            </tr>\n",
       "            <tr>\n",
       "                        <th id=\"T_a8842041_79ef_11eb_9ab7_94b86da6f553level0_row9\" class=\"row_heading level0 row9\" >qda</th>\n",
       "                        <td id=\"T_a8842041_79ef_11eb_9ab7_94b86da6f553row9_col0\" class=\"data row9 col0\" >Quadratic Discriminant Analysis</td>\n",
       "                        <td id=\"T_a8842041_79ef_11eb_9ab7_94b86da6f553row9_col1\" class=\"data row9 col1\" >0.7471</td>\n",
       "                        <td id=\"T_a8842041_79ef_11eb_9ab7_94b86da6f553row9_col2\" class=\"data row9 col2\" >0.5629</td>\n",
       "                        <td id=\"T_a8842041_79ef_11eb_9ab7_94b86da6f553row9_col3\" class=\"data row9 col3\" >0.0313</td>\n",
       "                        <td id=\"T_a8842041_79ef_11eb_9ab7_94b86da6f553row9_col4\" class=\"data row9 col4\" >0.2845</td>\n",
       "                        <td id=\"T_a8842041_79ef_11eb_9ab7_94b86da6f553row9_col5\" class=\"data row9 col5\" >0.0562</td>\n",
       "                        <td id=\"T_a8842041_79ef_11eb_9ab7_94b86da6f553row9_col6\" class=\"data row9 col6\" >0.0082</td>\n",
       "                        <td id=\"T_a8842041_79ef_11eb_9ab7_94b86da6f553row9_col7\" class=\"data row9 col7\" >0.0159</td>\n",
       "                        <td id=\"T_a8842041_79ef_11eb_9ab7_94b86da6f553row9_col8\" class=\"data row9 col8\" >0.0260</td>\n",
       "            </tr>\n",
       "            <tr>\n",
       "                        <th id=\"T_a8842041_79ef_11eb_9ab7_94b86da6f553level0_row10\" class=\"row_heading level0 row10\" >et</th>\n",
       "                        <td id=\"T_a8842041_79ef_11eb_9ab7_94b86da6f553row10_col0\" class=\"data row10 col0\" >Extra Trees Classifier</td>\n",
       "                        <td id=\"T_a8842041_79ef_11eb_9ab7_94b86da6f553row10_col1\" class=\"data row10 col1\" >0.7389</td>\n",
       "                        <td id=\"T_a8842041_79ef_11eb_9ab7_94b86da6f553row10_col2\" class=\"data row10 col2\" >0.6269</td>\n",
       "                        <td id=\"T_a8842041_79ef_11eb_9ab7_94b86da6f553row10_col3\" class=\"data row10 col3\" >0.1236</td>\n",
       "                        <td id=\"T_a8842041_79ef_11eb_9ab7_94b86da6f553row10_col4\" class=\"data row10 col4\" >0.3734</td>\n",
       "                        <td id=\"T_a8842041_79ef_11eb_9ab7_94b86da6f553row10_col5\" class=\"data row10 col5\" >0.1856</td>\n",
       "                        <td id=\"T_a8842041_79ef_11eb_9ab7_94b86da6f553row10_col6\" class=\"data row10 col6\" >0.0749</td>\n",
       "                        <td id=\"T_a8842041_79ef_11eb_9ab7_94b86da6f553row10_col7\" class=\"data row10 col7\" >0.0912</td>\n",
       "                        <td id=\"T_a8842041_79ef_11eb_9ab7_94b86da6f553row10_col8\" class=\"data row10 col8\" >0.8950</td>\n",
       "            </tr>\n",
       "            <tr>\n",
       "                        <th id=\"T_a8842041_79ef_11eb_9ab7_94b86da6f553level0_row11\" class=\"row_heading level0 row11\" >knn</th>\n",
       "                        <td id=\"T_a8842041_79ef_11eb_9ab7_94b86da6f553row11_col0\" class=\"data row11 col0\" >K Neighbors Classifier</td>\n",
       "                        <td id=\"T_a8842041_79ef_11eb_9ab7_94b86da6f553row11_col1\" class=\"data row11 col1\" >0.7159</td>\n",
       "                        <td id=\"T_a8842041_79ef_11eb_9ab7_94b86da6f553row11_col2\" class=\"data row11 col2\" >0.5653</td>\n",
       "                        <td id=\"T_a8842041_79ef_11eb_9ab7_94b86da6f553row11_col3\" class=\"data row11 col3\" >0.1451</td>\n",
       "                        <td id=\"T_a8842041_79ef_11eb_9ab7_94b86da6f553row11_col4\" class=\"data row11 col4\" >0.3093</td>\n",
       "                        <td id=\"T_a8842041_79ef_11eb_9ab7_94b86da6f553row11_col5\" class=\"data row11 col5\" >0.1975</td>\n",
       "                        <td id=\"T_a8842041_79ef_11eb_9ab7_94b86da6f553row11_col6\" class=\"data row11 col6\" >0.0515</td>\n",
       "                        <td id=\"T_a8842041_79ef_11eb_9ab7_94b86da6f553row11_col7\" class=\"data row11 col7\" >0.0570</td>\n",
       "                        <td id=\"T_a8842041_79ef_11eb_9ab7_94b86da6f553row11_col8\" class=\"data row11 col8\" >0.1220</td>\n",
       "            </tr>\n",
       "            <tr>\n",
       "                        <th id=\"T_a8842041_79ef_11eb_9ab7_94b86da6f553level0_row12\" class=\"row_heading level0 row12\" >svm</th>\n",
       "                        <td id=\"T_a8842041_79ef_11eb_9ab7_94b86da6f553row12_col0\" class=\"data row12 col0\" >SVM - Linear Kernel</td>\n",
       "                        <td id=\"T_a8842041_79ef_11eb_9ab7_94b86da6f553row12_col1\" class=\"data row12 col1\" >0.6973</td>\n",
       "                        <td id=\"T_a8842041_79ef_11eb_9ab7_94b86da6f553row12_col2\" class=\"data row12 col2\" >0.0000</td>\n",
       "                        <td id=\"T_a8842041_79ef_11eb_9ab7_94b86da6f553row12_col3\" class=\"data row12 col3\" >0.1269</td>\n",
       "                        <td id=\"T_a8842041_79ef_11eb_9ab7_94b86da6f553row12_col4\" class=\"data row12 col4\" >0.3616</td>\n",
       "                        <td id=\"T_a8842041_79ef_11eb_9ab7_94b86da6f553row12_col5\" class=\"data row12 col5\" >0.0733</td>\n",
       "                        <td id=\"T_a8842041_79ef_11eb_9ab7_94b86da6f553row12_col6\" class=\"data row12 col6\" >0.0042</td>\n",
       "                        <td id=\"T_a8842041_79ef_11eb_9ab7_94b86da6f553row12_col7\" class=\"data row12 col7\" >0.0133</td>\n",
       "                        <td id=\"T_a8842041_79ef_11eb_9ab7_94b86da6f553row12_col8\" class=\"data row12 col8\" >0.2860</td>\n",
       "            </tr>\n",
       "            <tr>\n",
       "                        <th id=\"T_a8842041_79ef_11eb_9ab7_94b86da6f553level0_row13\" class=\"row_heading level0 row13\" >dt</th>\n",
       "                        <td id=\"T_a8842041_79ef_11eb_9ab7_94b86da6f553row13_col0\" class=\"data row13 col0\" >Decision Tree Classifier</td>\n",
       "                        <td id=\"T_a8842041_79ef_11eb_9ab7_94b86da6f553row13_col1\" class=\"data row13 col1\" >0.6612</td>\n",
       "                        <td id=\"T_a8842041_79ef_11eb_9ab7_94b86da6f553row13_col2\" class=\"data row13 col2\" >0.5488</td>\n",
       "                        <td id=\"T_a8842041_79ef_11eb_9ab7_94b86da6f553row13_col3\" class=\"data row13 col3\" >0.3320</td>\n",
       "                        <td id=\"T_a8842041_79ef_11eb_9ab7_94b86da6f553row13_col4\" class=\"data row13 col4\" >0.3103</td>\n",
       "                        <td id=\"T_a8842041_79ef_11eb_9ab7_94b86da6f553row13_col5\" class=\"data row13 col5\" >0.3207</td>\n",
       "                        <td id=\"T_a8842041_79ef_11eb_9ab7_94b86da6f553row13_col6\" class=\"data row13 col6\" >0.0954</td>\n",
       "                        <td id=\"T_a8842041_79ef_11eb_9ab7_94b86da6f553row13_col7\" class=\"data row13 col7\" >0.0956</td>\n",
       "                        <td id=\"T_a8842041_79ef_11eb_9ab7_94b86da6f553row13_col8\" class=\"data row13 col8\" >0.0550</td>\n",
       "            </tr>\n",
       "    </tbody></table>"
      ],
      "text/plain": [
       "<pandas.io.formats.style.Styler at 0x1ad7f5300d0>"
      ]
     },
     "metadata": {},
     "output_type": "display_data"
    },
    {
     "data": {
      "text/plain": [
       "LGBMClassifier(boosting_type='gbdt', class_weight=None, colsample_bytree=1.0,\n",
       "               importance_type='split', learning_rate=0.1, max_depth=-1,\n",
       "               min_child_samples=20, min_child_weight=0.001, min_split_gain=0.0,\n",
       "               n_estimators=100, n_jobs=-1, num_leaves=31, objective=None,\n",
       "               random_state=123, reg_alpha=0.0, reg_lambda=0.0, silent=True,\n",
       "               subsample=1.0, subsample_for_bin=200000, subsample_freq=0)"
      ]
     },
     "execution_count": 18,
     "metadata": {},
     "output_type": "execute_result"
    }
   ],
   "source": [
    "compare_models()"
   ]
  },
  {
   "cell_type": "code",
   "execution_count": 8,
   "metadata": {},
   "outputs": [
    {
     "data": {
      "text/html": [
       "<style  type=\"text/css\" >\n",
       "    #T_264078d9_7a56_11eb_8e32_94b86da6f553 th {\n",
       "          text-align: left;\n",
       "    }    #T_264078d9_7a56_11eb_8e32_94b86da6f553row0_col0 {\n",
       "            text-align:  left;\n",
       "            text-align:  left;\n",
       "        }    #T_264078d9_7a56_11eb_8e32_94b86da6f553row0_col1 {\n",
       "            text-align:  left;\n",
       "            text-align:  left;\n",
       "            background-color:  yellow;\n",
       "        }    #T_264078d9_7a56_11eb_8e32_94b86da6f553row0_col2 {\n",
       "            text-align:  left;\n",
       "            text-align:  left;\n",
       "            : ;\n",
       "        }    #T_264078d9_7a56_11eb_8e32_94b86da6f553row0_col3 {\n",
       "            text-align:  left;\n",
       "            text-align:  left;\n",
       "            : ;\n",
       "        }    #T_264078d9_7a56_11eb_8e32_94b86da6f553row0_col4 {\n",
       "            text-align:  left;\n",
       "            text-align:  left;\n",
       "            : ;\n",
       "        }    #T_264078d9_7a56_11eb_8e32_94b86da6f553row0_col5 {\n",
       "            text-align:  left;\n",
       "            text-align:  left;\n",
       "            : ;\n",
       "        }    #T_264078d9_7a56_11eb_8e32_94b86da6f553row0_col6 {\n",
       "            text-align:  left;\n",
       "            text-align:  left;\n",
       "            : ;\n",
       "        }    #T_264078d9_7a56_11eb_8e32_94b86da6f553row0_col7 {\n",
       "            text-align:  left;\n",
       "            text-align:  left;\n",
       "            : ;\n",
       "        }    #T_264078d9_7a56_11eb_8e32_94b86da6f553row0_col8 {\n",
       "            text-align:  left;\n",
       "            text-align:  left;\n",
       "            : ;\n",
       "            background-color:  lightgrey;\n",
       "        }    #T_264078d9_7a56_11eb_8e32_94b86da6f553row1_col0 {\n",
       "            text-align:  left;\n",
       "            text-align:  left;\n",
       "        }    #T_264078d9_7a56_11eb_8e32_94b86da6f553row1_col1 {\n",
       "            text-align:  left;\n",
       "            text-align:  left;\n",
       "            : ;\n",
       "        }    #T_264078d9_7a56_11eb_8e32_94b86da6f553row1_col2 {\n",
       "            text-align:  left;\n",
       "            text-align:  left;\n",
       "            : ;\n",
       "        }    #T_264078d9_7a56_11eb_8e32_94b86da6f553row1_col3 {\n",
       "            text-align:  left;\n",
       "            text-align:  left;\n",
       "            : ;\n",
       "        }    #T_264078d9_7a56_11eb_8e32_94b86da6f553row1_col4 {\n",
       "            text-align:  left;\n",
       "            text-align:  left;\n",
       "            background-color:  yellow;\n",
       "        }    #T_264078d9_7a56_11eb_8e32_94b86da6f553row1_col5 {\n",
       "            text-align:  left;\n",
       "            text-align:  left;\n",
       "            : ;\n",
       "        }    #T_264078d9_7a56_11eb_8e32_94b86da6f553row1_col6 {\n",
       "            text-align:  left;\n",
       "            text-align:  left;\n",
       "            : ;\n",
       "        }    #T_264078d9_7a56_11eb_8e32_94b86da6f553row1_col7 {\n",
       "            text-align:  left;\n",
       "            text-align:  left;\n",
       "            : ;\n",
       "        }    #T_264078d9_7a56_11eb_8e32_94b86da6f553row1_col8 {\n",
       "            text-align:  left;\n",
       "            text-align:  left;\n",
       "            : ;\n",
       "            background-color:  lightgrey;\n",
       "        }    #T_264078d9_7a56_11eb_8e32_94b86da6f553row2_col0 {\n",
       "            text-align:  left;\n",
       "            text-align:  left;\n",
       "        }    #T_264078d9_7a56_11eb_8e32_94b86da6f553row2_col1 {\n",
       "            text-align:  left;\n",
       "            text-align:  left;\n",
       "            : ;\n",
       "        }    #T_264078d9_7a56_11eb_8e32_94b86da6f553row2_col2 {\n",
       "            text-align:  left;\n",
       "            text-align:  left;\n",
       "            background-color:  yellow;\n",
       "        }    #T_264078d9_7a56_11eb_8e32_94b86da6f553row2_col3 {\n",
       "            text-align:  left;\n",
       "            text-align:  left;\n",
       "            : ;\n",
       "        }    #T_264078d9_7a56_11eb_8e32_94b86da6f553row2_col4 {\n",
       "            text-align:  left;\n",
       "            text-align:  left;\n",
       "            : ;\n",
       "        }    #T_264078d9_7a56_11eb_8e32_94b86da6f553row2_col5 {\n",
       "            text-align:  left;\n",
       "            text-align:  left;\n",
       "            : ;\n",
       "        }    #T_264078d9_7a56_11eb_8e32_94b86da6f553row2_col6 {\n",
       "            text-align:  left;\n",
       "            text-align:  left;\n",
       "            : ;\n",
       "        }    #T_264078d9_7a56_11eb_8e32_94b86da6f553row2_col7 {\n",
       "            text-align:  left;\n",
       "            text-align:  left;\n",
       "            background-color:  yellow;\n",
       "        }    #T_264078d9_7a56_11eb_8e32_94b86da6f553row2_col8 {\n",
       "            text-align:  left;\n",
       "            text-align:  left;\n",
       "            : ;\n",
       "            background-color:  lightgrey;\n",
       "        }    #T_264078d9_7a56_11eb_8e32_94b86da6f553row3_col0 {\n",
       "            text-align:  left;\n",
       "            text-align:  left;\n",
       "        }    #T_264078d9_7a56_11eb_8e32_94b86da6f553row3_col1 {\n",
       "            text-align:  left;\n",
       "            text-align:  left;\n",
       "            : ;\n",
       "        }    #T_264078d9_7a56_11eb_8e32_94b86da6f553row3_col2 {\n",
       "            text-align:  left;\n",
       "            text-align:  left;\n",
       "            : ;\n",
       "        }    #T_264078d9_7a56_11eb_8e32_94b86da6f553row3_col3 {\n",
       "            text-align:  left;\n",
       "            text-align:  left;\n",
       "            : ;\n",
       "        }    #T_264078d9_7a56_11eb_8e32_94b86da6f553row3_col4 {\n",
       "            text-align:  left;\n",
       "            text-align:  left;\n",
       "            : ;\n",
       "        }    #T_264078d9_7a56_11eb_8e32_94b86da6f553row3_col5 {\n",
       "            text-align:  left;\n",
       "            text-align:  left;\n",
       "            : ;\n",
       "        }    #T_264078d9_7a56_11eb_8e32_94b86da6f553row3_col6 {\n",
       "            text-align:  left;\n",
       "            text-align:  left;\n",
       "            : ;\n",
       "        }    #T_264078d9_7a56_11eb_8e32_94b86da6f553row3_col7 {\n",
       "            text-align:  left;\n",
       "            text-align:  left;\n",
       "            : ;\n",
       "        }    #T_264078d9_7a56_11eb_8e32_94b86da6f553row3_col8 {\n",
       "            text-align:  left;\n",
       "            text-align:  left;\n",
       "            : ;\n",
       "            background-color:  lightgrey;\n",
       "        }    #T_264078d9_7a56_11eb_8e32_94b86da6f553row4_col0 {\n",
       "            text-align:  left;\n",
       "            text-align:  left;\n",
       "        }    #T_264078d9_7a56_11eb_8e32_94b86da6f553row4_col1 {\n",
       "            text-align:  left;\n",
       "            text-align:  left;\n",
       "            : ;\n",
       "        }    #T_264078d9_7a56_11eb_8e32_94b86da6f553row4_col2 {\n",
       "            text-align:  left;\n",
       "            text-align:  left;\n",
       "            : ;\n",
       "        }    #T_264078d9_7a56_11eb_8e32_94b86da6f553row4_col3 {\n",
       "            text-align:  left;\n",
       "            text-align:  left;\n",
       "            : ;\n",
       "        }    #T_264078d9_7a56_11eb_8e32_94b86da6f553row4_col4 {\n",
       "            text-align:  left;\n",
       "            text-align:  left;\n",
       "            : ;\n",
       "        }    #T_264078d9_7a56_11eb_8e32_94b86da6f553row4_col5 {\n",
       "            text-align:  left;\n",
       "            text-align:  left;\n",
       "            : ;\n",
       "        }    #T_264078d9_7a56_11eb_8e32_94b86da6f553row4_col6 {\n",
       "            text-align:  left;\n",
       "            text-align:  left;\n",
       "            : ;\n",
       "        }    #T_264078d9_7a56_11eb_8e32_94b86da6f553row4_col7 {\n",
       "            text-align:  left;\n",
       "            text-align:  left;\n",
       "            : ;\n",
       "        }    #T_264078d9_7a56_11eb_8e32_94b86da6f553row4_col8 {\n",
       "            text-align:  left;\n",
       "            text-align:  left;\n",
       "            : ;\n",
       "            background-color:  lightgrey;\n",
       "        }    #T_264078d9_7a56_11eb_8e32_94b86da6f553row5_col0 {\n",
       "            text-align:  left;\n",
       "            text-align:  left;\n",
       "        }    #T_264078d9_7a56_11eb_8e32_94b86da6f553row5_col1 {\n",
       "            text-align:  left;\n",
       "            text-align:  left;\n",
       "            : ;\n",
       "        }    #T_264078d9_7a56_11eb_8e32_94b86da6f553row5_col2 {\n",
       "            text-align:  left;\n",
       "            text-align:  left;\n",
       "            : ;\n",
       "        }    #T_264078d9_7a56_11eb_8e32_94b86da6f553row5_col3 {\n",
       "            text-align:  left;\n",
       "            text-align:  left;\n",
       "            : ;\n",
       "        }    #T_264078d9_7a56_11eb_8e32_94b86da6f553row5_col4 {\n",
       "            text-align:  left;\n",
       "            text-align:  left;\n",
       "            : ;\n",
       "        }    #T_264078d9_7a56_11eb_8e32_94b86da6f553row5_col5 {\n",
       "            text-align:  left;\n",
       "            text-align:  left;\n",
       "            : ;\n",
       "        }    #T_264078d9_7a56_11eb_8e32_94b86da6f553row5_col6 {\n",
       "            text-align:  left;\n",
       "            text-align:  left;\n",
       "            background-color:  yellow;\n",
       "        }    #T_264078d9_7a56_11eb_8e32_94b86da6f553row5_col7 {\n",
       "            text-align:  left;\n",
       "            text-align:  left;\n",
       "            : ;\n",
       "        }    #T_264078d9_7a56_11eb_8e32_94b86da6f553row5_col8 {\n",
       "            text-align:  left;\n",
       "            text-align:  left;\n",
       "            : ;\n",
       "            background-color:  lightgrey;\n",
       "        }    #T_264078d9_7a56_11eb_8e32_94b86da6f553row6_col0 {\n",
       "            text-align:  left;\n",
       "            text-align:  left;\n",
       "        }    #T_264078d9_7a56_11eb_8e32_94b86da6f553row6_col1 {\n",
       "            text-align:  left;\n",
       "            text-align:  left;\n",
       "            : ;\n",
       "        }    #T_264078d9_7a56_11eb_8e32_94b86da6f553row6_col2 {\n",
       "            text-align:  left;\n",
       "            text-align:  left;\n",
       "            : ;\n",
       "        }    #T_264078d9_7a56_11eb_8e32_94b86da6f553row6_col3 {\n",
       "            text-align:  left;\n",
       "            text-align:  left;\n",
       "            : ;\n",
       "        }    #T_264078d9_7a56_11eb_8e32_94b86da6f553row6_col4 {\n",
       "            text-align:  left;\n",
       "            text-align:  left;\n",
       "            : ;\n",
       "        }    #T_264078d9_7a56_11eb_8e32_94b86da6f553row6_col5 {\n",
       "            text-align:  left;\n",
       "            text-align:  left;\n",
       "            : ;\n",
       "        }    #T_264078d9_7a56_11eb_8e32_94b86da6f553row6_col6 {\n",
       "            text-align:  left;\n",
       "            text-align:  left;\n",
       "            : ;\n",
       "        }    #T_264078d9_7a56_11eb_8e32_94b86da6f553row6_col7 {\n",
       "            text-align:  left;\n",
       "            text-align:  left;\n",
       "            : ;\n",
       "        }    #T_264078d9_7a56_11eb_8e32_94b86da6f553row6_col8 {\n",
       "            text-align:  left;\n",
       "            text-align:  left;\n",
       "            : ;\n",
       "            background-color:  lightgrey;\n",
       "        }    #T_264078d9_7a56_11eb_8e32_94b86da6f553row7_col0 {\n",
       "            text-align:  left;\n",
       "            text-align:  left;\n",
       "        }    #T_264078d9_7a56_11eb_8e32_94b86da6f553row7_col1 {\n",
       "            text-align:  left;\n",
       "            text-align:  left;\n",
       "            : ;\n",
       "        }    #T_264078d9_7a56_11eb_8e32_94b86da6f553row7_col2 {\n",
       "            text-align:  left;\n",
       "            text-align:  left;\n",
       "            : ;\n",
       "        }    #T_264078d9_7a56_11eb_8e32_94b86da6f553row7_col3 {\n",
       "            text-align:  left;\n",
       "            text-align:  left;\n",
       "            : ;\n",
       "        }    #T_264078d9_7a56_11eb_8e32_94b86da6f553row7_col4 {\n",
       "            text-align:  left;\n",
       "            text-align:  left;\n",
       "            : ;\n",
       "        }    #T_264078d9_7a56_11eb_8e32_94b86da6f553row7_col5 {\n",
       "            text-align:  left;\n",
       "            text-align:  left;\n",
       "            : ;\n",
       "        }    #T_264078d9_7a56_11eb_8e32_94b86da6f553row7_col6 {\n",
       "            text-align:  left;\n",
       "            text-align:  left;\n",
       "            : ;\n",
       "        }    #T_264078d9_7a56_11eb_8e32_94b86da6f553row7_col7 {\n",
       "            text-align:  left;\n",
       "            text-align:  left;\n",
       "            : ;\n",
       "        }    #T_264078d9_7a56_11eb_8e32_94b86da6f553row7_col8 {\n",
       "            text-align:  left;\n",
       "            text-align:  left;\n",
       "            : ;\n",
       "            background-color:  lightgrey;\n",
       "        }    #T_264078d9_7a56_11eb_8e32_94b86da6f553row8_col0 {\n",
       "            text-align:  left;\n",
       "            text-align:  left;\n",
       "        }    #T_264078d9_7a56_11eb_8e32_94b86da6f553row8_col1 {\n",
       "            text-align:  left;\n",
       "            text-align:  left;\n",
       "            : ;\n",
       "        }    #T_264078d9_7a56_11eb_8e32_94b86da6f553row8_col2 {\n",
       "            text-align:  left;\n",
       "            text-align:  left;\n",
       "            : ;\n",
       "        }    #T_264078d9_7a56_11eb_8e32_94b86da6f553row8_col3 {\n",
       "            text-align:  left;\n",
       "            text-align:  left;\n",
       "            : ;\n",
       "        }    #T_264078d9_7a56_11eb_8e32_94b86da6f553row8_col4 {\n",
       "            text-align:  left;\n",
       "            text-align:  left;\n",
       "            : ;\n",
       "        }    #T_264078d9_7a56_11eb_8e32_94b86da6f553row8_col5 {\n",
       "            text-align:  left;\n",
       "            text-align:  left;\n",
       "            : ;\n",
       "        }    #T_264078d9_7a56_11eb_8e32_94b86da6f553row8_col6 {\n",
       "            text-align:  left;\n",
       "            text-align:  left;\n",
       "            : ;\n",
       "        }    #T_264078d9_7a56_11eb_8e32_94b86da6f553row8_col7 {\n",
       "            text-align:  left;\n",
       "            text-align:  left;\n",
       "            : ;\n",
       "        }    #T_264078d9_7a56_11eb_8e32_94b86da6f553row8_col8 {\n",
       "            text-align:  left;\n",
       "            text-align:  left;\n",
       "            : ;\n",
       "            background-color:  lightgrey;\n",
       "        }    #T_264078d9_7a56_11eb_8e32_94b86da6f553row9_col0 {\n",
       "            text-align:  left;\n",
       "            text-align:  left;\n",
       "        }    #T_264078d9_7a56_11eb_8e32_94b86da6f553row9_col1 {\n",
       "            text-align:  left;\n",
       "            text-align:  left;\n",
       "            : ;\n",
       "        }    #T_264078d9_7a56_11eb_8e32_94b86da6f553row9_col2 {\n",
       "            text-align:  left;\n",
       "            text-align:  left;\n",
       "            : ;\n",
       "        }    #T_264078d9_7a56_11eb_8e32_94b86da6f553row9_col3 {\n",
       "            text-align:  left;\n",
       "            text-align:  left;\n",
       "            : ;\n",
       "        }    #T_264078d9_7a56_11eb_8e32_94b86da6f553row9_col4 {\n",
       "            text-align:  left;\n",
       "            text-align:  left;\n",
       "            : ;\n",
       "        }    #T_264078d9_7a56_11eb_8e32_94b86da6f553row9_col5 {\n",
       "            text-align:  left;\n",
       "            text-align:  left;\n",
       "            : ;\n",
       "        }    #T_264078d9_7a56_11eb_8e32_94b86da6f553row9_col6 {\n",
       "            text-align:  left;\n",
       "            text-align:  left;\n",
       "            : ;\n",
       "        }    #T_264078d9_7a56_11eb_8e32_94b86da6f553row9_col7 {\n",
       "            text-align:  left;\n",
       "            text-align:  left;\n",
       "            : ;\n",
       "        }    #T_264078d9_7a56_11eb_8e32_94b86da6f553row9_col8 {\n",
       "            text-align:  left;\n",
       "            text-align:  left;\n",
       "            : ;\n",
       "            background-color:  lightgrey;\n",
       "        }    #T_264078d9_7a56_11eb_8e32_94b86da6f553row10_col0 {\n",
       "            text-align:  left;\n",
       "            text-align:  left;\n",
       "        }    #T_264078d9_7a56_11eb_8e32_94b86da6f553row10_col1 {\n",
       "            text-align:  left;\n",
       "            text-align:  left;\n",
       "            : ;\n",
       "        }    #T_264078d9_7a56_11eb_8e32_94b86da6f553row10_col2 {\n",
       "            text-align:  left;\n",
       "            text-align:  left;\n",
       "            : ;\n",
       "        }    #T_264078d9_7a56_11eb_8e32_94b86da6f553row10_col3 {\n",
       "            text-align:  left;\n",
       "            text-align:  left;\n",
       "            : ;\n",
       "        }    #T_264078d9_7a56_11eb_8e32_94b86da6f553row10_col4 {\n",
       "            text-align:  left;\n",
       "            text-align:  left;\n",
       "            : ;\n",
       "        }    #T_264078d9_7a56_11eb_8e32_94b86da6f553row10_col5 {\n",
       "            text-align:  left;\n",
       "            text-align:  left;\n",
       "            : ;\n",
       "        }    #T_264078d9_7a56_11eb_8e32_94b86da6f553row10_col6 {\n",
       "            text-align:  left;\n",
       "            text-align:  left;\n",
       "            : ;\n",
       "        }    #T_264078d9_7a56_11eb_8e32_94b86da6f553row10_col7 {\n",
       "            text-align:  left;\n",
       "            text-align:  left;\n",
       "            : ;\n",
       "        }    #T_264078d9_7a56_11eb_8e32_94b86da6f553row10_col8 {\n",
       "            text-align:  left;\n",
       "            text-align:  left;\n",
       "            : ;\n",
       "            background-color:  lightgrey;\n",
       "        }    #T_264078d9_7a56_11eb_8e32_94b86da6f553row11_col0 {\n",
       "            text-align:  left;\n",
       "            text-align:  left;\n",
       "        }    #T_264078d9_7a56_11eb_8e32_94b86da6f553row11_col1 {\n",
       "            text-align:  left;\n",
       "            text-align:  left;\n",
       "            : ;\n",
       "        }    #T_264078d9_7a56_11eb_8e32_94b86da6f553row11_col2 {\n",
       "            text-align:  left;\n",
       "            text-align:  left;\n",
       "            : ;\n",
       "        }    #T_264078d9_7a56_11eb_8e32_94b86da6f553row11_col3 {\n",
       "            text-align:  left;\n",
       "            text-align:  left;\n",
       "            background-color:  yellow;\n",
       "        }    #T_264078d9_7a56_11eb_8e32_94b86da6f553row11_col4 {\n",
       "            text-align:  left;\n",
       "            text-align:  left;\n",
       "            : ;\n",
       "        }    #T_264078d9_7a56_11eb_8e32_94b86da6f553row11_col5 {\n",
       "            text-align:  left;\n",
       "            text-align:  left;\n",
       "            background-color:  yellow;\n",
       "        }    #T_264078d9_7a56_11eb_8e32_94b86da6f553row11_col6 {\n",
       "            text-align:  left;\n",
       "            text-align:  left;\n",
       "            : ;\n",
       "        }    #T_264078d9_7a56_11eb_8e32_94b86da6f553row11_col7 {\n",
       "            text-align:  left;\n",
       "            text-align:  left;\n",
       "            : ;\n",
       "        }    #T_264078d9_7a56_11eb_8e32_94b86da6f553row11_col8 {\n",
       "            text-align:  left;\n",
       "            text-align:  left;\n",
       "            background-color:  yellow;\n",
       "            background-color:  lightgrey;\n",
       "        }    #T_264078d9_7a56_11eb_8e32_94b86da6f553row12_col0 {\n",
       "            text-align:  left;\n",
       "            text-align:  left;\n",
       "        }    #T_264078d9_7a56_11eb_8e32_94b86da6f553row12_col1 {\n",
       "            text-align:  left;\n",
       "            text-align:  left;\n",
       "            : ;\n",
       "        }    #T_264078d9_7a56_11eb_8e32_94b86da6f553row12_col2 {\n",
       "            text-align:  left;\n",
       "            text-align:  left;\n",
       "            : ;\n",
       "        }    #T_264078d9_7a56_11eb_8e32_94b86da6f553row12_col3 {\n",
       "            text-align:  left;\n",
       "            text-align:  left;\n",
       "            : ;\n",
       "        }    #T_264078d9_7a56_11eb_8e32_94b86da6f553row12_col4 {\n",
       "            text-align:  left;\n",
       "            text-align:  left;\n",
       "            : ;\n",
       "        }    #T_264078d9_7a56_11eb_8e32_94b86da6f553row12_col5 {\n",
       "            text-align:  left;\n",
       "            text-align:  left;\n",
       "            : ;\n",
       "        }    #T_264078d9_7a56_11eb_8e32_94b86da6f553row12_col6 {\n",
       "            text-align:  left;\n",
       "            text-align:  left;\n",
       "            : ;\n",
       "        }    #T_264078d9_7a56_11eb_8e32_94b86da6f553row12_col7 {\n",
       "            text-align:  left;\n",
       "            text-align:  left;\n",
       "            : ;\n",
       "        }    #T_264078d9_7a56_11eb_8e32_94b86da6f553row12_col8 {\n",
       "            text-align:  left;\n",
       "            text-align:  left;\n",
       "            : ;\n",
       "            background-color:  lightgrey;\n",
       "        }    #T_264078d9_7a56_11eb_8e32_94b86da6f553row13_col0 {\n",
       "            text-align:  left;\n",
       "            text-align:  left;\n",
       "        }    #T_264078d9_7a56_11eb_8e32_94b86da6f553row13_col1 {\n",
       "            text-align:  left;\n",
       "            text-align:  left;\n",
       "            : ;\n",
       "        }    #T_264078d9_7a56_11eb_8e32_94b86da6f553row13_col2 {\n",
       "            text-align:  left;\n",
       "            text-align:  left;\n",
       "            : ;\n",
       "        }    #T_264078d9_7a56_11eb_8e32_94b86da6f553row13_col3 {\n",
       "            text-align:  left;\n",
       "            text-align:  left;\n",
       "            : ;\n",
       "        }    #T_264078d9_7a56_11eb_8e32_94b86da6f553row13_col4 {\n",
       "            text-align:  left;\n",
       "            text-align:  left;\n",
       "            : ;\n",
       "        }    #T_264078d9_7a56_11eb_8e32_94b86da6f553row13_col5 {\n",
       "            text-align:  left;\n",
       "            text-align:  left;\n",
       "            : ;\n",
       "        }    #T_264078d9_7a56_11eb_8e32_94b86da6f553row13_col6 {\n",
       "            text-align:  left;\n",
       "            text-align:  left;\n",
       "            : ;\n",
       "        }    #T_264078d9_7a56_11eb_8e32_94b86da6f553row13_col7 {\n",
       "            text-align:  left;\n",
       "            text-align:  left;\n",
       "            : ;\n",
       "        }    #T_264078d9_7a56_11eb_8e32_94b86da6f553row13_col8 {\n",
       "            text-align:  left;\n",
       "            text-align:  left;\n",
       "            : ;\n",
       "            background-color:  lightgrey;\n",
       "        }</style><table id=\"T_264078d9_7a56_11eb_8e32_94b86da6f553\" ><thead>    <tr>        <th class=\"blank level0\" ></th>        <th class=\"col_heading level0 col0\" >Model</th>        <th class=\"col_heading level0 col1\" >Accuracy</th>        <th class=\"col_heading level0 col2\" >AUC</th>        <th class=\"col_heading level0 col3\" >Recall</th>        <th class=\"col_heading level0 col4\" >Prec.</th>        <th class=\"col_heading level0 col5\" >F1</th>        <th class=\"col_heading level0 col6\" >Kappa</th>        <th class=\"col_heading level0 col7\" >MCC</th>        <th class=\"col_heading level0 col8\" >TT (Sec)</th>    </tr></thead><tbody>\n",
       "                <tr>\n",
       "                        <th id=\"T_264078d9_7a56_11eb_8e32_94b86da6f553level0_row0\" class=\"row_heading level0 row0\" >lightgbm</th>\n",
       "                        <td id=\"T_264078d9_7a56_11eb_8e32_94b86da6f553row0_col0\" class=\"data row0 col0\" >Light Gradient Boosting Machine</td>\n",
       "                        <td id=\"T_264078d9_7a56_11eb_8e32_94b86da6f553row0_col1\" class=\"data row0 col1\" >0.7595</td>\n",
       "                        <td id=\"T_264078d9_7a56_11eb_8e32_94b86da6f553row0_col2\" class=\"data row0 col2\" >0.6673</td>\n",
       "                        <td id=\"T_264078d9_7a56_11eb_8e32_94b86da6f553row0_col3\" class=\"data row0 col3\" >0.0439</td>\n",
       "                        <td id=\"T_264078d9_7a56_11eb_8e32_94b86da6f553row0_col4\" class=\"data row0 col4\" >0.5082</td>\n",
       "                        <td id=\"T_264078d9_7a56_11eb_8e32_94b86da6f553row0_col5\" class=\"data row0 col5\" >0.0807</td>\n",
       "                        <td id=\"T_264078d9_7a56_11eb_8e32_94b86da6f553row0_col6\" class=\"data row0 col6\" >0.0443</td>\n",
       "                        <td id=\"T_264078d9_7a56_11eb_8e32_94b86da6f553row0_col7\" class=\"data row0 col7\" >0.0910</td>\n",
       "                        <td id=\"T_264078d9_7a56_11eb_8e32_94b86da6f553row0_col8\" class=\"data row0 col8\" >1.5070</td>\n",
       "            </tr>\n",
       "            <tr>\n",
       "                        <th id=\"T_264078d9_7a56_11eb_8e32_94b86da6f553level0_row1\" class=\"row_heading level0 row1\" >gbc</th>\n",
       "                        <td id=\"T_264078d9_7a56_11eb_8e32_94b86da6f553row1_col0\" class=\"data row1 col0\" >Gradient Boosting Classifier</td>\n",
       "                        <td id=\"T_264078d9_7a56_11eb_8e32_94b86da6f553row1_col1\" class=\"data row1 col1\" >0.7594</td>\n",
       "                        <td id=\"T_264078d9_7a56_11eb_8e32_94b86da6f553row1_col2\" class=\"data row1 col2\" >0.6232</td>\n",
       "                        <td id=\"T_264078d9_7a56_11eb_8e32_94b86da6f553row1_col3\" class=\"data row1 col3\" >0.0139</td>\n",
       "                        <td id=\"T_264078d9_7a56_11eb_8e32_94b86da6f553row1_col4\" class=\"data row1 col4\" >0.5309</td>\n",
       "                        <td id=\"T_264078d9_7a56_11eb_8e32_94b86da6f553row1_col5\" class=\"data row1 col5\" >0.0270</td>\n",
       "                        <td id=\"T_264078d9_7a56_11eb_8e32_94b86da6f553row1_col6\" class=\"data row1 col6\" >0.0148</td>\n",
       "                        <td id=\"T_264078d9_7a56_11eb_8e32_94b86da6f553row1_col7\" class=\"data row1 col7\" >0.0530</td>\n",
       "                        <td id=\"T_264078d9_7a56_11eb_8e32_94b86da6f553row1_col8\" class=\"data row1 col8\" >2.0410</td>\n",
       "            </tr>\n",
       "            <tr>\n",
       "                        <th id=\"T_264078d9_7a56_11eb_8e32_94b86da6f553level0_row2\" class=\"row_heading level0 row2\" >catboost</th>\n",
       "                        <td id=\"T_264078d9_7a56_11eb_8e32_94b86da6f553row2_col0\" class=\"data row2 col0\" >CatBoost Classifier</td>\n",
       "                        <td id=\"T_264078d9_7a56_11eb_8e32_94b86da6f553row2_col1\" class=\"data row2 col1\" >0.7574</td>\n",
       "                        <td id=\"T_264078d9_7a56_11eb_8e32_94b86da6f553row2_col2\" class=\"data row2 col2\" >0.6677</td>\n",
       "                        <td id=\"T_264078d9_7a56_11eb_8e32_94b86da6f553row2_col3\" class=\"data row2 col3\" >0.0705</td>\n",
       "                        <td id=\"T_264078d9_7a56_11eb_8e32_94b86da6f553row2_col4\" class=\"data row2 col4\" >0.4762</td>\n",
       "                        <td id=\"T_264078d9_7a56_11eb_8e32_94b86da6f553row2_col5\" class=\"data row2 col5\" >0.1227</td>\n",
       "                        <td id=\"T_264078d9_7a56_11eb_8e32_94b86da6f553row2_col6\" class=\"data row2 col6\" >0.0647</td>\n",
       "                        <td id=\"T_264078d9_7a56_11eb_8e32_94b86da6f553row2_col7\" class=\"data row2 col7\" >0.1057</td>\n",
       "                        <td id=\"T_264078d9_7a56_11eb_8e32_94b86da6f553row2_col8\" class=\"data row2 col8\" >17.5260</td>\n",
       "            </tr>\n",
       "            <tr>\n",
       "                        <th id=\"T_264078d9_7a56_11eb_8e32_94b86da6f553level0_row3\" class=\"row_heading level0 row3\" >rf</th>\n",
       "                        <td id=\"T_264078d9_7a56_11eb_8e32_94b86da6f553row3_col0\" class=\"data row3 col0\" >Random Forest Classifier</td>\n",
       "                        <td id=\"T_264078d9_7a56_11eb_8e32_94b86da6f553row3_col1\" class=\"data row3 col1\" >0.7370</td>\n",
       "                        <td id=\"T_264078d9_7a56_11eb_8e32_94b86da6f553row3_col2\" class=\"data row3 col2\" >0.6183</td>\n",
       "                        <td id=\"T_264078d9_7a56_11eb_8e32_94b86da6f553row3_col3\" class=\"data row3 col3\" >0.1263</td>\n",
       "                        <td id=\"T_264078d9_7a56_11eb_8e32_94b86da6f553row3_col4\" class=\"data row3 col4\" >0.3666</td>\n",
       "                        <td id=\"T_264078d9_7a56_11eb_8e32_94b86da6f553row3_col5\" class=\"data row3 col5\" >0.1876</td>\n",
       "                        <td id=\"T_264078d9_7a56_11eb_8e32_94b86da6f553row3_col6\" class=\"data row3 col6\" >0.0736</td>\n",
       "                        <td id=\"T_264078d9_7a56_11eb_8e32_94b86da6f553row3_col7\" class=\"data row3 col7\" >0.0885</td>\n",
       "                        <td id=\"T_264078d9_7a56_11eb_8e32_94b86da6f553row3_col8\" class=\"data row3 col8\" >1.6560</td>\n",
       "            </tr>\n",
       "            <tr>\n",
       "                        <th id=\"T_264078d9_7a56_11eb_8e32_94b86da6f553level0_row4\" class=\"row_heading level0 row4\" >ada</th>\n",
       "                        <td id=\"T_264078d9_7a56_11eb_8e32_94b86da6f553row4_col0\" class=\"data row4 col0\" >Ada Boost Classifier</td>\n",
       "                        <td id=\"T_264078d9_7a56_11eb_8e32_94b86da6f553row4_col1\" class=\"data row4 col1\" >0.7321</td>\n",
       "                        <td id=\"T_264078d9_7a56_11eb_8e32_94b86da6f553row4_col2\" class=\"data row4 col2\" >0.5626</td>\n",
       "                        <td id=\"T_264078d9_7a56_11eb_8e32_94b86da6f553row4_col3\" class=\"data row4 col3\" >0.0925</td>\n",
       "                        <td id=\"T_264078d9_7a56_11eb_8e32_94b86da6f553row4_col4\" class=\"data row4 col4\" >0.3049</td>\n",
       "                        <td id=\"T_264078d9_7a56_11eb_8e32_94b86da6f553row4_col5\" class=\"data row4 col5\" >0.1398</td>\n",
       "                        <td id=\"T_264078d9_7a56_11eb_8e32_94b86da6f553row4_col6\" class=\"data row4 col6\" >0.0357</td>\n",
       "                        <td id=\"T_264078d9_7a56_11eb_8e32_94b86da6f553row4_col7\" class=\"data row4 col7\" >0.0437</td>\n",
       "                        <td id=\"T_264078d9_7a56_11eb_8e32_94b86da6f553row4_col8\" class=\"data row4 col8\" >0.5590</td>\n",
       "            </tr>\n",
       "            <tr>\n",
       "                        <th id=\"T_264078d9_7a56_11eb_8e32_94b86da6f553level0_row5\" class=\"row_heading level0 row5\" >et</th>\n",
       "                        <td id=\"T_264078d9_7a56_11eb_8e32_94b86da6f553row5_col0\" class=\"data row5 col0\" >Extra Trees Classifier</td>\n",
       "                        <td id=\"T_264078d9_7a56_11eb_8e32_94b86da6f553row5_col1\" class=\"data row5 col1\" >0.7299</td>\n",
       "                        <td id=\"T_264078d9_7a56_11eb_8e32_94b86da6f553row5_col2\" class=\"data row5 col2\" >0.6214</td>\n",
       "                        <td id=\"T_264078d9_7a56_11eb_8e32_94b86da6f553row5_col3\" class=\"data row5 col3\" >0.1496</td>\n",
       "                        <td id=\"T_264078d9_7a56_11eb_8e32_94b86da6f553row5_col4\" class=\"data row5 col4\" >0.3564</td>\n",
       "                        <td id=\"T_264078d9_7a56_11eb_8e32_94b86da6f553row5_col5\" class=\"data row5 col5\" >0.2107</td>\n",
       "                        <td id=\"T_264078d9_7a56_11eb_8e32_94b86da6f553row5_col6\" class=\"data row5 col6\" >0.0795</td>\n",
       "                        <td id=\"T_264078d9_7a56_11eb_8e32_94b86da6f553row5_col7\" class=\"data row5 col7\" >0.0905</td>\n",
       "                        <td id=\"T_264078d9_7a56_11eb_8e32_94b86da6f553row5_col8\" class=\"data row5 col8\" >14.5500</td>\n",
       "            </tr>\n",
       "            <tr>\n",
       "                        <th id=\"T_264078d9_7a56_11eb_8e32_94b86da6f553level0_row6\" class=\"row_heading level0 row6\" >dt</th>\n",
       "                        <td id=\"T_264078d9_7a56_11eb_8e32_94b86da6f553row6_col0\" class=\"data row6 col0\" >Decision Tree Classifier</td>\n",
       "                        <td id=\"T_264078d9_7a56_11eb_8e32_94b86da6f553row6_col1\" class=\"data row6 col1\" >0.6477</td>\n",
       "                        <td id=\"T_264078d9_7a56_11eb_8e32_94b86da6f553row6_col2\" class=\"data row6 col2\" >0.5366</td>\n",
       "                        <td id=\"T_264078d9_7a56_11eb_8e32_94b86da6f553row6_col3\" class=\"data row6 col3\" >0.3221</td>\n",
       "                        <td id=\"T_264078d9_7a56_11eb_8e32_94b86da6f553row6_col4\" class=\"data row6 col4\" >0.2913</td>\n",
       "                        <td id=\"T_264078d9_7a56_11eb_8e32_94b86da6f553row6_col5\" class=\"data row6 col5\" >0.3058</td>\n",
       "                        <td id=\"T_264078d9_7a56_11eb_8e32_94b86da6f553row6_col6\" class=\"data row6 col6\" >0.0706</td>\n",
       "                        <td id=\"T_264078d9_7a56_11eb_8e32_94b86da6f553row6_col7\" class=\"data row6 col7\" >0.0708</td>\n",
       "                        <td id=\"T_264078d9_7a56_11eb_8e32_94b86da6f553row6_col8\" class=\"data row6 col8\" >0.1300</td>\n",
       "            </tr>\n",
       "            <tr>\n",
       "                        <th id=\"T_264078d9_7a56_11eb_8e32_94b86da6f553level0_row7\" class=\"row_heading level0 row7\" >knn</th>\n",
       "                        <td id=\"T_264078d9_7a56_11eb_8e32_94b86da6f553row7_col0\" class=\"data row7 col0\" >K Neighbors Classifier</td>\n",
       "                        <td id=\"T_264078d9_7a56_11eb_8e32_94b86da6f553row7_col1\" class=\"data row7 col1\" >0.5641</td>\n",
       "                        <td id=\"T_264078d9_7a56_11eb_8e32_94b86da6f553row7_col2\" class=\"data row7 col2\" >0.5689</td>\n",
       "                        <td id=\"T_264078d9_7a56_11eb_8e32_94b86da6f553row7_col3\" class=\"data row7 col3\" >0.5204</td>\n",
       "                        <td id=\"T_264078d9_7a56_11eb_8e32_94b86da6f553row7_col4\" class=\"data row7 col4\" >0.2814</td>\n",
       "                        <td id=\"T_264078d9_7a56_11eb_8e32_94b86da6f553row7_col5\" class=\"data row7 col5\" >0.3652</td>\n",
       "                        <td id=\"T_264078d9_7a56_11eb_8e32_94b86da6f553row7_col6\" class=\"data row7 col6\" >0.0763</td>\n",
       "                        <td id=\"T_264078d9_7a56_11eb_8e32_94b86da6f553row7_col7\" class=\"data row7 col7\" >0.0846</td>\n",
       "                        <td id=\"T_264078d9_7a56_11eb_8e32_94b86da6f553row7_col8\" class=\"data row7 col8\" >0.1980</td>\n",
       "            </tr>\n",
       "            <tr>\n",
       "                        <th id=\"T_264078d9_7a56_11eb_8e32_94b86da6f553level0_row8\" class=\"row_heading level0 row8\" >svm</th>\n",
       "                        <td id=\"T_264078d9_7a56_11eb_8e32_94b86da6f553row8_col0\" class=\"data row8 col0\" >SVM - Linear Kernel</td>\n",
       "                        <td id=\"T_264078d9_7a56_11eb_8e32_94b86da6f553row8_col1\" class=\"data row8 col1\" >0.5197</td>\n",
       "                        <td id=\"T_264078d9_7a56_11eb_8e32_94b86da6f553row8_col2\" class=\"data row8 col2\" >0.0000</td>\n",
       "                        <td id=\"T_264078d9_7a56_11eb_8e32_94b86da6f553row8_col3\" class=\"data row8 col3\" >0.5143</td>\n",
       "                        <td id=\"T_264078d9_7a56_11eb_8e32_94b86da6f553row8_col4\" class=\"data row8 col4\" >0.2296</td>\n",
       "                        <td id=\"T_264078d9_7a56_11eb_8e32_94b86da6f553row8_col5\" class=\"data row8 col5\" >0.2791</td>\n",
       "                        <td id=\"T_264078d9_7a56_11eb_8e32_94b86da6f553row8_col6\" class=\"data row8 col6\" >0.0259</td>\n",
       "                        <td id=\"T_264078d9_7a56_11eb_8e32_94b86da6f553row8_col7\" class=\"data row8 col7\" >0.0412</td>\n",
       "                        <td id=\"T_264078d9_7a56_11eb_8e32_94b86da6f553row8_col8\" class=\"data row8 col8\" >0.4270</td>\n",
       "            </tr>\n",
       "            <tr>\n",
       "                        <th id=\"T_264078d9_7a56_11eb_8e32_94b86da6f553level0_row9\" class=\"row_heading level0 row9\" >qda</th>\n",
       "                        <td id=\"T_264078d9_7a56_11eb_8e32_94b86da6f553row9_col0\" class=\"data row9 col0\" >Quadratic Discriminant Analysis</td>\n",
       "                        <td id=\"T_264078d9_7a56_11eb_8e32_94b86da6f553row9_col1\" class=\"data row9 col1\" >0.4804</td>\n",
       "                        <td id=\"T_264078d9_7a56_11eb_8e32_94b86da6f553row9_col2\" class=\"data row9 col2\" >0.5498</td>\n",
       "                        <td id=\"T_264078d9_7a56_11eb_8e32_94b86da6f553row9_col3\" class=\"data row9 col3\" >0.6466</td>\n",
       "                        <td id=\"T_264078d9_7a56_11eb_8e32_94b86da6f553row9_col4\" class=\"data row9 col4\" >0.2639</td>\n",
       "                        <td id=\"T_264078d9_7a56_11eb_8e32_94b86da6f553row9_col5\" class=\"data row9 col5\" >0.3748</td>\n",
       "                        <td id=\"T_264078d9_7a56_11eb_8e32_94b86da6f553row9_col6\" class=\"data row9 col6\" >0.0496</td>\n",
       "                        <td id=\"T_264078d9_7a56_11eb_8e32_94b86da6f553row9_col7\" class=\"data row9 col7\" >0.0645</td>\n",
       "                        <td id=\"T_264078d9_7a56_11eb_8e32_94b86da6f553row9_col8\" class=\"data row9 col8\" >0.1400</td>\n",
       "            </tr>\n",
       "            <tr>\n",
       "                        <th id=\"T_264078d9_7a56_11eb_8e32_94b86da6f553level0_row10\" class=\"row_heading level0 row10\" >lr</th>\n",
       "                        <td id=\"T_264078d9_7a56_11eb_8e32_94b86da6f553row10_col0\" class=\"data row10 col0\" >Logistic Regression</td>\n",
       "                        <td id=\"T_264078d9_7a56_11eb_8e32_94b86da6f553row10_col1\" class=\"data row10 col1\" >0.4746</td>\n",
       "                        <td id=\"T_264078d9_7a56_11eb_8e32_94b86da6f553row10_col2\" class=\"data row10 col2\" >0.5581</td>\n",
       "                        <td id=\"T_264078d9_7a56_11eb_8e32_94b86da6f553row10_col3\" class=\"data row10 col3\" >0.6472</td>\n",
       "                        <td id=\"T_264078d9_7a56_11eb_8e32_94b86da6f553row10_col4\" class=\"data row10 col4\" >0.2615</td>\n",
       "                        <td id=\"T_264078d9_7a56_11eb_8e32_94b86da6f553row10_col5\" class=\"data row10 col5\" >0.3725</td>\n",
       "                        <td id=\"T_264078d9_7a56_11eb_8e32_94b86da6f553row10_col6\" class=\"data row10 col6\" >0.0446</td>\n",
       "                        <td id=\"T_264078d9_7a56_11eb_8e32_94b86da6f553row10_col7\" class=\"data row10 col7\" >0.0584</td>\n",
       "                        <td id=\"T_264078d9_7a56_11eb_8e32_94b86da6f553row10_col8\" class=\"data row10 col8\" >0.7840</td>\n",
       "            </tr>\n",
       "            <tr>\n",
       "                        <th id=\"T_264078d9_7a56_11eb_8e32_94b86da6f553level0_row11\" class=\"row_heading level0 row11\" >nb</th>\n",
       "                        <td id=\"T_264078d9_7a56_11eb_8e32_94b86da6f553row11_col0\" class=\"data row11 col0\" >Naive Bayes</td>\n",
       "                        <td id=\"T_264078d9_7a56_11eb_8e32_94b86da6f553row11_col1\" class=\"data row11 col1\" >0.4742</td>\n",
       "                        <td id=\"T_264078d9_7a56_11eb_8e32_94b86da6f553row11_col2\" class=\"data row11 col2\" >0.5462</td>\n",
       "                        <td id=\"T_264078d9_7a56_11eb_8e32_94b86da6f553row11_col3\" class=\"data row11 col3\" >0.6585</td>\n",
       "                        <td id=\"T_264078d9_7a56_11eb_8e32_94b86da6f553row11_col4\" class=\"data row11 col4\" >0.2635</td>\n",
       "                        <td id=\"T_264078d9_7a56_11eb_8e32_94b86da6f553row11_col5\" class=\"data row11 col5\" >0.3763</td>\n",
       "                        <td id=\"T_264078d9_7a56_11eb_8e32_94b86da6f553row11_col6\" class=\"data row11 col6\" >0.0491</td>\n",
       "                        <td id=\"T_264078d9_7a56_11eb_8e32_94b86da6f553row11_col7\" class=\"data row11 col7\" >0.0648</td>\n",
       "                        <td id=\"T_264078d9_7a56_11eb_8e32_94b86da6f553row11_col8\" class=\"data row11 col8\" >0.0640</td>\n",
       "            </tr>\n",
       "            <tr>\n",
       "                        <th id=\"T_264078d9_7a56_11eb_8e32_94b86da6f553level0_row12\" class=\"row_heading level0 row12\" >lda</th>\n",
       "                        <td id=\"T_264078d9_7a56_11eb_8e32_94b86da6f553row12_col0\" class=\"data row12 col0\" >Linear Discriminant Analysis</td>\n",
       "                        <td id=\"T_264078d9_7a56_11eb_8e32_94b86da6f553row12_col1\" class=\"data row12 col1\" >0.4730</td>\n",
       "                        <td id=\"T_264078d9_7a56_11eb_8e32_94b86da6f553row12_col2\" class=\"data row12 col2\" >0.5579</td>\n",
       "                        <td id=\"T_264078d9_7a56_11eb_8e32_94b86da6f553row12_col3\" class=\"data row12 col3\" >0.6497</td>\n",
       "                        <td id=\"T_264078d9_7a56_11eb_8e32_94b86da6f553row12_col4\" class=\"data row12 col4\" >0.2613</td>\n",
       "                        <td id=\"T_264078d9_7a56_11eb_8e32_94b86da6f553row12_col5\" class=\"data row12 col5\" >0.3727</td>\n",
       "                        <td id=\"T_264078d9_7a56_11eb_8e32_94b86da6f553row12_col6\" class=\"data row12 col6\" >0.0442</td>\n",
       "                        <td id=\"T_264078d9_7a56_11eb_8e32_94b86da6f553row12_col7\" class=\"data row12 col7\" >0.0581</td>\n",
       "                        <td id=\"T_264078d9_7a56_11eb_8e32_94b86da6f553row12_col8\" class=\"data row12 col8\" >0.3850</td>\n",
       "            </tr>\n",
       "            <tr>\n",
       "                        <th id=\"T_264078d9_7a56_11eb_8e32_94b86da6f553level0_row13\" class=\"row_heading level0 row13\" >ridge</th>\n",
       "                        <td id=\"T_264078d9_7a56_11eb_8e32_94b86da6f553row13_col0\" class=\"data row13 col0\" >Ridge Classifier</td>\n",
       "                        <td id=\"T_264078d9_7a56_11eb_8e32_94b86da6f553row13_col1\" class=\"data row13 col1\" >0.4729</td>\n",
       "                        <td id=\"T_264078d9_7a56_11eb_8e32_94b86da6f553row13_col2\" class=\"data row13 col2\" >0.0000</td>\n",
       "                        <td id=\"T_264078d9_7a56_11eb_8e32_94b86da6f553row13_col3\" class=\"data row13 col3\" >0.6497</td>\n",
       "                        <td id=\"T_264078d9_7a56_11eb_8e32_94b86da6f553row13_col4\" class=\"data row13 col4\" >0.2613</td>\n",
       "                        <td id=\"T_264078d9_7a56_11eb_8e32_94b86da6f553row13_col5\" class=\"data row13 col5\" >0.3727</td>\n",
       "                        <td id=\"T_264078d9_7a56_11eb_8e32_94b86da6f553row13_col6\" class=\"data row13 col6\" >0.0441</td>\n",
       "                        <td id=\"T_264078d9_7a56_11eb_8e32_94b86da6f553row13_col7\" class=\"data row13 col7\" >0.0581</td>\n",
       "                        <td id=\"T_264078d9_7a56_11eb_8e32_94b86da6f553row13_col8\" class=\"data row13 col8\" >0.0670</td>\n",
       "            </tr>\n",
       "    </tbody></table>"
      ],
      "text/plain": [
       "<pandas.io.formats.style.Styler at 0x1d8186603a0>"
      ]
     },
     "metadata": {},
     "output_type": "display_data"
    },
    {
     "data": {
      "text/plain": [
       "LGBMClassifier(boosting_type='gbdt', class_weight=None, colsample_bytree=1.0,\n",
       "               importance_type='split', learning_rate=0.1, max_depth=-1,\n",
       "               min_child_samples=20, min_child_weight=0.001, min_split_gain=0.0,\n",
       "               n_estimators=100, n_jobs=-1, num_leaves=31, objective=None,\n",
       "               random_state=123, reg_alpha=0.0, reg_lambda=0.0, silent=True,\n",
       "               subsample=1.0, subsample_for_bin=200000, subsample_freq=0)"
      ]
     },
     "execution_count": 8,
     "metadata": {},
     "output_type": "execute_result"
    }
   ],
   "source": [
    "compare_models()"
   ]
  },
  {
   "cell_type": "code",
   "execution_count": 7,
   "metadata": {},
   "outputs": [
    {
     "data": {
      "text/html": [
       "<style  type=\"text/css\" >\n",
       "    #T_99c52d9b_79ee_11eb_bf0d_94b86da6f553row10_col0 {\n",
       "            background:  yellow;\n",
       "        }    #T_99c52d9b_79ee_11eb_bf0d_94b86da6f553row10_col1 {\n",
       "            background:  yellow;\n",
       "        }    #T_99c52d9b_79ee_11eb_bf0d_94b86da6f553row10_col2 {\n",
       "            background:  yellow;\n",
       "        }    #T_99c52d9b_79ee_11eb_bf0d_94b86da6f553row10_col3 {\n",
       "            background:  yellow;\n",
       "        }    #T_99c52d9b_79ee_11eb_bf0d_94b86da6f553row10_col4 {\n",
       "            background:  yellow;\n",
       "        }    #T_99c52d9b_79ee_11eb_bf0d_94b86da6f553row10_col5 {\n",
       "            background:  yellow;\n",
       "        }    #T_99c52d9b_79ee_11eb_bf0d_94b86da6f553row10_col6 {\n",
       "            background:  yellow;\n",
       "        }</style><table id=\"T_99c52d9b_79ee_11eb_bf0d_94b86da6f553\" ><thead>    <tr>        <th class=\"blank level0\" ></th>        <th class=\"col_heading level0 col0\" >Accuracy</th>        <th class=\"col_heading level0 col1\" >AUC</th>        <th class=\"col_heading level0 col2\" >Recall</th>        <th class=\"col_heading level0 col3\" >Prec.</th>        <th class=\"col_heading level0 col4\" >F1</th>        <th class=\"col_heading level0 col5\" >Kappa</th>        <th class=\"col_heading level0 col6\" >MCC</th>    </tr></thead><tbody>\n",
       "                <tr>\n",
       "                        <th id=\"T_99c52d9b_79ee_11eb_bf0d_94b86da6f553level0_row0\" class=\"row_heading level0 row0\" >0</th>\n",
       "                        <td id=\"T_99c52d9b_79ee_11eb_bf0d_94b86da6f553row0_col0\" class=\"data row0 col0\" >0.7580</td>\n",
       "                        <td id=\"T_99c52d9b_79ee_11eb_bf0d_94b86da6f553row0_col1\" class=\"data row0 col1\" >0.6740</td>\n",
       "                        <td id=\"T_99c52d9b_79ee_11eb_bf0d_94b86da6f553row0_col2\" class=\"data row0 col2\" >0.0128</td>\n",
       "                        <td id=\"T_99c52d9b_79ee_11eb_bf0d_94b86da6f553row0_col3\" class=\"data row0 col3\" >0.4231</td>\n",
       "                        <td id=\"T_99c52d9b_79ee_11eb_bf0d_94b86da6f553row0_col4\" class=\"data row0 col4\" >0.0249</td>\n",
       "                        <td id=\"T_99c52d9b_79ee_11eb_bf0d_94b86da6f553row0_col5\" class=\"data row0 col5\" >0.0109</td>\n",
       "                        <td id=\"T_99c52d9b_79ee_11eb_bf0d_94b86da6f553row0_col6\" class=\"data row0 col6\" >0.0365</td>\n",
       "            </tr>\n",
       "            <tr>\n",
       "                        <th id=\"T_99c52d9b_79ee_11eb_bf0d_94b86da6f553level0_row1\" class=\"row_heading level0 row1\" >1</th>\n",
       "                        <td id=\"T_99c52d9b_79ee_11eb_bf0d_94b86da6f553row1_col0\" class=\"data row1 col0\" >0.7594</td>\n",
       "                        <td id=\"T_99c52d9b_79ee_11eb_bf0d_94b86da6f553row1_col1\" class=\"data row1 col1\" >0.6600</td>\n",
       "                        <td id=\"T_99c52d9b_79ee_11eb_bf0d_94b86da6f553row1_col2\" class=\"data row1 col2\" >0.0256</td>\n",
       "                        <td id=\"T_99c52d9b_79ee_11eb_bf0d_94b86da6f553row1_col3\" class=\"data row1 col3\" >0.5116</td>\n",
       "                        <td id=\"T_99c52d9b_79ee_11eb_bf0d_94b86da6f553row1_col4\" class=\"data row1 col4\" >0.0488</td>\n",
       "                        <td id=\"T_99c52d9b_79ee_11eb_bf0d_94b86da6f553row1_col5\" class=\"data row1 col5\" >0.0265</td>\n",
       "                        <td id=\"T_99c52d9b_79ee_11eb_bf0d_94b86da6f553row1_col6\" class=\"data row1 col6\" >0.0700</td>\n",
       "            </tr>\n",
       "            <tr>\n",
       "                        <th id=\"T_99c52d9b_79ee_11eb_bf0d_94b86da6f553level0_row2\" class=\"row_heading level0 row2\" >2</th>\n",
       "                        <td id=\"T_99c52d9b_79ee_11eb_bf0d_94b86da6f553row2_col0\" class=\"data row2 col0\" >0.7588</td>\n",
       "                        <td id=\"T_99c52d9b_79ee_11eb_bf0d_94b86da6f553row2_col1\" class=\"data row2 col1\" >0.6595</td>\n",
       "                        <td id=\"T_99c52d9b_79ee_11eb_bf0d_94b86da6f553row2_col2\" class=\"data row2 col2\" >0.0233</td>\n",
       "                        <td id=\"T_99c52d9b_79ee_11eb_bf0d_94b86da6f553row2_col3\" class=\"data row2 col3\" >0.4878</td>\n",
       "                        <td id=\"T_99c52d9b_79ee_11eb_bf0d_94b86da6f553row2_col4\" class=\"data row2 col4\" >0.0445</td>\n",
       "                        <td id=\"T_99c52d9b_79ee_11eb_bf0d_94b86da6f553row2_col5\" class=\"data row2 col5\" >0.0230</td>\n",
       "                        <td id=\"T_99c52d9b_79ee_11eb_bf0d_94b86da6f553row2_col6\" class=\"data row2 col6\" >0.0623</td>\n",
       "            </tr>\n",
       "            <tr>\n",
       "                        <th id=\"T_99c52d9b_79ee_11eb_bf0d_94b86da6f553level0_row3\" class=\"row_heading level0 row3\" >3</th>\n",
       "                        <td id=\"T_99c52d9b_79ee_11eb_bf0d_94b86da6f553row3_col0\" class=\"data row3 col0\" >0.7597</td>\n",
       "                        <td id=\"T_99c52d9b_79ee_11eb_bf0d_94b86da6f553row3_col1\" class=\"data row3 col1\" >0.6705</td>\n",
       "                        <td id=\"T_99c52d9b_79ee_11eb_bf0d_94b86da6f553row3_col2\" class=\"data row3 col2\" >0.0186</td>\n",
       "                        <td id=\"T_99c52d9b_79ee_11eb_bf0d_94b86da6f553row3_col3\" class=\"data row3 col3\" >0.5333</td>\n",
       "                        <td id=\"T_99c52d9b_79ee_11eb_bf0d_94b86da6f553row3_col4\" class=\"data row3 col4\" >0.0360</td>\n",
       "                        <td id=\"T_99c52d9b_79ee_11eb_bf0d_94b86da6f553row3_col5\" class=\"data row3 col5\" >0.0201</td>\n",
       "                        <td id=\"T_99c52d9b_79ee_11eb_bf0d_94b86da6f553row3_col6\" class=\"data row3 col6\" >0.0630</td>\n",
       "            </tr>\n",
       "            <tr>\n",
       "                        <th id=\"T_99c52d9b_79ee_11eb_bf0d_94b86da6f553level0_row4\" class=\"row_heading level0 row4\" >4</th>\n",
       "                        <td id=\"T_99c52d9b_79ee_11eb_bf0d_94b86da6f553row4_col0\" class=\"data row4 col0\" >0.7580</td>\n",
       "                        <td id=\"T_99c52d9b_79ee_11eb_bf0d_94b86da6f553row4_col1\" class=\"data row4 col1\" >0.6866</td>\n",
       "                        <td id=\"T_99c52d9b_79ee_11eb_bf0d_94b86da6f553row4_col2\" class=\"data row4 col2\" >0.0245</td>\n",
       "                        <td id=\"T_99c52d9b_79ee_11eb_bf0d_94b86da6f553row4_col3\" class=\"data row4 col3\" >0.4565</td>\n",
       "                        <td id=\"T_99c52d9b_79ee_11eb_bf0d_94b86da6f553row4_col4\" class=\"data row4 col4\" >0.0465</td>\n",
       "                        <td id=\"T_99c52d9b_79ee_11eb_bf0d_94b86da6f553row4_col5\" class=\"data row4 col5\" >0.0225</td>\n",
       "                        <td id=\"T_99c52d9b_79ee_11eb_bf0d_94b86da6f553row4_col6\" class=\"data row4 col6\" >0.0577</td>\n",
       "            </tr>\n",
       "            <tr>\n",
       "                        <th id=\"T_99c52d9b_79ee_11eb_bf0d_94b86da6f553level0_row5\" class=\"row_heading level0 row5\" >5</th>\n",
       "                        <td id=\"T_99c52d9b_79ee_11eb_bf0d_94b86da6f553row5_col0\" class=\"data row5 col0\" >0.7602</td>\n",
       "                        <td id=\"T_99c52d9b_79ee_11eb_bf0d_94b86da6f553row5_col1\" class=\"data row5 col1\" >0.6906</td>\n",
       "                        <td id=\"T_99c52d9b_79ee_11eb_bf0d_94b86da6f553row5_col2\" class=\"data row5 col2\" >0.0198</td>\n",
       "                        <td id=\"T_99c52d9b_79ee_11eb_bf0d_94b86da6f553row5_col3\" class=\"data row5 col3\" >0.5862</td>\n",
       "                        <td id=\"T_99c52d9b_79ee_11eb_bf0d_94b86da6f553row5_col4\" class=\"data row5 col4\" >0.0383</td>\n",
       "                        <td id=\"T_99c52d9b_79ee_11eb_bf0d_94b86da6f553row5_col5\" class=\"data row5 col5\" >0.0229</td>\n",
       "                        <td id=\"T_99c52d9b_79ee_11eb_bf0d_94b86da6f553row5_col6\" class=\"data row5 col6\" >0.0731</td>\n",
       "            </tr>\n",
       "            <tr>\n",
       "                        <th id=\"T_99c52d9b_79ee_11eb_bf0d_94b86da6f553level0_row6\" class=\"row_heading level0 row6\" >6</th>\n",
       "                        <td id=\"T_99c52d9b_79ee_11eb_bf0d_94b86da6f553row6_col0\" class=\"data row6 col0\" >0.7611</td>\n",
       "                        <td id=\"T_99c52d9b_79ee_11eb_bf0d_94b86da6f553row6_col1\" class=\"data row6 col1\" >0.6649</td>\n",
       "                        <td id=\"T_99c52d9b_79ee_11eb_bf0d_94b86da6f553row6_col2\" class=\"data row6 col2\" >0.0210</td>\n",
       "                        <td id=\"T_99c52d9b_79ee_11eb_bf0d_94b86da6f553row6_col3\" class=\"data row6 col3\" >0.6429</td>\n",
       "                        <td id=\"T_99c52d9b_79ee_11eb_bf0d_94b86da6f553row6_col4\" class=\"data row6 col4\" >0.0406</td>\n",
       "                        <td id=\"T_99c52d9b_79ee_11eb_bf0d_94b86da6f553row6_col5\" class=\"data row6 col5\" >0.0258</td>\n",
       "                        <td id=\"T_99c52d9b_79ee_11eb_bf0d_94b86da6f553row6_col6\" class=\"data row6 col6\" >0.0836</td>\n",
       "            </tr>\n",
       "            <tr>\n",
       "                        <th id=\"T_99c52d9b_79ee_11eb_bf0d_94b86da6f553level0_row7\" class=\"row_heading level0 row7\" >7</th>\n",
       "                        <td id=\"T_99c52d9b_79ee_11eb_bf0d_94b86da6f553row7_col0\" class=\"data row7 col0\" >0.7591</td>\n",
       "                        <td id=\"T_99c52d9b_79ee_11eb_bf0d_94b86da6f553row7_col1\" class=\"data row7 col1\" >0.6661</td>\n",
       "                        <td id=\"T_99c52d9b_79ee_11eb_bf0d_94b86da6f553row7_col2\" class=\"data row7 col2\" >0.0233</td>\n",
       "                        <td id=\"T_99c52d9b_79ee_11eb_bf0d_94b86da6f553row7_col3\" class=\"data row7 col3\" >0.5000</td>\n",
       "                        <td id=\"T_99c52d9b_79ee_11eb_bf0d_94b86da6f553row7_col4\" class=\"data row7 col4\" >0.0445</td>\n",
       "                        <td id=\"T_99c52d9b_79ee_11eb_bf0d_94b86da6f553row7_col5\" class=\"data row7 col5\" >0.0236</td>\n",
       "                        <td id=\"T_99c52d9b_79ee_11eb_bf0d_94b86da6f553row7_col6\" class=\"data row7 col6\" >0.0646</td>\n",
       "            </tr>\n",
       "            <tr>\n",
       "                        <th id=\"T_99c52d9b_79ee_11eb_bf0d_94b86da6f553level0_row8\" class=\"row_heading level0 row8\" >8</th>\n",
       "                        <td id=\"T_99c52d9b_79ee_11eb_bf0d_94b86da6f553row8_col0\" class=\"data row8 col0\" >0.7621</td>\n",
       "                        <td id=\"T_99c52d9b_79ee_11eb_bf0d_94b86da6f553row8_col1\" class=\"data row8 col1\" >0.6796</td>\n",
       "                        <td id=\"T_99c52d9b_79ee_11eb_bf0d_94b86da6f553row8_col2\" class=\"data row8 col2\" >0.0385</td>\n",
       "                        <td id=\"T_99c52d9b_79ee_11eb_bf0d_94b86da6f553row8_col3\" class=\"data row8 col3\" >0.6000</td>\n",
       "                        <td id=\"T_99c52d9b_79ee_11eb_bf0d_94b86da6f553row8_col4\" class=\"data row8 col4\" >0.0723</td>\n",
       "                        <td id=\"T_99c52d9b_79ee_11eb_bf0d_94b86da6f553row8_col5\" class=\"data row8 col5\" >0.0446</td>\n",
       "                        <td id=\"T_99c52d9b_79ee_11eb_bf0d_94b86da6f553row8_col6\" class=\"data row8 col6\" >0.1052</td>\n",
       "            </tr>\n",
       "            <tr>\n",
       "                        <th id=\"T_99c52d9b_79ee_11eb_bf0d_94b86da6f553level0_row9\" class=\"row_heading level0 row9\" >9</th>\n",
       "                        <td id=\"T_99c52d9b_79ee_11eb_bf0d_94b86da6f553row9_col0\" class=\"data row9 col0\" >0.7596</td>\n",
       "                        <td id=\"T_99c52d9b_79ee_11eb_bf0d_94b86da6f553row9_col1\" class=\"data row9 col1\" >0.6974</td>\n",
       "                        <td id=\"T_99c52d9b_79ee_11eb_bf0d_94b86da6f553row9_col2\" class=\"data row9 col2\" >0.0280</td>\n",
       "                        <td id=\"T_99c52d9b_79ee_11eb_bf0d_94b86da6f553row9_col3\" class=\"data row9 col3\" >0.5217</td>\n",
       "                        <td id=\"T_99c52d9b_79ee_11eb_bf0d_94b86da6f553row9_col4\" class=\"data row9 col4\" >0.0531</td>\n",
       "                        <td id=\"T_99c52d9b_79ee_11eb_bf0d_94b86da6f553row9_col5\" class=\"data row9 col5\" >0.0293</td>\n",
       "                        <td id=\"T_99c52d9b_79ee_11eb_bf0d_94b86da6f553row9_col6\" class=\"data row9 col6\" >0.0751</td>\n",
       "            </tr>\n",
       "            <tr>\n",
       "                        <th id=\"T_99c52d9b_79ee_11eb_bf0d_94b86da6f553level0_row10\" class=\"row_heading level0 row10\" >Mean</th>\n",
       "                        <td id=\"T_99c52d9b_79ee_11eb_bf0d_94b86da6f553row10_col0\" class=\"data row10 col0\" >0.7596</td>\n",
       "                        <td id=\"T_99c52d9b_79ee_11eb_bf0d_94b86da6f553row10_col1\" class=\"data row10 col1\" >0.6749</td>\n",
       "                        <td id=\"T_99c52d9b_79ee_11eb_bf0d_94b86da6f553row10_col2\" class=\"data row10 col2\" >0.0235</td>\n",
       "                        <td id=\"T_99c52d9b_79ee_11eb_bf0d_94b86da6f553row10_col3\" class=\"data row10 col3\" >0.5263</td>\n",
       "                        <td id=\"T_99c52d9b_79ee_11eb_bf0d_94b86da6f553row10_col4\" class=\"data row10 col4\" >0.0450</td>\n",
       "                        <td id=\"T_99c52d9b_79ee_11eb_bf0d_94b86da6f553row10_col5\" class=\"data row10 col5\" >0.0249</td>\n",
       "                        <td id=\"T_99c52d9b_79ee_11eb_bf0d_94b86da6f553row10_col6\" class=\"data row10 col6\" >0.0691</td>\n",
       "            </tr>\n",
       "            <tr>\n",
       "                        <th id=\"T_99c52d9b_79ee_11eb_bf0d_94b86da6f553level0_row11\" class=\"row_heading level0 row11\" >SD</th>\n",
       "                        <td id=\"T_99c52d9b_79ee_11eb_bf0d_94b86da6f553row11_col0\" class=\"data row11 col0\" >0.0012</td>\n",
       "                        <td id=\"T_99c52d9b_79ee_11eb_bf0d_94b86da6f553row11_col1\" class=\"data row11 col1\" >0.0125</td>\n",
       "                        <td id=\"T_99c52d9b_79ee_11eb_bf0d_94b86da6f553row11_col2\" class=\"data row11 col2\" >0.0064</td>\n",
       "                        <td id=\"T_99c52d9b_79ee_11eb_bf0d_94b86da6f553row11_col3\" class=\"data row11 col3\" >0.0637</td>\n",
       "                        <td id=\"T_99c52d9b_79ee_11eb_bf0d_94b86da6f553row11_col4\" class=\"data row11 col4\" >0.0117</td>\n",
       "                        <td id=\"T_99c52d9b_79ee_11eb_bf0d_94b86da6f553row11_col5\" class=\"data row11 col5\" >0.0080</td>\n",
       "                        <td id=\"T_99c52d9b_79ee_11eb_bf0d_94b86da6f553row11_col6\" class=\"data row11 col6\" >0.0169</td>\n",
       "            </tr>\n",
       "    </tbody></table>"
      ],
      "text/plain": [
       "<pandas.io.formats.style.Styler at 0x1ad3b6377c0>"
      ]
     },
     "metadata": {},
     "output_type": "display_data"
    }
   ],
   "source": [
    "mod1 = create_model('catboost')\n",
    "mod2 = create_model('gbc')\n",
    "mod3 = create_model('ada')\n",
    "mod4 = create_model('rf')\n",
    "mod5 = create_model('et')\n",
    "mod6 = create_model('lightgbm')"
   ]
  },
  {
   "cell_type": "code",
   "execution_count": 9,
   "metadata": {},
   "outputs": [
    {
     "data": {
      "text/html": [
       "<style  type=\"text/css\" >\n",
       "    #T_92d8eb24_7a56_11eb_87c8_94b86da6f553row10_col0 {\n",
       "            background:  yellow;\n",
       "        }    #T_92d8eb24_7a56_11eb_87c8_94b86da6f553row10_col1 {\n",
       "            background:  yellow;\n",
       "        }    #T_92d8eb24_7a56_11eb_87c8_94b86da6f553row10_col2 {\n",
       "            background:  yellow;\n",
       "        }    #T_92d8eb24_7a56_11eb_87c8_94b86da6f553row10_col3 {\n",
       "            background:  yellow;\n",
       "        }    #T_92d8eb24_7a56_11eb_87c8_94b86da6f553row10_col4 {\n",
       "            background:  yellow;\n",
       "        }    #T_92d8eb24_7a56_11eb_87c8_94b86da6f553row10_col5 {\n",
       "            background:  yellow;\n",
       "        }    #T_92d8eb24_7a56_11eb_87c8_94b86da6f553row10_col6 {\n",
       "            background:  yellow;\n",
       "        }</style><table id=\"T_92d8eb24_7a56_11eb_87c8_94b86da6f553\" ><thead>    <tr>        <th class=\"blank level0\" ></th>        <th class=\"col_heading level0 col0\" >Accuracy</th>        <th class=\"col_heading level0 col1\" >AUC</th>        <th class=\"col_heading level0 col2\" >Recall</th>        <th class=\"col_heading level0 col3\" >Prec.</th>        <th class=\"col_heading level0 col4\" >F1</th>        <th class=\"col_heading level0 col5\" >Kappa</th>        <th class=\"col_heading level0 col6\" >MCC</th>    </tr></thead><tbody>\n",
       "                <tr>\n",
       "                        <th id=\"T_92d8eb24_7a56_11eb_87c8_94b86da6f553level0_row0\" class=\"row_heading level0 row0\" >0</th>\n",
       "                        <td id=\"T_92d8eb24_7a56_11eb_87c8_94b86da6f553row0_col0\" class=\"data row0 col0\" >0.7605</td>\n",
       "                        <td id=\"T_92d8eb24_7a56_11eb_87c8_94b86da6f553row0_col1\" class=\"data row0 col1\" >0.6693</td>\n",
       "                        <td id=\"T_92d8eb24_7a56_11eb_87c8_94b86da6f553row0_col2\" class=\"data row0 col2\" >0.0443</td>\n",
       "                        <td id=\"T_92d8eb24_7a56_11eb_87c8_94b86da6f553row0_col3\" class=\"data row0 col3\" >0.5352</td>\n",
       "                        <td id=\"T_92d8eb24_7a56_11eb_87c8_94b86da6f553row0_col4\" class=\"data row0 col4\" >0.0818</td>\n",
       "                        <td id=\"T_92d8eb24_7a56_11eb_87c8_94b86da6f553row0_col5\" class=\"data row0 col5\" >0.0467</td>\n",
       "                        <td id=\"T_92d8eb24_7a56_11eb_87c8_94b86da6f553row0_col6\" class=\"data row0 col6\" >0.0982</td>\n",
       "            </tr>\n",
       "            <tr>\n",
       "                        <th id=\"T_92d8eb24_7a56_11eb_87c8_94b86da6f553level0_row1\" class=\"row_heading level0 row1\" >1</th>\n",
       "                        <td id=\"T_92d8eb24_7a56_11eb_87c8_94b86da6f553row1_col0\" class=\"data row1 col0\" >0.7594</td>\n",
       "                        <td id=\"T_92d8eb24_7a56_11eb_87c8_94b86da6f553row1_col1\" class=\"data row1 col1\" >0.6534</td>\n",
       "                        <td id=\"T_92d8eb24_7a56_11eb_87c8_94b86da6f553row1_col2\" class=\"data row1 col2\" >0.0443</td>\n",
       "                        <td id=\"T_92d8eb24_7a56_11eb_87c8_94b86da6f553row1_col3\" class=\"data row1 col3\" >0.5067</td>\n",
       "                        <td id=\"T_92d8eb24_7a56_11eb_87c8_94b86da6f553row1_col4\" class=\"data row1 col4\" >0.0815</td>\n",
       "                        <td id=\"T_92d8eb24_7a56_11eb_87c8_94b86da6f553row1_col5\" class=\"data row1 col5\" >0.0445</td>\n",
       "                        <td id=\"T_92d8eb24_7a56_11eb_87c8_94b86da6f553row1_col6\" class=\"data row1 col6\" >0.0912</td>\n",
       "            </tr>\n",
       "            <tr>\n",
       "                        <th id=\"T_92d8eb24_7a56_11eb_87c8_94b86da6f553level0_row2\" class=\"row_heading level0 row2\" >2</th>\n",
       "                        <td id=\"T_92d8eb24_7a56_11eb_87c8_94b86da6f553row2_col0\" class=\"data row2 col0\" >0.7591</td>\n",
       "                        <td id=\"T_92d8eb24_7a56_11eb_87c8_94b86da6f553row2_col1\" class=\"data row2 col1\" >0.6582</td>\n",
       "                        <td id=\"T_92d8eb24_7a56_11eb_87c8_94b86da6f553row2_col2\" class=\"data row2 col2\" >0.0490</td>\n",
       "                        <td id=\"T_92d8eb24_7a56_11eb_87c8_94b86da6f553row2_col3\" class=\"data row2 col3\" >0.5000</td>\n",
       "                        <td id=\"T_92d8eb24_7a56_11eb_87c8_94b86da6f553row2_col4\" class=\"data row2 col4\" >0.0892</td>\n",
       "                        <td id=\"T_92d8eb24_7a56_11eb_87c8_94b86da6f553row2_col5\" class=\"data row2 col5\" >0.0483</td>\n",
       "                        <td id=\"T_92d8eb24_7a56_11eb_87c8_94b86da6f553row2_col6\" class=\"data row2 col6\" >0.0942</td>\n",
       "            </tr>\n",
       "            <tr>\n",
       "                        <th id=\"T_92d8eb24_7a56_11eb_87c8_94b86da6f553level0_row3\" class=\"row_heading level0 row3\" >3</th>\n",
       "                        <td id=\"T_92d8eb24_7a56_11eb_87c8_94b86da6f553row3_col0\" class=\"data row3 col0\" >0.7583</td>\n",
       "                        <td id=\"T_92d8eb24_7a56_11eb_87c8_94b86da6f553row3_col1\" class=\"data row3 col1\" >0.6728</td>\n",
       "                        <td id=\"T_92d8eb24_7a56_11eb_87c8_94b86da6f553row3_col2\" class=\"data row3 col2\" >0.0373</td>\n",
       "                        <td id=\"T_92d8eb24_7a56_11eb_87c8_94b86da6f553row3_col3\" class=\"data row3 col3\" >0.4776</td>\n",
       "                        <td id=\"T_92d8eb24_7a56_11eb_87c8_94b86da6f553row3_col4\" class=\"data row3 col4\" >0.0692</td>\n",
       "                        <td id=\"T_92d8eb24_7a56_11eb_87c8_94b86da6f553row3_col5\" class=\"data row3 col5\" >0.0355</td>\n",
       "                        <td id=\"T_92d8eb24_7a56_11eb_87c8_94b86da6f553row3_col6\" class=\"data row3 col6\" >0.0767</td>\n",
       "            </tr>\n",
       "            <tr>\n",
       "                        <th id=\"T_92d8eb24_7a56_11eb_87c8_94b86da6f553level0_row4\" class=\"row_heading level0 row4\" >4</th>\n",
       "                        <td id=\"T_92d8eb24_7a56_11eb_87c8_94b86da6f553row4_col0\" class=\"data row4 col0\" >0.7602</td>\n",
       "                        <td id=\"T_92d8eb24_7a56_11eb_87c8_94b86da6f553row4_col1\" class=\"data row4 col1\" >0.6760</td>\n",
       "                        <td id=\"T_92d8eb24_7a56_11eb_87c8_94b86da6f553row4_col2\" class=\"data row4 col2\" >0.0536</td>\n",
       "                        <td id=\"T_92d8eb24_7a56_11eb_87c8_94b86da6f553row4_col3\" class=\"data row4 col3\" >0.5227</td>\n",
       "                        <td id=\"T_92d8eb24_7a56_11eb_87c8_94b86da6f553row4_col4\" class=\"data row4 col4\" >0.0973</td>\n",
       "                        <td id=\"T_92d8eb24_7a56_11eb_87c8_94b86da6f553row4_col5\" class=\"data row4 col5\" >0.0549</td>\n",
       "                        <td id=\"T_92d8eb24_7a56_11eb_87c8_94b86da6f553row4_col6\" class=\"data row4 col6\" >0.1049</td>\n",
       "            </tr>\n",
       "            <tr>\n",
       "                        <th id=\"T_92d8eb24_7a56_11eb_87c8_94b86da6f553level0_row5\" class=\"row_heading level0 row5\" >5</th>\n",
       "                        <td id=\"T_92d8eb24_7a56_11eb_87c8_94b86da6f553row5_col0\" class=\"data row5 col0\" >0.7608</td>\n",
       "                        <td id=\"T_92d8eb24_7a56_11eb_87c8_94b86da6f553row5_col1\" class=\"data row5 col1\" >0.6713</td>\n",
       "                        <td id=\"T_92d8eb24_7a56_11eb_87c8_94b86da6f553row5_col2\" class=\"data row5 col2\" >0.0419</td>\n",
       "                        <td id=\"T_92d8eb24_7a56_11eb_87c8_94b86da6f553row5_col3\" class=\"data row5 col3\" >0.5538</td>\n",
       "                        <td id=\"T_92d8eb24_7a56_11eb_87c8_94b86da6f553row5_col4\" class=\"data row5 col4\" >0.0779</td>\n",
       "                        <td id=\"T_92d8eb24_7a56_11eb_87c8_94b86da6f553row5_col5\" class=\"data row5 col5\" >0.0455</td>\n",
       "                        <td id=\"T_92d8eb24_7a56_11eb_87c8_94b86da6f553row5_col6\" class=\"data row5 col6\" >0.0997</td>\n",
       "            </tr>\n",
       "            <tr>\n",
       "                        <th id=\"T_92d8eb24_7a56_11eb_87c8_94b86da6f553level0_row6\" class=\"row_heading level0 row6\" >6</th>\n",
       "                        <td id=\"T_92d8eb24_7a56_11eb_87c8_94b86da6f553row6_col0\" class=\"data row6 col0\" >0.7566</td>\n",
       "                        <td id=\"T_92d8eb24_7a56_11eb_87c8_94b86da6f553row6_col1\" class=\"data row6 col1\" >0.6650</td>\n",
       "                        <td id=\"T_92d8eb24_7a56_11eb_87c8_94b86da6f553row6_col2\" class=\"data row6 col2\" >0.0291</td>\n",
       "                        <td id=\"T_92d8eb24_7a56_11eb_87c8_94b86da6f553row6_col3\" class=\"data row6 col3\" >0.4310</td>\n",
       "                        <td id=\"T_92d8eb24_7a56_11eb_87c8_94b86da6f553row6_col4\" class=\"data row6 col4\" >0.0545</td>\n",
       "                        <td id=\"T_92d8eb24_7a56_11eb_87c8_94b86da6f553row6_col5\" class=\"data row6 col5\" >0.0248</td>\n",
       "                        <td id=\"T_92d8eb24_7a56_11eb_87c8_94b86da6f553row6_col6\" class=\"data row6 col6\" >0.0571</td>\n",
       "            </tr>\n",
       "            <tr>\n",
       "                        <th id=\"T_92d8eb24_7a56_11eb_87c8_94b86da6f553level0_row7\" class=\"row_heading level0 row7\" >7</th>\n",
       "                        <td id=\"T_92d8eb24_7a56_11eb_87c8_94b86da6f553row7_col0\" class=\"data row7 col0\" >0.7593</td>\n",
       "                        <td id=\"T_92d8eb24_7a56_11eb_87c8_94b86da6f553row7_col1\" class=\"data row7 col1\" >0.6557</td>\n",
       "                        <td id=\"T_92d8eb24_7a56_11eb_87c8_94b86da6f553row7_col2\" class=\"data row7 col2\" >0.0326</td>\n",
       "                        <td id=\"T_92d8eb24_7a56_11eb_87c8_94b86da6f553row7_col3\" class=\"data row7 col3\" >0.5091</td>\n",
       "                        <td id=\"T_92d8eb24_7a56_11eb_87c8_94b86da6f553row7_col4\" class=\"data row7 col4\" >0.0613</td>\n",
       "                        <td id=\"T_92d8eb24_7a56_11eb_87c8_94b86da6f553row7_col5\" class=\"data row7 col5\" >0.0333</td>\n",
       "                        <td id=\"T_92d8eb24_7a56_11eb_87c8_94b86da6f553row7_col6\" class=\"data row7 col6\" >0.0785</td>\n",
       "            </tr>\n",
       "            <tr>\n",
       "                        <th id=\"T_92d8eb24_7a56_11eb_87c8_94b86da6f553level0_row8\" class=\"row_heading level0 row8\" >8</th>\n",
       "                        <td id=\"T_92d8eb24_7a56_11eb_87c8_94b86da6f553row8_col0\" class=\"data row8 col0\" >0.7607</td>\n",
       "                        <td id=\"T_92d8eb24_7a56_11eb_87c8_94b86da6f553row8_col1\" class=\"data row8 col1\" >0.6678</td>\n",
       "                        <td id=\"T_92d8eb24_7a56_11eb_87c8_94b86da6f553row8_col2\" class=\"data row8 col2\" >0.0536</td>\n",
       "                        <td id=\"T_92d8eb24_7a56_11eb_87c8_94b86da6f553row8_col3\" class=\"data row8 col3\" >0.5349</td>\n",
       "                        <td id=\"T_92d8eb24_7a56_11eb_87c8_94b86da6f553row8_col4\" class=\"data row8 col4\" >0.0975</td>\n",
       "                        <td id=\"T_92d8eb24_7a56_11eb_87c8_94b86da6f553row8_col5\" class=\"data row8 col5\" >0.0560</td>\n",
       "                        <td id=\"T_92d8eb24_7a56_11eb_87c8_94b86da6f553row8_col6\" class=\"data row8 col6\" >0.1081</td>\n",
       "            </tr>\n",
       "            <tr>\n",
       "                        <th id=\"T_92d8eb24_7a56_11eb_87c8_94b86da6f553level0_row9\" class=\"row_heading level0 row9\" >9</th>\n",
       "                        <td id=\"T_92d8eb24_7a56_11eb_87c8_94b86da6f553row9_col0\" class=\"data row9 col0\" >0.7596</td>\n",
       "                        <td id=\"T_92d8eb24_7a56_11eb_87c8_94b86da6f553row9_col1\" class=\"data row9 col1\" >0.6835</td>\n",
       "                        <td id=\"T_92d8eb24_7a56_11eb_87c8_94b86da6f553row9_col2\" class=\"data row9 col2\" >0.0536</td>\n",
       "                        <td id=\"T_92d8eb24_7a56_11eb_87c8_94b86da6f553row9_col3\" class=\"data row9 col3\" >0.5111</td>\n",
       "                        <td id=\"T_92d8eb24_7a56_11eb_87c8_94b86da6f553row9_col4\" class=\"data row9 col4\" >0.0970</td>\n",
       "                        <td id=\"T_92d8eb24_7a56_11eb_87c8_94b86da6f553row9_col5\" class=\"data row9 col5\" >0.0538</td>\n",
       "                        <td id=\"T_92d8eb24_7a56_11eb_87c8_94b86da6f553row9_col6\" class=\"data row9 col6\" >0.1017</td>\n",
       "            </tr>\n",
       "            <tr>\n",
       "                        <th id=\"T_92d8eb24_7a56_11eb_87c8_94b86da6f553level0_row10\" class=\"row_heading level0 row10\" >Mean</th>\n",
       "                        <td id=\"T_92d8eb24_7a56_11eb_87c8_94b86da6f553row10_col0\" class=\"data row10 col0\" >0.7595</td>\n",
       "                        <td id=\"T_92d8eb24_7a56_11eb_87c8_94b86da6f553row10_col1\" class=\"data row10 col1\" >0.6673</td>\n",
       "                        <td id=\"T_92d8eb24_7a56_11eb_87c8_94b86da6f553row10_col2\" class=\"data row10 col2\" >0.0439</td>\n",
       "                        <td id=\"T_92d8eb24_7a56_11eb_87c8_94b86da6f553row10_col3\" class=\"data row10 col3\" >0.5082</td>\n",
       "                        <td id=\"T_92d8eb24_7a56_11eb_87c8_94b86da6f553row10_col4\" class=\"data row10 col4\" >0.0807</td>\n",
       "                        <td id=\"T_92d8eb24_7a56_11eb_87c8_94b86da6f553row10_col5\" class=\"data row10 col5\" >0.0443</td>\n",
       "                        <td id=\"T_92d8eb24_7a56_11eb_87c8_94b86da6f553row10_col6\" class=\"data row10 col6\" >0.0910</td>\n",
       "            </tr>\n",
       "            <tr>\n",
       "                        <th id=\"T_92d8eb24_7a56_11eb_87c8_94b86da6f553level0_row11\" class=\"row_heading level0 row11\" >SD</th>\n",
       "                        <td id=\"T_92d8eb24_7a56_11eb_87c8_94b86da6f553row11_col0\" class=\"data row11 col0\" >0.0012</td>\n",
       "                        <td id=\"T_92d8eb24_7a56_11eb_87c8_94b86da6f553row11_col1\" class=\"data row11 col1\" >0.0090</td>\n",
       "                        <td id=\"T_92d8eb24_7a56_11eb_87c8_94b86da6f553row11_col2\" class=\"data row11 col2\" >0.0084</td>\n",
       "                        <td id=\"T_92d8eb24_7a56_11eb_87c8_94b86da6f553row11_col3\" class=\"data row11 col3\" >0.0327</td>\n",
       "                        <td id=\"T_92d8eb24_7a56_11eb_87c8_94b86da6f553row11_col4\" class=\"data row11 col4\" >0.0145</td>\n",
       "                        <td id=\"T_92d8eb24_7a56_11eb_87c8_94b86da6f553row11_col5\" class=\"data row11 col5\" >0.0097</td>\n",
       "                        <td id=\"T_92d8eb24_7a56_11eb_87c8_94b86da6f553row11_col6\" class=\"data row11 col6\" >0.0150</td>\n",
       "            </tr>\n",
       "    </tbody></table>"
      ],
      "text/plain": [
       "<pandas.io.formats.style.Styler at 0x1d864ca9dc0>"
      ]
     },
     "metadata": {},
     "output_type": "display_data"
    }
   ],
   "source": [
    "mod2 = create_model('lightgbm')"
   ]
  },
  {
   "cell_type": "code",
   "execution_count": null,
   "metadata": {},
   "outputs": [],
   "source": [
    "out1 = clf.predict_proba(test.drop(['ID', 'City_Code'],axis=1))[:,1]\n",
    "out2 = clf2.predict_proba(test.drop(['ID', 'City_Code'],axis=1))[:,1]\n",
    "out3 = clf3.predict_proba(test.drop(['ID', 'City_Code'],axis=1))[:,1]\n",
    "out4 = clf4.predict_proba(test.drop(['ID', 'City_Code'],axis=1))[:,1]\n",
    "out5 = clf5.predict_proba(test.drop(['ID', 'City_Code'],axis=1))[:,1]\n"
   ]
  },
  {
   "cell_type": "code",
   "execution_count": 13,
   "metadata": {},
   "outputs": [
    {
     "data": {
      "text/plain": [
       "Index(['ID', 'City_Code', 'Region_Code', 'Accomodation_Type',\n",
       "       'Reco_Insurance_Type', 'Lower_Age', 'Is_Spouse', 'Health Indicator',\n",
       "       'Holding_Policy_Duration', 'Holding_Policy_Type', 'Reco_Policy_Cat',\n",
       "       'Reco_Policy_Premium', 'Response'],\n",
       "      dtype='object')"
      ]
     },
     "execution_count": 13,
     "metadata": {},
     "output_type": "execute_result"
    }
   ],
   "source": [
    "df.columns"
   ]
  },
  {
   "cell_type": "code",
   "execution_count": 10,
   "metadata": {},
   "outputs": [
    {
     "data": {
      "text/plain": [
       "Index(['ID', 'City_Code', 'Region_Code', 'Accomodation_Type',\n",
       "       'Reco_Insurance_Type', 'Lower_Age', 'Is_Spouse', 'Health Indicator',\n",
       "       'Holding_Policy_Duration', 'Holding_Policy_Type', 'Reco_Policy_Cat',\n",
       "       'Reco_Policy_Premium'],\n",
       "      dtype='object')"
      ]
     },
     "execution_count": 10,
     "metadata": {},
     "output_type": "execute_result"
    }
   ],
   "source": [
    "test.columns"
   ]
  },
  {
   "cell_type": "code",
   "execution_count": 14,
   "metadata": {},
   "outputs": [
    {
     "ename": "ValueError",
     "evalue": "Number of features of the model must match the input. Model n_features_ is 10 and input n_features is 12 ",
     "output_type": "error",
     "traceback": [
      "\u001b[1;31m---------------------------------------------------------------------------\u001b[0m",
      "\u001b[1;31mValueError\u001b[0m                                Traceback (most recent call last)",
      "\u001b[1;32m<ipython-input-14-2d7a670963f0>\u001b[0m in \u001b[0;36m<module>\u001b[1;34m\u001b[0m\n\u001b[1;32m----> 1\u001b[1;33m \u001b[0mmod2\u001b[0m\u001b[1;33m.\u001b[0m\u001b[0mpredict_proba\u001b[0m\u001b[1;33m(\u001b[0m\u001b[0mtest\u001b[0m\u001b[1;33m)\u001b[0m\u001b[1;33m\u001b[0m\u001b[1;33m\u001b[0m\u001b[0m\n\u001b[0m",
      "\u001b[1;32m~\\anaconda3\\lib\\site-packages\\lightgbm\\sklearn.py\u001b[0m in \u001b[0;36mpredict_proba\u001b[1;34m(self, X, raw_score, start_iteration, num_iteration, pred_leaf, pred_contrib, **kwargs)\u001b[0m\n\u001b[0;32m    920\u001b[0m             \u001b[0mIf\u001b[0m\u001b[0;31m \u001b[0m\u001b[0;31m`\u001b[0m\u001b[0;31m`\u001b[0m\u001b[0mpred_contrib\u001b[0m\u001b[1;33m=\u001b[0m\u001b[1;32mTrue\u001b[0m\u001b[0;31m`\u001b[0m\u001b[0;31m`\u001b[0m\u001b[1;33m,\u001b[0m \u001b[0mthe\u001b[0m \u001b[0mfeature\u001b[0m \u001b[0mcontributions\u001b[0m \u001b[1;32mfor\u001b[0m \u001b[0meach\u001b[0m \u001b[0msample\u001b[0m\u001b[1;33m.\u001b[0m\u001b[1;33m\u001b[0m\u001b[1;33m\u001b[0m\u001b[0m\n\u001b[0;32m    921\u001b[0m         \"\"\"\n\u001b[1;32m--> 922\u001b[1;33m         result = super(LGBMClassifier, self).predict(X, raw_score, start_iteration, num_iteration,\n\u001b[0m\u001b[0;32m    923\u001b[0m                                                      pred_leaf, pred_contrib, **kwargs)\n\u001b[0;32m    924\u001b[0m         \u001b[1;32mif\u001b[0m \u001b[0mcallable\u001b[0m\u001b[1;33m(\u001b[0m\u001b[0mself\u001b[0m\u001b[1;33m.\u001b[0m\u001b[0m_objective\u001b[0m\u001b[1;33m)\u001b[0m \u001b[1;32mand\u001b[0m \u001b[1;32mnot\u001b[0m \u001b[1;33m(\u001b[0m\u001b[0mraw_score\u001b[0m \u001b[1;32mor\u001b[0m \u001b[0mpred_leaf\u001b[0m \u001b[1;32mor\u001b[0m \u001b[0mpred_contrib\u001b[0m\u001b[1;33m)\u001b[0m\u001b[1;33m:\u001b[0m\u001b[1;33m\u001b[0m\u001b[1;33m\u001b[0m\u001b[0m\n",
      "\u001b[1;32m~\\anaconda3\\lib\\site-packages\\lightgbm\\sklearn.py\u001b[0m in \u001b[0;36mpredict\u001b[1;34m(self, X, raw_score, start_iteration, num_iteration, pred_leaf, pred_contrib, **kwargs)\u001b[0m\n\u001b[0;32m    681\u001b[0m         \u001b[0mn_features\u001b[0m \u001b[1;33m=\u001b[0m \u001b[0mX\u001b[0m\u001b[1;33m.\u001b[0m\u001b[0mshape\u001b[0m\u001b[1;33m[\u001b[0m\u001b[1;36m1\u001b[0m\u001b[1;33m]\u001b[0m\u001b[1;33m\u001b[0m\u001b[1;33m\u001b[0m\u001b[0m\n\u001b[0;32m    682\u001b[0m         \u001b[1;32mif\u001b[0m \u001b[0mself\u001b[0m\u001b[1;33m.\u001b[0m\u001b[0m_n_features\u001b[0m \u001b[1;33m!=\u001b[0m \u001b[0mn_features\u001b[0m\u001b[1;33m:\u001b[0m\u001b[1;33m\u001b[0m\u001b[1;33m\u001b[0m\u001b[0m\n\u001b[1;32m--> 683\u001b[1;33m             raise ValueError(\"Number of features of the model must \"\n\u001b[0m\u001b[0;32m    684\u001b[0m                              \u001b[1;34m\"match the input. Model n_features_ is %s and \"\u001b[0m\u001b[1;33m\u001b[0m\u001b[1;33m\u001b[0m\u001b[0m\n\u001b[0;32m    685\u001b[0m                              \u001b[1;34m\"input n_features is %s \"\u001b[0m\u001b[1;33m\u001b[0m\u001b[1;33m\u001b[0m\u001b[0m\n",
      "\u001b[1;31mValueError\u001b[0m: Number of features of the model must match the input. Model n_features_ is 10 and input n_features is 12 "
     ]
    }
   ],
   "source": [
    "mod2.predict_proba(test)"
   ]
  },
  {
   "cell_type": "code",
   "execution_count": null,
   "metadata": {},
   "outputs": [],
   "source": []
  },
  {
   "cell_type": "code",
   "execution_count": null,
   "metadata": {},
   "outputs": [],
   "source": []
  },
  {
   "cell_type": "code",
   "execution_count": null,
   "metadata": {},
   "outputs": [],
   "source": []
  },
  {
   "cell_type": "code",
   "execution_count": null,
   "metadata": {},
   "outputs": [],
   "source": []
  },
  {
   "cell_type": "code",
   "execution_count": null,
   "metadata": {},
   "outputs": [],
   "source": []
  },
  {
   "cell_type": "code",
   "execution_count": 92,
   "metadata": {},
   "outputs": [],
   "source": [
    "import matplotlib.pyplot as plt"
   ]
  },
  {
   "cell_type": "code",
   "execution_count": 93,
   "metadata": {},
   "outputs": [
    {
     "data": {
      "text/plain": [
       "ID                         0\n",
       "City_Code                  0\n",
       "Region_Code                0\n",
       "Accomodation_Type          0\n",
       "Reco_Insurance_Type        0\n",
       "Lower_Age                  0\n",
       "Is_Spouse                  0\n",
       "Health Indicator           0\n",
       "Holding_Policy_Duration    0\n",
       "Holding_Policy_Type        0\n",
       "Reco_Policy_Cat            0\n",
       "Reco_Policy_Premium        0\n",
       "Response                   0\n",
       "dtype: int64"
      ]
     },
     "execution_count": 93,
     "metadata": {},
     "output_type": "execute_result"
    }
   ],
   "source": [
    "df.isnull().sum()"
   ]
  },
  {
   "cell_type": "code",
   "execution_count": 94,
   "metadata": {},
   "outputs": [
    {
     "data": {
      "image/png": "[encoded data removed]",
      "text/plain": [
       "<Figure size 432x288 with 1 Axes>"
      ]
     },
     "metadata": {
      "needs_background": "light"
     },
     "output_type": "display_data"
    },
    {
     "name": "stdout",
     "output_type": "stream",
     "text": [
      "ID\n"
     ]
    },
    {
     "data": {
      "image/png": "[encoded data removed]",
      "text/plain": [
       "<Figure size 432x288 with 1 Axes>"
      ]
     },
     "metadata": {
      "needs_background": "light"
     },
     "output_type": "display_data"
    },
    {
     "name": "stdout",
     "output_type": "stream",
     "text": [
      "City_Code\n"
     ]
    },
    {
     "data": {
      "image/png": "[encoded data removed]",
      "text/plain": [
       "<Figure size 432x288 with 1 Axes>"
      ]
     },
     "metadata": {
      "needs_background": "light"
     },
     "output_type": "display_data"
    },
    {
     "name": "stdout",
     "output_type": "stream",
     "text": [
      "Region_Code\n"
     ]
    },
    {
     "data": {
      "image/png": "[encoded data removed]",
      "text/plain": [
       "<Figure size 432x288 with 1 Axes>"
      ]
     },
     "metadata": {
      "needs_background": "light"
     },
     "output_type": "display_data"
    },
    {
     "name": "stdout",
     "output_type": "stream",
     "text": [
      "Accomodation_Type\n"
     ]
    },
    {
     "data": {
      "image/png": "[encoded data removed]",
      "text/plain": [
       "<Figure size 432x288 with 1 Axes>"
      ]
     },
     "metadata": {
      "needs_background": "light"
     },
     "output_type": "display_data"
    },
    {
     "name": "stdout",
     "output_type": "stream",
     "text": [
      "Reco_Insurance_Type\n"
     ]
    },
    {
     "data": {
      "image/png": "[encoded data removed]",
      "text/plain": [
       "<Figure size 432x288 with 1 Axes>"
      ]
     },
     "metadata": {
      "needs_background": "light"
     },
     "output_type": "display_data"
    },
    {
     "name": "stdout",
     "output_type": "stream",
     "text": [
      "Lower_Age\n"
     ]
    },
    {
     "data": {
      "image/png": "[encoded data removed]",
      "text/plain": [
       "<Figure size 432x288 with 1 Axes>"
      ]
     },
     "metadata": {
      "needs_background": "light"
     },
     "output_type": "display_data"
    },
    {
     "name": "stdout",
     "output_type": "stream",
     "text": [
      "Is_Spouse\n"
     ]
    },
    {
     "data": {
      "image/png": "[encoded data removed]",
      "text/plain": [
       "<Figure size 432x288 with 1 Axes>"
      ]
     },
     "metadata": {
      "needs_background": "light"
     },
     "output_type": "display_data"
    },
    {
     "name": "stdout",
     "output_type": "stream",
     "text": [
      "Health Indicator\n"
     ]
    },
    {
     "data": {
      "image/png": "[encoded data removed]",
      "text/plain": [
       "<Figure size 432x288 with 1 Axes>"
      ]
     },
     "metadata": {
      "needs_background": "light"
     },
     "output_type": "display_data"
    },
    {
     "name": "stdout",
     "output_type": "stream",
     "text": [
      "Holding_Policy_Duration\n"
     ]
    },
    {
     "data": {
      "image/png": "[encoded data removed]",
      "text/plain": [
       "<Figure size 432x288 with 1 Axes>"
      ]
     },
     "metadata": {
      "needs_background": "light"
     },
     "output_type": "display_data"
    },
    {
     "name": "stdout",
     "output_type": "stream",
     "text": [
      "Holding_Policy_Type\n"
     ]
    },
    {
     "data": {
      "image/png": "[encoded data removed]",
      "text/plain": [
       "<Figure size 432x288 with 1 Axes>"
      ]
     },
     "metadata": {
      "needs_background": "light"
     },
     "output_type": "display_data"
    },
    {
     "name": "stdout",
     "output_type": "stream",
     "text": [
      "Reco_Policy_Cat\n"
     ]
    },
    {
     "data": {
      "image/png": "[encoded data removed]",
      "text/plain": [
       "<Figure size 432x288 with 1 Axes>"
      ]
     },
     "metadata": {
      "needs_background": "light"
     },
     "output_type": "display_data"
    },
    {
     "name": "stdout",
     "output_type": "stream",
     "text": [
      "Reco_Policy_Premium\n"
     ]
    },
    {
     "data": {
      "image/png": "[encoded data removed]",
      "text/plain": [
       "<Figure size 432x288 with 1 Axes>"
      ]
     },
     "metadata": {
      "needs_background": "light"
     },
     "output_type": "display_data"
    },
    {
     "name": "stdout",
     "output_type": "stream",
     "text": [
      "Response\n"
     ]
    }
   ],
   "source": [
    "for i in df.columns:\n",
    "    plt.hist(df[i])\n",
    "    plt.show()\n",
    "    print(i)"
   ]
  },
  {
   "cell_type": "code",
   "execution_count": 95,
   "metadata": {},
   "outputs": [
    {
     "name": "stdout",
     "output_type": "stream",
     "text": [
      "ID\n"
     ]
    },
    {
     "data": {
      "image/png": "[encoded data removed]",
      "text/plain": [
       "<Figure size 432x288 with 1 Axes>"
      ]
     },
     "metadata": {
      "needs_background": "light"
     },
     "output_type": "display_data"
    },
    {
     "name": "stdout",
     "output_type": "stream",
     "text": [
      "City_Code\n"
     ]
    },
    {
     "data": {
      "image/png": "[encoded data removed]",
      "text/plain": [
       "<Figure size 432x288 with 1 Axes>"
      ]
     },
     "metadata": {
      "needs_background": "light"
     },
     "output_type": "display_data"
    },
    {
     "name": "stdout",
     "output_type": "stream",
     "text": [
      "Region_Code\n"
     ]
    },
    {
     "data": {
      "image/png": "[encoded data removed]",
      "text/plain": [
       "<Figure size 432x288 with 1 Axes>"
      ]
     },
     "metadata": {
      "needs_background": "light"
     },
     "output_type": "display_data"
    },
    {
     "name": "stdout",
     "output_type": "stream",
     "text": [
      "Accomodation_Type\n"
     ]
    },
    {
     "data": {
      "image/png": "[encoded data removed]",
      "text/plain": [
       "<Figure size 432x288 with 1 Axes>"
      ]
     },
     "metadata": {
      "needs_background": "light"
     },
     "output_type": "display_data"
    },
    {
     "name": "stdout",
     "output_type": "stream",
     "text": [
      "Reco_Insurance_Type\n"
     ]
    },
    {
     "data": {
      "image/png": "[encoded data removed]",
      "text/plain": [
       "<Figure size 432x288 with 1 Axes>"
      ]
     },
     "metadata": {
      "needs_background": "light"
     },
     "output_type": "display_data"
    },
    {
     "name": "stdout",
     "output_type": "stream",
     "text": [
      "Lower_Age\n"
     ]
    },
    {
     "data": {
      "image/png": "[encoded data removed]",
      "text/plain": [
       "<Figure size 432x288 with 1 Axes>"
      ]
     },
     "metadata": {
      "needs_background": "light"
     },
     "output_type": "display_data"
    },
    {
     "name": "stdout",
     "output_type": "stream",
     "text": [
      "Is_Spouse\n"
     ]
    },
    {
     "data": {
      "image/png": "[encoded data removed]",
      "text/plain": [
       "<Figure size 432x288 with 1 Axes>"
      ]
     },
     "metadata": {
      "needs_background": "light"
     },
     "output_type": "display_data"
    },
    {
     "name": "stdout",
     "output_type": "stream",
     "text": [
      "Health Indicator\n"
     ]
    },
    {
     "data": {
      "image/png": "[encoded data removed]",
      "text/plain": [
       "<Figure size 432x288 with 1 Axes>"
      ]
     },
     "metadata": {
      "needs_background": "light"
     },
     "output_type": "display_data"
    },
    {
     "name": "stdout",
     "output_type": "stream",
     "text": [
      "Holding_Policy_Duration\n"
     ]
    },
    {
     "data": {
      "image/png": "[encoded data removed]",
      "text/plain": [
       "<Figure size 432x288 with 1 Axes>"
      ]
     },
     "metadata": {
      "needs_background": "light"
     },
     "output_type": "display_data"
    },
    {
     "name": "stdout",
     "output_type": "stream",
     "text": [
      "Holding_Policy_Type\n"
     ]
    },
    {
     "data": {
      "image/png": "[encoded data removed]",
      "text/plain": [
       "<Figure size 432x288 with 1 Axes>"
      ]
     },
     "metadata": {
      "needs_background": "light"
     },
     "output_type": "display_data"
    },
    {
     "name": "stdout",
     "output_type": "stream",
     "text": [
      "Reco_Policy_Cat\n"
     ]
    },
    {
     "data": {
      "image/png": "[encoded data removed]",
      "text/plain": [
       "<Figure size 432x288 with 1 Axes>"
      ]
     },
     "metadata": {
      "needs_background": "light"
     },
     "output_type": "display_data"
    },
    {
     "name": "stdout",
     "output_type": "stream",
     "text": [
      "Reco_Policy_Premium\n"
     ]
    },
    {
     "data": {
      "image/png": "[encoded data removed]",
      "text/plain": [
       "<Figure size 432x288 with 1 Axes>"
      ]
     },
     "metadata": {
      "needs_background": "light"
     },
     "output_type": "display_data"
    },
    {
     "name": "stdout",
     "output_type": "stream",
     "text": [
      "Response\n"
     ]
    },
    {
     "data": {
      "image/png": "[encoded data removed]",
      "text/plain": [
       "<Figure size 432x288 with 1 Axes>"
      ]
     },
     "metadata": {
      "needs_background": "light"
     },
     "output_type": "display_data"
    }
   ],
   "source": [
    "for i in df.columns:\n",
    "    print(i)\n",
    "    plt.boxplot(df[i])\n",
    "    plt.show()\n",
    "   "
   ]
  },
  {
   "cell_type": "code",
   "execution_count": 96,
   "metadata": {},
   "outputs": [],
   "source": [
    "# we will Re4move Region code because of ouliers"
   ]
  },
  {
   "cell_type": "code",
   "execution_count": 97,
   "metadata": {},
   "outputs": [],
   "source": [
    "Q1 = df.quantile(0.25)\n",
    "Q3 = df.quantile(0.75)\n",
    "IQR = Q3 - Q1"
   ]
  },
  {
   "cell_type": "code",
   "execution_count": 98,
   "metadata": {},
   "outputs": [
    {
     "data": {
      "text/plain": [
       "ID                             0\n",
       "City_Code                    741\n",
       "Region_Code                  201\n",
       "Accomodation_Type              0\n",
       "Reco_Insurance_Type        10346\n",
       "Lower_Age                      0\n",
       "Is_Spouse                   8422\n",
       "Health Indicator             435\n",
       "Holding_Policy_Duration        0\n",
       "Holding_Policy_Type            0\n",
       "Reco_Policy_Cat                0\n",
       "Reco_Policy_Premium          154\n",
       "Response                   12209\n",
       "dtype: int64"
      ]
     },
     "execution_count": 98,
     "metadata": {},
     "output_type": "execute_result"
    }
   ],
   "source": [
    "((df < (Q1 - 1.5 * IQR)) | (df > (Q3 + 1.5 * IQR))).sum()"
   ]
  },
  {
   "cell_type": "code",
   "execution_count": 99,
   "metadata": {},
   "outputs": [
    {
     "data": {
      "text/plain": [
       "1       96\n",
       "5       75\n",
       "2       73\n",
       "6       73\n",
       "4       73\n",
       "        ..\n",
       "5548     1\n",
       "5671     1\n",
       "5639     1\n",
       "5686     1\n",
       "5524     1\n",
       "Name: Region_Code, Length: 5316, dtype: int64"
      ]
     },
     "execution_count": 99,
     "metadata": {},
     "output_type": "execute_result"
    }
   ],
   "source": [
    "df['Region_Code'].value_counts()"
   ]
  },
  {
   "cell_type": "code",
   "execution_count": 100,
   "metadata": {},
   "outputs": [
    {
     "data": {
      "text/plain": [
       "1391.0"
      ]
     },
     "execution_count": 100,
     "metadata": {},
     "output_type": "execute_result"
    }
   ],
   "source": [
    "df['Region_Code'].quantile(0.5)"
   ]
  },
  {
   "cell_type": "code",
   "execution_count": 101,
   "metadata": {},
   "outputs": [],
   "source": [
    "df['Region_Code']=[0 if x <1391 else 1 for x in df['Region_Code']] "
   ]
  },
  {
   "cell_type": "code",
   "execution_count": 102,
   "metadata": {},
   "outputs": [
    {
     "data": {
      "text/plain": [
       "(array([25429.,     0.,     0.,     0.,     0.,     0.,     0.,     0.,\n",
       "            0., 25453.]),\n",
       " array([0. , 0.1, 0.2, 0.3, 0.4, 0.5, 0.6, 0.7, 0.8, 0.9, 1. ]),\n",
       " <a list of 10 Patch objects>)"
      ]
     },
     "execution_count": 102,
     "metadata": {},
     "output_type": "execute_result"
    },
    {
     "data": {
      "image/png": "[encoded data removed]",
      "text/plain": [
       "<Figure size 432x288 with 1 Axes>"
      ]
     },
     "metadata": {
      "needs_background": "light"
     },
     "output_type": "display_data"
    }
   ],
   "source": [
    "plt.hist(df['Region_Code'])"
   ]
  },
  {
   "cell_type": "code",
   "execution_count": 103,
   "metadata": {},
   "outputs": [
    {
     "data": {
      "text/plain": [
       "0    40536\n",
       "1    10346\n",
       "Name: Reco_Insurance_Type, dtype: int64"
      ]
     },
     "execution_count": 103,
     "metadata": {},
     "output_type": "execute_result"
    }
   ],
   "source": [
    "df['Reco_Insurance_Type'].value_counts()"
   ]
  },
  {
   "cell_type": "code",
   "execution_count": 104,
   "metadata": {},
   "outputs": [],
   "source": [
    "Q1 = df['Reco_Policy_Premium'].quantile(0.25)\n",
    "Q3 = df['Reco_Policy_Premium'].quantile(0.75)\n",
    "IQR = Q3 - Q1"
   ]
  },
  {
   "cell_type": "code",
   "execution_count": 105,
   "metadata": {},
   "outputs": [
    {
     "data": {
      "text/plain": [
       "154"
      ]
     },
     "execution_count": 105,
     "metadata": {},
     "output_type": "execute_result"
    }
   ],
   "source": [
    "((df['Reco_Policy_Premium'] < (Q1 - 1.5 * IQR)) | (df['Reco_Policy_Premium'] > (Q3 + 1.5 * IQR))).sum()"
   ]
  },
  {
   "cell_type": "code",
   "execution_count": 106,
   "metadata": {},
   "outputs": [
    {
     "data": {
      "text/plain": [
       "9.13216259091216"
      ]
     },
     "execution_count": 106,
     "metadata": {},
     "output_type": "execute_result"
    }
   ],
   "source": [
    "df['Reco_Policy_Premium'].quantile(0.25)"
   ]
  },
  {
   "cell_type": "code",
   "execution_count": null,
   "metadata": {},
   "outputs": [],
   "source": []
  },
  {
   "cell_type": "code",
   "execution_count": 141,
   "metadata": {},
   "outputs": [
    {
     "name": "stderr",
     "output_type": "stream",
     "text": [
      "C:\\Users\\LOKSUNDAR\\anaconda3\\lib\\site-packages\\pandas\\core\\indexing.py:671: SettingWithCopyWarning: \n",
      "A value is trying to be set on a copy of a slice from a DataFrame\n",
      "\n",
      "See the caveats in the documentation: https://pandas.pydata.org/pandas-docs/stable/user_guide/indexing.html#returning-a-view-versus-a-copy\n",
      "  self._setitem_with_indexer(indexer, value)\n"
     ]
    }
   ],
   "source": [
    "df['Reco_Policy_Premium'].loc[(df['Reco_Policy_Premium'] < (Q1 - 1.5 * IQR))] = np.nan\n",
    "df['Reco_Policy_Premium'].fillna(10,inplace=True)\n",
    "test['Reco_Policy_Premium'].loc[(test['Reco_Policy_Premium'] < (Q1 - 1.5 * IQR))] = np.nan\n",
    "test['Reco_Policy_Premium'].fillna(10,inplace=True)\n"
   ]
  },
  {
   "cell_type": "code",
   "execution_count": 108,
   "metadata": {},
   "outputs": [
    {
     "data": {
      "text/plain": [
       "0"
      ]
     },
     "execution_count": 108,
     "metadata": {},
     "output_type": "execute_result"
    }
   ],
   "source": [
    "df['Reco_Policy_Premium'].isnull().sum()"
   ]
  },
  {
   "cell_type": "code",
   "execution_count": 109,
   "metadata": {},
   "outputs": [
    {
     "data": {
      "text/html": [
       "<div>\n",
       "<style scoped>\n",
       "    .dataframe tbody tr th:only-of-type {\n",
       "        vertical-align: middle;\n",
       "    }\n",
       "\n",
       "    .dataframe tbody tr th {\n",
       "        vertical-align: top;\n",
       "    }\n",
       "\n",
       "    .dataframe thead th {\n",
       "        text-align: right;\n",
       "    }\n",
       "</style>\n",
       "<table border=\"1\" class=\"dataframe\">\n",
       "  <thead>\n",
       "    <tr style=\"text-align: right;\">\n",
       "      <th></th>\n",
       "      <th>ID</th>\n",
       "      <th>City_Code</th>\n",
       "      <th>Region_Code</th>\n",
       "      <th>Accomodation_Type</th>\n",
       "      <th>Reco_Insurance_Type</th>\n",
       "      <th>Lower_Age</th>\n",
       "      <th>Is_Spouse</th>\n",
       "      <th>Health Indicator</th>\n",
       "      <th>Holding_Policy_Duration</th>\n",
       "      <th>Holding_Policy_Type</th>\n",
       "      <th>Reco_Policy_Cat</th>\n",
       "      <th>Reco_Policy_Premium</th>\n",
       "      <th>Response</th>\n",
       "    </tr>\n",
       "  </thead>\n",
       "  <tbody>\n",
       "    <tr>\n",
       "      <th>0</th>\n",
       "      <td>1</td>\n",
       "      <td>3</td>\n",
       "      <td>1</td>\n",
       "      <td>1</td>\n",
       "      <td>0</td>\n",
       "      <td>36</td>\n",
       "      <td>0</td>\n",
       "      <td>0</td>\n",
       "      <td>15</td>\n",
       "      <td>3.0</td>\n",
       "      <td>22</td>\n",
       "      <td>9.361171</td>\n",
       "      <td>0</td>\n",
       "    </tr>\n",
       "    <tr>\n",
       "      <th>1</th>\n",
       "      <td>2</td>\n",
       "      <td>5</td>\n",
       "      <td>0</td>\n",
       "      <td>0</td>\n",
       "      <td>1</td>\n",
       "      <td>22</td>\n",
       "      <td>0</td>\n",
       "      <td>1</td>\n",
       "      <td>15</td>\n",
       "      <td>3.0</td>\n",
       "      <td>22</td>\n",
       "      <td>10.325810</td>\n",
       "      <td>0</td>\n",
       "    </tr>\n",
       "    <tr>\n",
       "      <th>2</th>\n",
       "      <td>3</td>\n",
       "      <td>5</td>\n",
       "      <td>1</td>\n",
       "      <td>0</td>\n",
       "      <td>0</td>\n",
       "      <td>32</td>\n",
       "      <td>0</td>\n",
       "      <td>0</td>\n",
       "      <td>1</td>\n",
       "      <td>1.0</td>\n",
       "      <td>19</td>\n",
       "      <td>8.915969</td>\n",
       "      <td>1</td>\n",
       "    </tr>\n",
       "    <tr>\n",
       "      <th>3</th>\n",
       "      <td>4</td>\n",
       "      <td>24</td>\n",
       "      <td>1</td>\n",
       "      <td>0</td>\n",
       "      <td>1</td>\n",
       "      <td>48</td>\n",
       "      <td>0</td>\n",
       "      <td>0</td>\n",
       "      <td>15</td>\n",
       "      <td>3.0</td>\n",
       "      <td>19</td>\n",
       "      <td>9.785830</td>\n",
       "      <td>0</td>\n",
       "    </tr>\n",
       "    <tr>\n",
       "      <th>4</th>\n",
       "      <td>5</td>\n",
       "      <td>8</td>\n",
       "      <td>1</td>\n",
       "      <td>1</td>\n",
       "      <td>0</td>\n",
       "      <td>44</td>\n",
       "      <td>0</td>\n",
       "      <td>1</td>\n",
       "      <td>3</td>\n",
       "      <td>1.0</td>\n",
       "      <td>16</td>\n",
       "      <td>9.249946</td>\n",
       "      <td>0</td>\n",
       "    </tr>\n",
       "  </tbody>\n",
       "</table>\n",
       "</div>"
      ],
      "text/plain": [
       "   ID  City_Code  Region_Code  Accomodation_Type  Reco_Insurance_Type  \\\n",
       "0   1          3            1                  1                    0   \n",
       "1   2          5            0                  0                    1   \n",
       "2   3          5            1                  0                    0   \n",
       "3   4         24            1                  0                    1   \n",
       "4   5          8            1                  1                    0   \n",
       "\n",
       "   Lower_Age  Is_Spouse  Health Indicator  Holding_Policy_Duration  \\\n",
       "0         36          0                 0                       15   \n",
       "1         22          0                 1                       15   \n",
       "2         32          0                 0                        1   \n",
       "3         48          0                 0                       15   \n",
       "4         44          0                 1                        3   \n",
       "\n",
       "   Holding_Policy_Type  Reco_Policy_Cat  Reco_Policy_Premium  Response  \n",
       "0                  3.0               22             9.361171         0  \n",
       "1                  3.0               22            10.325810         0  \n",
       "2                  1.0               19             8.915969         1  \n",
       "3                  3.0               19             9.785830         0  \n",
       "4                  1.0               16             9.249946         0  "
      ]
     },
     "execution_count": 109,
     "metadata": {},
     "output_type": "execute_result"
    }
   ],
   "source": [
    "df.head()"
   ]
  },
  {
   "cell_type": "code",
   "execution_count": 110,
   "metadata": {},
   "outputs": [],
   "source": [
    "df.drop(['City_Code'],axis=1,inplace=True)"
   ]
  },
  {
   "cell_type": "code",
   "execution_count": 111,
   "metadata": {},
   "outputs": [
    {
     "data": {
      "text/html": [
       "<div>\n",
       "<style scoped>\n",
       "    .dataframe tbody tr th:only-of-type {\n",
       "        vertical-align: middle;\n",
       "    }\n",
       "\n",
       "    .dataframe tbody tr th {\n",
       "        vertical-align: top;\n",
       "    }\n",
       "\n",
       "    .dataframe thead th {\n",
       "        text-align: right;\n",
       "    }\n",
       "</style>\n",
       "<table border=\"1\" class=\"dataframe\">\n",
       "  <thead>\n",
       "    <tr style=\"text-align: right;\">\n",
       "      <th></th>\n",
       "      <th>ID</th>\n",
       "      <th>Region_Code</th>\n",
       "      <th>Accomodation_Type</th>\n",
       "      <th>Reco_Insurance_Type</th>\n",
       "      <th>Lower_Age</th>\n",
       "      <th>Is_Spouse</th>\n",
       "      <th>Health Indicator</th>\n",
       "      <th>Holding_Policy_Duration</th>\n",
       "      <th>Holding_Policy_Type</th>\n",
       "      <th>Reco_Policy_Cat</th>\n",
       "      <th>Reco_Policy_Premium</th>\n",
       "      <th>Response</th>\n",
       "    </tr>\n",
       "  </thead>\n",
       "  <tbody>\n",
       "    <tr>\n",
       "      <th>0</th>\n",
       "      <td>1</td>\n",
       "      <td>1</td>\n",
       "      <td>1</td>\n",
       "      <td>0</td>\n",
       "      <td>36</td>\n",
       "      <td>0</td>\n",
       "      <td>0</td>\n",
       "      <td>15</td>\n",
       "      <td>3.0</td>\n",
       "      <td>22</td>\n",
       "      <td>9.361171</td>\n",
       "      <td>0</td>\n",
       "    </tr>\n",
       "    <tr>\n",
       "      <th>1</th>\n",
       "      <td>2</td>\n",
       "      <td>0</td>\n",
       "      <td>0</td>\n",
       "      <td>1</td>\n",
       "      <td>22</td>\n",
       "      <td>0</td>\n",
       "      <td>1</td>\n",
       "      <td>15</td>\n",
       "      <td>3.0</td>\n",
       "      <td>22</td>\n",
       "      <td>10.325810</td>\n",
       "      <td>0</td>\n",
       "    </tr>\n",
       "    <tr>\n",
       "      <th>2</th>\n",
       "      <td>3</td>\n",
       "      <td>1</td>\n",
       "      <td>0</td>\n",
       "      <td>0</td>\n",
       "      <td>32</td>\n",
       "      <td>0</td>\n",
       "      <td>0</td>\n",
       "      <td>1</td>\n",
       "      <td>1.0</td>\n",
       "      <td>19</td>\n",
       "      <td>8.915969</td>\n",
       "      <td>1</td>\n",
       "    </tr>\n",
       "    <tr>\n",
       "      <th>3</th>\n",
       "      <td>4</td>\n",
       "      <td>1</td>\n",
       "      <td>0</td>\n",
       "      <td>1</td>\n",
       "      <td>48</td>\n",
       "      <td>0</td>\n",
       "      <td>0</td>\n",
       "      <td>15</td>\n",
       "      <td>3.0</td>\n",
       "      <td>19</td>\n",
       "      <td>9.785830</td>\n",
       "      <td>0</td>\n",
       "    </tr>\n",
       "    <tr>\n",
       "      <th>4</th>\n",
       "      <td>5</td>\n",
       "      <td>1</td>\n",
       "      <td>1</td>\n",
       "      <td>0</td>\n",
       "      <td>44</td>\n",
       "      <td>0</td>\n",
       "      <td>1</td>\n",
       "      <td>3</td>\n",
       "      <td>1.0</td>\n",
       "      <td>16</td>\n",
       "      <td>9.249946</td>\n",
       "      <td>0</td>\n",
       "    </tr>\n",
       "  </tbody>\n",
       "</table>\n",
       "</div>"
      ],
      "text/plain": [
       "   ID  Region_Code  Accomodation_Type  Reco_Insurance_Type  Lower_Age  \\\n",
       "0   1            1                  1                    0         36   \n",
       "1   2            0                  0                    1         22   \n",
       "2   3            1                  0                    0         32   \n",
       "3   4            1                  0                    1         48   \n",
       "4   5            1                  1                    0         44   \n",
       "\n",
       "   Is_Spouse  Health Indicator  Holding_Policy_Duration  Holding_Policy_Type  \\\n",
       "0          0                 0                       15                  3.0   \n",
       "1          0                 1                       15                  3.0   \n",
       "2          0                 0                        1                  1.0   \n",
       "3          0                 0                       15                  3.0   \n",
       "4          0                 1                        3                  1.0   \n",
       "\n",
       "   Reco_Policy_Cat  Reco_Policy_Premium  Response  \n",
       "0               22             9.361171         0  \n",
       "1               22            10.325810         0  \n",
       "2               19             8.915969         1  \n",
       "3               19             9.785830         0  \n",
       "4               16             9.249946         0  "
      ]
     },
     "execution_count": 111,
     "metadata": {},
     "output_type": "execute_result"
    }
   ],
   "source": [
    "df.head()"
   ]
  },
  {
   "cell_type": "code",
   "execution_count": 112,
   "metadata": {},
   "outputs": [],
   "source": [
    "positive_Response_df = df.loc[df['Response'] == 1]#left \n",
    "negative_Response_df = df.loc[df['Response'] == 0]"
   ]
  },
  {
   "cell_type": "code",
   "execution_count": 113,
   "metadata": {},
   "outputs": [
    {
     "data": {
      "text/plain": [
       "(array([6095.,    0.,    0.,    0.,    0.,    0.,    0.,    0.,    0.,\n",
       "        6114.]),\n",
       " array([0. , 0.1, 0.2, 0.3, 0.4, 0.5, 0.6, 0.7, 0.8, 0.9, 1. ]),\n",
       " <a list of 10 Patch objects>)"
      ]
     },
     "execution_count": 113,
     "metadata": {},
     "output_type": "execute_result"
    },
    {
     "data": {
      "image/png": "[encoded data removed]",
      "text/plain": [
       "<Figure size 432x288 with 1 Axes>"
      ]
     },
     "metadata": {
      "needs_background": "light"
     },
     "output_type": "display_data"
    }
   ],
   "source": [
    "plt.hist(positive_Response_df['Region_Code'],  alpha=0.8, rwidth=0.9, color='red')"
   ]
  },
  {
   "cell_type": "code",
   "execution_count": 114,
   "metadata": {},
   "outputs": [
    {
     "data": {
      "text/plain": [
       "(array([19334.,     0.,     0.,     0.,     0.,     0.,     0.,     0.,\n",
       "            0., 19339.]),\n",
       " array([0. , 0.1, 0.2, 0.3, 0.4, 0.5, 0.6, 0.7, 0.8, 0.9, 1. ]),\n",
       " <a list of 10 Patch objects>)"
      ]
     },
     "execution_count": 114,
     "metadata": {},
     "output_type": "execute_result"
    },
    {
     "data": {
      "image/png": "[encoded data removed]",
      "text/plain": [
       "<Figure size 432x288 with 1 Axes>"
      ]
     },
     "metadata": {
      "needs_background": "light"
     },
     "output_type": "display_data"
    }
   ],
   "source": [
    "plt.hist(negative_Response_df['Region_Code'],  alpha=0.8, rwidth=0.9, color='red')"
   ]
  },
  {
   "cell_type": "code",
   "execution_count": 115,
   "metadata": {},
   "outputs": [],
   "source": [
    "#b region code has no effect "
   ]
  },
  {
   "cell_type": "code",
   "execution_count": 116,
   "metadata": {},
   "outputs": [],
   "source": [
    "import seaborn as sns"
   ]
  },
  {
   "cell_type": "code",
   "execution_count": 117,
   "metadata": {},
   "outputs": [
    {
     "name": "stdout",
     "output_type": "stream",
     "text": [
      "Accomodation_Type\n"
     ]
    },
    {
     "data": {
      "image/png": "[encoded data removed]",
      "text/plain": [
       "<Figure size 432x288 with 1 Axes>"
      ]
     },
     "metadata": {
      "needs_background": "light"
     },
     "output_type": "display_data"
    },
    {
     "name": "stdout",
     "output_type": "stream",
     "text": [
      "Reco_Insurance_Type\n"
     ]
    },
    {
     "name": "stderr",
     "output_type": "stream",
     "text": [
      "C:\\Users\\LOKSUNDAR\\anaconda3\\lib\\site-packages\\seaborn\\distributions.py:369: UserWarning: Default bandwidth for data is 0; skipping density estimation.\n",
      "  warnings.warn(msg, UserWarning)\n",
      "C:\\Users\\LOKSUNDAR\\anaconda3\\lib\\site-packages\\seaborn\\distributions.py:369: UserWarning: Default bandwidth for data is 0; skipping density estimation.\n",
      "  warnings.warn(msg, UserWarning)\n"
     ]
    },
    {
     "data": {
      "image/png": "[encoded data removed]",
      "text/plain": [
       "<Figure size 432x288 with 1 Axes>"
      ]
     },
     "metadata": {
      "needs_background": "light"
     },
     "output_type": "display_data"
    },
    {
     "name": "stdout",
     "output_type": "stream",
     "text": [
      "Lower_Age\n"
     ]
    },
    {
     "data": {
      "image/png": "[encoded data removed]",
      "text/plain": [
       "<Figure size 432x288 with 1 Axes>"
      ]
     },
     "metadata": {
      "needs_background": "light"
     },
     "output_type": "display_data"
    },
    {
     "name": "stdout",
     "output_type": "stream",
     "text": [
      "Is_Spouse\n"
     ]
    },
    {
     "name": "stderr",
     "output_type": "stream",
     "text": [
      "C:\\Users\\LOKSUNDAR\\anaconda3\\lib\\site-packages\\seaborn\\distributions.py:369: UserWarning: Default bandwidth for data is 0; skipping density estimation.\n",
      "  warnings.warn(msg, UserWarning)\n",
      "C:\\Users\\LOKSUNDAR\\anaconda3\\lib\\site-packages\\seaborn\\distributions.py:369: UserWarning: Default bandwidth for data is 0; skipping density estimation.\n",
      "  warnings.warn(msg, UserWarning)\n"
     ]
    },
    {
     "data": {
      "image/png": "[encoded data removed]",
      "text/plain": [
       "<Figure size 432x288 with 1 Axes>"
      ]
     },
     "metadata": {
      "needs_background": "light"
     },
     "output_type": "display_data"
    },
    {
     "name": "stdout",
     "output_type": "stream",
     "text": [
      "Health Indicator\n"
     ]
    },
    {
     "data": {
      "image/png": "[encoded data removed]",
      "text/plain": [
       "<Figure size 432x288 with 1 Axes>"
      ]
     },
     "metadata": {
      "needs_background": "light"
     },
     "output_type": "display_data"
    },
    {
     "name": "stdout",
     "output_type": "stream",
     "text": [
      "Holding_Policy_Duration\n"
     ]
    },
    {
     "data": {
      "image/png": "[encoded data removed]",
      "text/plain": [
       "<Figure size 432x288 with 1 Axes>"
      ]
     },
     "metadata": {
      "needs_background": "light"
     },
     "output_type": "display_data"
    },
    {
     "name": "stdout",
     "output_type": "stream",
     "text": [
      "Holding_Policy_Type\n"
     ]
    },
    {
     "data": {
      "image/png": "[encoded data removed]",
      "text/plain": [
       "<Figure size 432x288 with 1 Axes>"
      ]
     },
     "metadata": {
      "needs_background": "light"
     },
     "output_type": "display_data"
    },
    {
     "name": "stdout",
     "output_type": "stream",
     "text": [
      "Reco_Policy_Cat\n"
     ]
    },
    {
     "data": {
      "image/png": "[encoded data removed]",
      "text/plain": [
       "<Figure size 432x288 with 1 Axes>"
      ]
     },
     "metadata": {
      "needs_background": "light"
     },
     "output_type": "display_data"
    },
    {
     "name": "stdout",
     "output_type": "stream",
     "text": [
      "Reco_Policy_Premium\n"
     ]
    },
    {
     "data": {
      "image/png": "[encoded data removed]",
      "text/plain": [
       "<Figure size 432x288 with 1 Axes>"
      ]
     },
     "metadata": {
      "needs_background": "light"
     },
     "output_type": "display_data"
    },
    {
     "name": "stdout",
     "output_type": "stream",
     "text": [
      "Response\n"
     ]
    },
    {
     "name": "stderr",
     "output_type": "stream",
     "text": [
      "C:\\Users\\LOKSUNDAR\\anaconda3\\lib\\site-packages\\seaborn\\distributions.py:283: UserWarning: Data must have variance to compute a kernel density estimate.\n",
      "  warnings.warn(msg, UserWarning)\n",
      "C:\\Users\\LOKSUNDAR\\anaconda3\\lib\\site-packages\\seaborn\\distributions.py:283: UserWarning: Data must have variance to compute a kernel density estimate.\n",
      "  warnings.warn(msg, UserWarning)\n"
     ]
    },
    {
     "data": {
      "image/png": "[encoded data removed]",
      "text/plain": [
       "<Figure size 432x288 with 1 Axes>"
      ]
     },
     "metadata": {
      "needs_background": "light"
     },
     "output_type": "display_data"
    }
   ],
   "source": [
    "for i in df.columns[2:]:\n",
    "    print(i)\n",
    "    sns.distplot(positive_Response_df[i],label='positive attrition')\n",
    "    sns.distplot(negative_Response_df[i], label='Negative attrition')\n",
    "    plt.show()"
   ]
  },
  {
   "cell_type": "code",
   "execution_count": 118,
   "metadata": {},
   "outputs": [
    {
     "data": {
      "text/plain": [
       "Index(['ID', 'Region_Code', 'Accomodation_Type', 'Reco_Insurance_Type',\n",
       "       'Lower_Age', 'Is_Spouse', 'Health Indicator', 'Holding_Policy_Duration',\n",
       "       'Holding_Policy_Type', 'Reco_Policy_Cat', 'Reco_Policy_Premium',\n",
       "       'Response'],\n",
       "      dtype='object')"
      ]
     },
     "execution_count": 118,
     "metadata": {},
     "output_type": "execute_result"
    }
   ],
   "source": [
    "df.columns"
   ]
  },
  {
   "cell_type": "code",
   "execution_count": 119,
   "metadata": {},
   "outputs": [
    {
     "data": {
      "text/plain": [
       "(50882, 12)"
      ]
     },
     "execution_count": 119,
     "metadata": {},
     "output_type": "execute_result"
    }
   ],
   "source": [
    "df.shape"
   ]
  },
  {
   "cell_type": "code",
   "execution_count": 120,
   "metadata": {},
   "outputs": [
    {
     "data": {
      "text/plain": [
       "0    20878\n",
       "1    12965\n",
       "2     7235\n",
       "3     6193\n",
       "4     1835\n",
       "5     1341\n",
       "6      247\n",
       "7       98\n",
       "8       90\n",
       "Name: Health Indicator, dtype: int64"
      ]
     },
     "execution_count": 120,
     "metadata": {},
     "output_type": "execute_result"
    }
   ],
   "source": [
    "df['Health Indicator'].value_counts()"
   ]
  },
  {
   "cell_type": "code",
   "execution_count": 142,
   "metadata": {},
   "outputs": [],
   "source": [
    "df['Health Indicator'].loc[(df['Health Indicator'] >5)] = np.nan\n",
    "df['Health Indicator'].fillna(5,inplace=True)\n",
    "test['Health Indicator'].loc[(test['Health Indicator'] >5)] = np.nan\n",
    "test['Health Indicator'].fillna(5,inplace=True)\n",
    "    "
   ]
  },
  {
   "cell_type": "code",
   "execution_count": 122,
   "metadata": {},
   "outputs": [
    {
     "data": {
      "text/plain": [
       "ID                         0\n",
       "Region_Code                0\n",
       "Accomodation_Type          0\n",
       "Reco_Insurance_Type        0\n",
       "Lower_Age                  0\n",
       "Is_Spouse                  0\n",
       "Health Indicator           0\n",
       "Holding_Policy_Duration    0\n",
       "Holding_Policy_Type        0\n",
       "Reco_Policy_Cat            0\n",
       "Reco_Policy_Premium        0\n",
       "Response                   0\n",
       "dtype: int64"
      ]
     },
     "execution_count": 122,
     "metadata": {},
     "output_type": "execute_result"
    }
   ],
   "source": [
    "df.isnull().sum()"
   ]
  },
  {
   "cell_type": "code",
   "execution_count": 143,
   "metadata": {},
   "outputs": [],
   "source": [
    "cat = ['Accomodation_Type','Reco_Insurance_Type','Is_Spouse', 'Holding_Policy_Type','Health Indicator']"
   ]
  },
  {
   "cell_type": "code",
   "execution_count": 144,
   "metadata": {},
   "outputs": [
    {
     "data": {
      "text/html": [
       "<div>\n",
       "<style scoped>\n",
       "    .dataframe tbody tr th:only-of-type {\n",
       "        vertical-align: middle;\n",
       "    }\n",
       "\n",
       "    .dataframe tbody tr th {\n",
       "        vertical-align: top;\n",
       "    }\n",
       "\n",
       "    .dataframe thead th {\n",
       "        text-align: right;\n",
       "    }\n",
       "</style>\n",
       "<table border=\"1\" class=\"dataframe\">\n",
       "  <thead>\n",
       "    <tr style=\"text-align: right;\">\n",
       "      <th></th>\n",
       "      <th>Accomodation_Type</th>\n",
       "      <th>Reco_Insurance_Type</th>\n",
       "      <th>Is_Spouse</th>\n",
       "      <th>Holding_Policy_Type</th>\n",
       "      <th>Health Indicator</th>\n",
       "    </tr>\n",
       "  </thead>\n",
       "  <tbody>\n",
       "    <tr>\n",
       "      <th>0</th>\n",
       "      <td>1</td>\n",
       "      <td>0</td>\n",
       "      <td>0</td>\n",
       "      <td>3.0</td>\n",
       "      <td>0.0</td>\n",
       "    </tr>\n",
       "    <tr>\n",
       "      <th>1</th>\n",
       "      <td>0</td>\n",
       "      <td>1</td>\n",
       "      <td>0</td>\n",
       "      <td>3.0</td>\n",
       "      <td>1.0</td>\n",
       "    </tr>\n",
       "    <tr>\n",
       "      <th>2</th>\n",
       "      <td>0</td>\n",
       "      <td>0</td>\n",
       "      <td>0</td>\n",
       "      <td>1.0</td>\n",
       "      <td>0.0</td>\n",
       "    </tr>\n",
       "    <tr>\n",
       "      <th>3</th>\n",
       "      <td>0</td>\n",
       "      <td>1</td>\n",
       "      <td>0</td>\n",
       "      <td>3.0</td>\n",
       "      <td>0.0</td>\n",
       "    </tr>\n",
       "    <tr>\n",
       "      <th>4</th>\n",
       "      <td>1</td>\n",
       "      <td>0</td>\n",
       "      <td>0</td>\n",
       "      <td>1.0</td>\n",
       "      <td>1.0</td>\n",
       "    </tr>\n",
       "    <tr>\n",
       "      <th>...</th>\n",
       "      <td>...</td>\n",
       "      <td>...</td>\n",
       "      <td>...</td>\n",
       "      <td>...</td>\n",
       "      <td>...</td>\n",
       "    </tr>\n",
       "    <tr>\n",
       "      <th>50877</th>\n",
       "      <td>1</td>\n",
       "      <td>0</td>\n",
       "      <td>0</td>\n",
       "      <td>3.0</td>\n",
       "      <td>2.0</td>\n",
       "    </tr>\n",
       "    <tr>\n",
       "      <th>50878</th>\n",
       "      <td>1</td>\n",
       "      <td>0</td>\n",
       "      <td>0</td>\n",
       "      <td>3.0</td>\n",
       "      <td>2.0</td>\n",
       "    </tr>\n",
       "    <tr>\n",
       "      <th>50879</th>\n",
       "      <td>1</td>\n",
       "      <td>0</td>\n",
       "      <td>0</td>\n",
       "      <td>1.0</td>\n",
       "      <td>1.0</td>\n",
       "    </tr>\n",
       "    <tr>\n",
       "      <th>50880</th>\n",
       "      <td>0</td>\n",
       "      <td>1</td>\n",
       "      <td>0</td>\n",
       "      <td>2.0</td>\n",
       "      <td>1.0</td>\n",
       "    </tr>\n",
       "    <tr>\n",
       "      <th>50881</th>\n",
       "      <td>1</td>\n",
       "      <td>0</td>\n",
       "      <td>0</td>\n",
       "      <td>3.0</td>\n",
       "      <td>2.0</td>\n",
       "    </tr>\n",
       "  </tbody>\n",
       "</table>\n",
       "<p>50882 rows × 5 columns</p>\n",
       "</div>"
      ],
      "text/plain": [
       "       Accomodation_Type  Reco_Insurance_Type  Is_Spouse  Holding_Policy_Type  \\\n",
       "0                      1                    0          0                  3.0   \n",
       "1                      0                    1          0                  3.0   \n",
       "2                      0                    0          0                  1.0   \n",
       "3                      0                    1          0                  3.0   \n",
       "4                      1                    0          0                  1.0   \n",
       "...                  ...                  ...        ...                  ...   \n",
       "50877                  1                    0          0                  3.0   \n",
       "50878                  1                    0          0                  3.0   \n",
       "50879                  1                    0          0                  1.0   \n",
       "50880                  0                    1          0                  2.0   \n",
       "50881                  1                    0          0                  3.0   \n",
       "\n",
       "       Health Indicator  \n",
       "0                   0.0  \n",
       "1                   1.0  \n",
       "2                   0.0  \n",
       "3                   0.0  \n",
       "4                   1.0  \n",
       "...                 ...  \n",
       "50877               2.0  \n",
       "50878               2.0  \n",
       "50879               1.0  \n",
       "50880               1.0  \n",
       "50881               2.0  \n",
       "\n",
       "[50882 rows x 5 columns]"
      ]
     },
     "execution_count": 144,
     "metadata": {},
     "output_type": "execute_result"
    }
   ],
   "source": [
    "catdat=df[cat]\n",
    "catdat"
   ]
  },
  {
   "cell_type": "code",
   "execution_count": 145,
   "metadata": {},
   "outputs": [],
   "source": [
    "fin =pd.concat([df,pd.get_dummies(df['Accomodation_Type'],prefix = 'Accomodation_Type'),\n",
    "           pd.get_dummies(df['Reco_Insurance_Type'],prefix = 'Reco_Insurance_Type'),\n",
    "           pd.get_dummies(df['Is_Spouse'],prefix = 'Is_Spouse'),\n",
    "           pd.get_dummies(df['Holding_Policy_Type'],prefix = 'Holding_Policy_Type'),\n",
    "           pd.get_dummies(df['Health Indicator'],prefix = 'Health Indicator')],axis=1)"
   ]
  },
  {
   "cell_type": "code",
   "execution_count": 146,
   "metadata": {},
   "outputs": [],
   "source": [
    "fin.drop(cat,axis=1,inplace=True)"
   ]
  },
  {
   "cell_type": "code",
   "execution_count": 147,
   "metadata": {},
   "outputs": [
    {
     "data": {
      "text/plain": [
       "(50882, 24)"
      ]
     },
     "execution_count": 147,
     "metadata": {},
     "output_type": "execute_result"
    }
   ],
   "source": [
    "fin.shape"
   ]
  },
  {
   "cell_type": "code",
   "execution_count": 148,
   "metadata": {},
   "outputs": [
    {
     "data": {
      "text/plain": [
       "Index(['ID', 'City_Code', 'Region_Code', 'Lower_Age',\n",
       "       'Holding_Policy_Duration', 'Reco_Policy_Cat', 'Reco_Policy_Premium',\n",
       "       'Response', 'Accomodation_Type_0', 'Accomodation_Type_1',\n",
       "       'Reco_Insurance_Type_0', 'Reco_Insurance_Type_1', 'Is_Spouse_0',\n",
       "       'Is_Spouse_1', 'Holding_Policy_Type_1.0', 'Holding_Policy_Type_2.0',\n",
       "       'Holding_Policy_Type_3.0', 'Holding_Policy_Type_4.0',\n",
       "       'Health Indicator_0.0', 'Health Indicator_1.0', 'Health Indicator_2.0',\n",
       "       'Health Indicator_3.0', 'Health Indicator_4.0', 'Health Indicator_5.0'],\n",
       "      dtype='object')"
      ]
     },
     "execution_count": 148,
     "metadata": {},
     "output_type": "execute_result"
    }
   ],
   "source": [
    "fin.columns"
   ]
  },
  {
   "cell_type": "code",
   "execution_count": null,
   "metadata": {},
   "outputs": [],
   "source": []
  },
  {
   "cell_type": "code",
   "execution_count": null,
   "metadata": {},
   "outputs": [],
   "source": []
  },
  {
   "cell_type": "code",
   "execution_count": null,
   "metadata": {},
   "outputs": [],
   "source": []
  },
  {
   "cell_type": "code",
   "execution_count": null,
   "metadata": {},
   "outputs": [],
   "source": []
  },
  {
   "cell_type": "code",
   "execution_count": null,
   "metadata": {},
   "outputs": [],
   "source": []
  },
  {
   "cell_type": "code",
   "execution_count": null,
   "metadata": {},
   "outputs": [],
   "source": []
  },
  {
   "cell_type": "code",
   "execution_count": null,
   "metadata": {},
   "outputs": [],
   "source": []
  },
  {
   "cell_type": "code",
   "execution_count": null,
   "metadata": {},
   "outputs": [],
   "source": []
  },
  {
   "cell_type": "code",
   "execution_count": null,
   "metadata": {},
   "outputs": [],
   "source": []
  },
  {
   "cell_type": "code",
   "execution_count": null,
   "metadata": {},
   "outputs": [],
   "source": []
  },
  {
   "cell_type": "code",
   "execution_count": null,
   "metadata": {},
   "outputs": [],
   "source": []
  },
  {
   "cell_type": "code",
   "execution_count": 39,
   "metadata": {},
   "outputs": [],
   "source": [
    "from sklearn.preprocessing import OneHotEncoder"
   ]
  },
  {
   "cell_type": "code",
   "execution_count": 40,
   "metadata": {},
   "outputs": [],
   "source": [
    "from sklearn.feature_selection import mutual_info_classif\n",
    "from sklearn.feature_selection import chi2\n",
    "input_data = df"
   ]
  },
  {
   "cell_type": "code",
   "execution_count": 41,
   "metadata": {},
   "outputs": [
    {
     "data": {
      "text/plain": [
       "ID                         0\n",
       "Region_Code                0\n",
       "Accomodation_Type          0\n",
       "Reco_Insurance_Type        0\n",
       "Lower_Age                  0\n",
       "Is_Spouse                  0\n",
       "Health Indicator           0\n",
       "Holding_Policy_Duration    0\n",
       "Holding_Policy_Type        0\n",
       "Reco_Policy_Cat            0\n",
       "Reco_Policy_Premium        0\n",
       "Response                   0\n",
       "dtype: int64"
      ]
     },
     "execution_count": 41,
     "metadata": {},
     "output_type": "execute_result"
    }
   ],
   "source": [
    "input_data.isnull().sum()"
   ]
  },
  {
   "cell_type": "code",
   "execution_count": 42,
   "metadata": {},
   "outputs": [],
   "source": [
    "target_data = df['Response']"
   ]
  },
  {
   "cell_type": "code",
   "execution_count": 50,
   "metadata": {},
   "outputs": [],
   "source": [
    "lst = list()"
   ]
  },
  {
   "cell_type": "code",
   "execution_count": 59,
   "metadata": {},
   "outputs": [
    {
     "data": {
      "text/html": [
       "<div>\n",
       "<style scoped>\n",
       "    .dataframe tbody tr th:only-of-type {\n",
       "        vertical-align: middle;\n",
       "    }\n",
       "\n",
       "    .dataframe tbody tr th {\n",
       "        vertical-align: top;\n",
       "    }\n",
       "\n",
       "    .dataframe thead th {\n",
       "        text-align: right;\n",
       "    }\n",
       "</style>\n",
       "<table border=\"1\" class=\"dataframe\">\n",
       "  <thead>\n",
       "    <tr style=\"text-align: right;\">\n",
       "      <th></th>\n",
       "      <th>Holding_Policy_Duration</th>\n",
       "      <th>Holding_Policy_Type</th>\n",
       "      <th>Reco_Policy_Premium</th>\n",
       "      <th>ID</th>\n",
       "      <th>Accomodation_Type</th>\n",
       "      <th>Reco_Insurance_Type</th>\n",
       "      <th>Reco_Policy_Cat</th>\n",
       "      <th>Response</th>\n",
       "      <th>Lower_Age</th>\n",
       "    </tr>\n",
       "  </thead>\n",
       "  <tbody>\n",
       "    <tr>\n",
       "      <th>0</th>\n",
       "      <td>15</td>\n",
       "      <td>3.0</td>\n",
       "      <td>9.361171</td>\n",
       "      <td>1</td>\n",
       "      <td>1</td>\n",
       "      <td>0</td>\n",
       "      <td>22</td>\n",
       "      <td>0</td>\n",
       "      <td>36</td>\n",
       "    </tr>\n",
       "    <tr>\n",
       "      <th>1</th>\n",
       "      <td>15</td>\n",
       "      <td>3.0</td>\n",
       "      <td>10.325810</td>\n",
       "      <td>2</td>\n",
       "      <td>0</td>\n",
       "      <td>1</td>\n",
       "      <td>22</td>\n",
       "      <td>0</td>\n",
       "      <td>22</td>\n",
       "    </tr>\n",
       "    <tr>\n",
       "      <th>2</th>\n",
       "      <td>1</td>\n",
       "      <td>1.0</td>\n",
       "      <td>8.915969</td>\n",
       "      <td>3</td>\n",
       "      <td>0</td>\n",
       "      <td>0</td>\n",
       "      <td>19</td>\n",
       "      <td>1</td>\n",
       "      <td>32</td>\n",
       "    </tr>\n",
       "    <tr>\n",
       "      <th>3</th>\n",
       "      <td>15</td>\n",
       "      <td>3.0</td>\n",
       "      <td>9.785830</td>\n",
       "      <td>4</td>\n",
       "      <td>0</td>\n",
       "      <td>1</td>\n",
       "      <td>19</td>\n",
       "      <td>0</td>\n",
       "      <td>48</td>\n",
       "    </tr>\n",
       "    <tr>\n",
       "      <th>4</th>\n",
       "      <td>3</td>\n",
       "      <td>1.0</td>\n",
       "      <td>9.249946</td>\n",
       "      <td>5</td>\n",
       "      <td>1</td>\n",
       "      <td>0</td>\n",
       "      <td>16</td>\n",
       "      <td>0</td>\n",
       "      <td>44</td>\n",
       "    </tr>\n",
       "  </tbody>\n",
       "</table>\n",
       "</div>"
      ],
      "text/plain": [
       "   Holding_Policy_Duration  Holding_Policy_Type  Reco_Policy_Premium  ID  \\\n",
       "0                       15                  3.0             9.361171   1   \n",
       "1                       15                  3.0            10.325810   2   \n",
       "2                        1                  1.0             8.915969   3   \n",
       "3                       15                  3.0             9.785830   4   \n",
       "4                        3                  1.0             9.249946   5   \n",
       "\n",
       "   Accomodation_Type  Reco_Insurance_Type  Reco_Policy_Cat  Response  \\\n",
       "0                  1                    0               22         0   \n",
       "1                  0                    1               22         0   \n",
       "2                  0                    0               19         1   \n",
       "3                  0                    1               19         0   \n",
       "4                  1                    0               16         0   \n",
       "\n",
       "   Lower_Age  \n",
       "0         36  \n",
       "1         22  \n",
       "2         32  \n",
       "3         48  \n",
       "4         44  "
      ]
     },
     "execution_count": 59,
     "metadata": {},
     "output_type": "execute_result"
    }
   ],
   "source": [
    "fin.head()"
   ]
  },
  {
   "cell_type": "code",
   "execution_count": 51,
   "metadata": {},
   "outputs": [
    {
     "name": "stdout",
     "output_type": "stream",
     "text": [
      "Response 0.5517169006763052\n",
      "Reco_Policy_Cat 0.02307267446166783\n",
      "Reco_Policy_Premium 0.004653616876373556\n",
      "Holding_Policy_Type 0.004629269051666496\n",
      "Reco_Insurance_Type 0.002438760537012419\n",
      "Lower_Age 0.0021320959543564832\n",
      "Holding_Policy_Duration 0.001574013178961442\n"
     ]
    }
   ],
   "source": [
    "col_values = list(input_data.columns.values)\n",
    "feature_scores = mutual_info_classif(input_data, target_data)\n",
    "for score, fname in sorted(zip(feature_scores, col_values), reverse=True)[:7]:#Displays top 15\n",
    "    print(fname, score)\n",
    "    lst.append(fname)"
   ]
  },
  {
   "cell_type": "code",
   "execution_count": 52,
   "metadata": {},
   "outputs": [
    {
     "name": "stdout",
     "output_type": "stream",
     "text": [
      "Response 38673.0\n",
      "ID 11483.328483138204\n",
      "Reco_Policy_Cat 1768.7263858991034\n",
      "Holding_Policy_Duration 80.08925393663186\n",
      "Reco_Insurance_Type 3.965972188162686\n",
      "Lower_Age 1.5729296302442544\n",
      "Accomodation_Type 0.7561145696017539\n"
     ]
    }
   ],
   "source": [
    "feature_scores = chi2(input_data, target_data)[0]\n",
    "for score, fname in sorted(zip(feature_scores, col_values), reverse=True)[:7]:#display Top 15\n",
    "    print(fname, score)\n",
    "    lst.append(fname)"
   ]
  },
  {
   "cell_type": "code",
   "execution_count": 54,
   "metadata": {},
   "outputs": [
    {
     "data": {
      "text/plain": [
       "['Holding_Policy_Duration',\n",
       " 'Holding_Policy_Type',\n",
       " 'Reco_Policy_Premium',\n",
       " 'ID',\n",
       " 'Accomodation_Type',\n",
       " 'Reco_Insurance_Type',\n",
       " 'Reco_Policy_Cat',\n",
       " 'Response',\n",
       " 'Lower_Age']"
      ]
     },
     "execution_count": 54,
     "metadata": {},
     "output_type": "execute_result"
    }
   ],
   "source": [
    "list(set(lst))"
   ]
  },
  {
   "cell_type": "code",
   "execution_count": 55,
   "metadata": {},
   "outputs": [],
   "source": [
    "fin = df[list(set(lst))]"
   ]
  },
  {
   "cell_type": "code",
   "execution_count": 129,
   "metadata": {},
   "outputs": [],
   "source": [
    "X  = fin[fin.drop(['ID','Response'],axis=1).columns]\n",
    "y= fin['Response']"
   ]
  },
  {
   "cell_type": "code",
   "execution_count": 130,
   "metadata": {},
   "outputs": [],
   "source": [
    "from sklearn.ensemble import RandomForestClassifier\n",
    "from sklearn.ensemble import GradientBoostingClassifier\n",
    "from sklearn.naive_bayes import GaussianNB\n",
    "from sklearn.ensemble import AdaBoostClassifier\n",
    "from sklearn.neural_network import MLPClassifier"
   ]
  },
  {
   "cell_type": "code",
   "execution_count": 149,
   "metadata": {},
   "outputs": [],
   "source": [
    "clf = GradientBoostingClassifier(n_estimators=80, learning_rate=0.1,max_depth=7, random_state=0).fit(X,y)\n",
    "clf2 = RandomForestClassifier(n_estimators=80).fit(X,y)\n",
    "clf3 = GaussianNB().fit(X,y)\n",
    "clf4= MLPClassifier(random_state=1,max_iter=120, activation='logistic',solver='sgd',learning_rate=\"adaptive\").fit(X, y)\n",
    "clf5= AdaBoostClassifier(n_estimators=120, random_state=0).fit(X,y)"
   ]
  },
  {
   "cell_type": "code",
   "execution_count": 150,
   "metadata": {},
   "outputs": [
    {
     "data": {
      "text/plain": [
       "Index(['Region_Code', 'Lower_Age', 'Holding_Policy_Duration',\n",
       "       'Reco_Policy_Cat', 'Reco_Policy_Premium', 'Accomodation_Type_0',\n",
       "       'Accomodation_Type_1', 'Reco_Insurance_Type_0', 'Reco_Insurance_Type_1',\n",
       "       'Is_Spouse_0', 'Is_Spouse_1', 'Holding_Policy_Type_1.0',\n",
       "       'Holding_Policy_Type_2.0', 'Holding_Policy_Type_3.0',\n",
       "       'Holding_Policy_Type_4.0', 'Health Indicator_0.0',\n",
       "       'Health Indicator_1.0', 'Health Indicator_2.0', 'Health Indicator_3.0',\n",
       "       'Health Indicator_4.0', 'Health Indicator_5.0'],\n",
       "      dtype='object')"
      ]
     },
     "execution_count": 150,
     "metadata": {},
     "output_type": "execute_result"
    }
   ],
   "source": [
    "X.columns"
   ]
  },
  {
   "cell_type": "code",
   "execution_count": 151,
   "metadata": {},
   "outputs": [],
   "source": [
    "fintes =pd.concat([test,pd.get_dummies(test['Accomodation_Type'],prefix = 'Accomodation_Type'),\n",
    "           pd.get_dummies(test['Reco_Insurance_Type'],prefix = 'Reco_Insurance_Type'),\n",
    "           pd.get_dummies(test['Is_Spouse'],prefix = 'Is_Spouse'),\n",
    "           pd.get_dummies(test['Holding_Policy_Type'],prefix = 'Holding_Policy_Type'),\n",
    "           pd.get_dummies(test['Health Indicator'],prefix = 'Health Indicator')],axis=1)"
   ]
  },
  {
   "cell_type": "code",
   "execution_count": 152,
   "metadata": {},
   "outputs": [],
   "source": [
    "test = fintes.drop(cat,axis=1,inplace=False)"
   ]
  },
  {
   "cell_type": "code",
   "execution_count": 153,
   "metadata": {},
   "outputs": [
    {
     "data": {
      "text/plain": [
       "Index(['ID', 'City_Code', 'Region_Code', 'Lower_Age',\n",
       "       'Holding_Policy_Duration', 'Reco_Policy_Cat', 'Reco_Policy_Premium',\n",
       "       'Accomodation_Type_0', 'Accomodation_Type_1', 'Reco_Insurance_Type_0',\n",
       "       'Reco_Insurance_Type_1', 'Is_Spouse_0', 'Is_Spouse_1',\n",
       "       'Holding_Policy_Type_1', 'Holding_Policy_Type_2',\n",
       "       'Holding_Policy_Type_3', 'Holding_Policy_Type_4',\n",
       "       'Health Indicator_0.0', 'Health Indicator_1.0', 'Health Indicator_2.0',\n",
       "       'Health Indicator_3.0', 'Health Indicator_4.0', 'Health Indicator_5.0'],\n",
       "      dtype='object')"
      ]
     },
     "execution_count": 153,
     "metadata": {},
     "output_type": "execute_result"
    }
   ],
   "source": [
    "test.columns"
   ]
  },
  {
   "cell_type": "code",
   "execution_count": null,
   "metadata": {},
   "outputs": [],
   "source": []
  },
  {
   "cell_type": "code",
   "execution_count": 154,
   "metadata": {},
   "outputs": [],
   "source": [
    "out1 = clf.predict_proba(test.drop(['ID', 'City_Code'],axis=1))[:,1]\n",
    "out2 = clf2.predict_proba(test.drop(['ID', 'City_Code'],axis=1))[:,1]\n",
    "out3 = clf3.predict_proba(test.drop(['ID', 'City_Code'],axis=1))[:,1]\n",
    "out4 = clf4.predict_proba(test.drop(['ID', 'City_Code'],axis=1))[:,1]\n",
    "out5 = clf5.predict_proba(test.drop(['ID', 'City_Code'],axis=1))[:,1]\n"
   ]
  },
  {
   "cell_type": "code",
   "execution_count": 155,
   "metadata": {},
   "outputs": [],
   "source": [
    "out = (out1+out2+out3+out4+out5)/5"
   ]
  },
  {
   "cell_type": "code",
   "execution_count": 156,
   "metadata": {},
   "outputs": [],
   "source": [
    "ot = pd.DataFrame()\n",
    "ot['ID']=test['ID']\n",
    "ot['Response'] = pd.Series(out)\n",
    "ot.to_csv(\"output.csv\",index=False)"
   ]
  },
  {
   "cell_type": "code",
   "execution_count": null,
   "metadata": {},
   "outputs": [],
   "source": []
  }
 ],
 "metadata": {
  "kernelspec": {
   "display_name": "Python 3",
   "language": "python",
   "name": "python3"
  },
  "language_info": {
   "codemirror_mode": {
    "name": "ipython",
    "version": 3
   },
   "file_extension": ".py",
   "mimetype": "text/x-python",
   "name": "python",
   "nbconvert_exporter": "python",
   "pygments_lexer": "ipython3",
   "version": "3.8.3"
  }
 },
 "nbformat": 4,
 "nbformat_minor": 4
}
